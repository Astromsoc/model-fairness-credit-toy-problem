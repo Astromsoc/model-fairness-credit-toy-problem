{
 "cells": [
  {
   "cell_type": "markdown",
   "id": "e70dff38",
   "metadata": {},
   "source": [
    "# Task 3: Improving Fairness\n",
    "\n",
    "###  **__ATTRIBUTE CHOSEN__: Gender"
   ]
  },
  {
   "cell_type": "markdown",
   "id": "8e5f7fa0",
   "metadata": {},
   "source": [
    "## Import libraries and functions"
   ]
  },
  {
   "cell_type": "code",
   "execution_count": 1,
   "id": "f0810efd",
   "metadata": {},
   "outputs": [],
   "source": [
    "import pandas as pd\n",
    "import plotly.graph_objs as go\n",
    "\n",
    "# model: choose RF for its overall good performance\n",
    "from sklearn.metrics import confusion_matrix, accuracy_score, precision_recall_fscore_support\n",
    "from sklearn.ensemble import RandomForestClassifier\n",
    "from sklearn.model_selection import train_test_split\n",
    "\n",
    "# constants\n",
    "from const import *\n",
    "\n",
    "# udfs\n",
    "from utils import *"
   ]
  },
  {
   "cell_type": "markdown",
   "id": "ad98e594",
   "metadata": {},
   "source": [
    "## Load and Split Dataset"
   ]
  },
  {
   "cell_type": "code",
   "execution_count": 2,
   "id": "6d7ba56b",
   "metadata": {},
   "outputs": [],
   "source": [
    "# load data\n",
    "labeled_df_raw = pd.read_csv('../' + LABELED_DATA_PATH).drop('Unnamed: 0', axis=1)\n",
    "labeled_y, labeled_X = labeled_df_raw['Risk'], labeled_df_raw.drop('Risk', axis=1)\n",
    "\n",
    "# split data into training and validation subsets\n",
    "train_X, val_X, train_y, val_y = train_test_split(labeled_X, labeled_y, test_size=VAL_RATIO, random_state=RANDOM_SEED)\n",
    "\n",
    "# merge inputs and labels together for validation sets to better access within one dataframe\n",
    "val_full = pd.merge(val_X, val_y, left_index=True, right_index=True)"
   ]
  },
  {
   "cell_type": "markdown",
   "id": "f08ec054",
   "metadata": {},
   "source": [
    "## Baseline Model: with All Attributes Present"
   ]
  },
  {
   "cell_type": "code",
   "execution_count": 3,
   "id": "ba2a5e0f",
   "metadata": {},
   "outputs": [
    {
     "name": "stdout",
     "output_type": "stream",
     "text": [
      "\n",
      "\n",
      "Confusion Matrix: Nothing Protected (Baseline)\n",
      "\n",
      "------------- Confusion Matrix (Count) --------------\n",
      "                  Predictably Good    Predictably Bad\n",
      "--------------  ------------------  -----------------\n",
      "Factually Good                 117                 17\n",
      "Factually Bad                   37                 29\n",
      "-----------------------------------------------------\n",
      "\n",
      "\n",
      "------------- Confusion Matrix (Ratio) --------------\n",
      "                  Predictably Good    Predictably Bad\n",
      "--------------  ------------------  -----------------\n",
      "Factually Good               0.585              0.085\n",
      "Factually Bad                0.185              0.145\n",
      "-----------------------------------------------------\n"
     ]
    }
   ],
   "source": [
    "# Similarly using the anti-classification function with no attribute protected\n",
    "val_full = anti_classification(\n",
    "    'None', RandomForestClassifier(), 'RF', train_X, train_y, val_full, True\n",
    ")\n",
    "\n",
    "# obtain needed column names\n",
    "pred_col = 'Risk_pred(protected=None, model=RF)'\n",
    "true_col = 'Risk'\n",
    "\n",
    "# obtain the confusion matrix on full results\n",
    "print(\"\\n\\nConfusion Matrix: Nothing Protected (Baseline)\\n\")\n",
    "_ = print_confusion_matrix(confusion_matrix(val_full[true_col], val_full[[pred_col]]))"
   ]
  },
  {
   "cell_type": "markdown",
   "id": "7d015c8b",
   "metadata": {},
   "source": [
    "### Baseline Results\n",
    "\n",
    "Accuracy, precision, recall and f1 score."
   ]
  },
  {
   "cell_type": "code",
   "execution_count": 4,
   "id": "a339776a",
   "metadata": {},
   "outputs": [
    {
     "name": "stdout",
     "output_type": "stream",
     "text": [
      "\n",
      "Baseline Results:\n",
      "Accuracy:  0.7300\n",
      "Precision: 0.6951\n",
      "Recall:    0.6563\n",
      "F1 Score:  0.6652\n",
      "\n"
     ]
    }
   ],
   "source": [
    "# print out the original results\n",
    "baseline_acc = accuracy_score(val_full[true_col], val_full[pred_col])\n",
    "\n",
    "baseline_precision, baseline_recall, baseline_f1, _ = precision_recall_fscore_support(\n",
    "    val_full[true_col], val_full[pred_col], average='macro'\n",
    ")\n",
    "\n",
    "print(f\"\\nBaseline Results:\")\n",
    "print(f\"Accuracy:  {baseline_acc:.4f}\")\n",
    "print(f\"Precision: {baseline_precision:.4f}\")\n",
    "print(f\"Recall:    {baseline_recall:.4f}\")\n",
    "print(f\"F1 Score:  {baseline_f1:.4f}\\n\")"
   ]
  },
  {
   "cell_type": "code",
   "execution_count": 5,
   "id": "0673666f",
   "metadata": {},
   "outputs": [
    {
     "name": "stdout",
     "output_type": "stream",
     "text": [
      "SUBGROUP - FEMALE:\n",
      "------------- Confusion Matrix (Count) --------------\n",
      "                  Predictably Good    Predictably Bad\n",
      "--------------  ------------------  -----------------\n",
      "Factually Good                  28                  5\n",
      "Factually Bad                   12                 15\n",
      "-----------------------------------------------------\n",
      "\n",
      "\n",
      "------------- Confusion Matrix (Ratio) --------------\n",
      "                  Predictably Good    Predictably Bad\n",
      "--------------  ------------------  -----------------\n",
      "Factually Good              0.4667             0.0833\n",
      "Factually Bad               0.2                0.25\n",
      "-----------------------------------------------------\n",
      "\n",
      "\n",
      "\n",
      "SUBGROUP - MALE:\n",
      "------------- Confusion Matrix (Count) --------------\n",
      "                  Predictably Good    Predictably Bad\n",
      "--------------  ------------------  -----------------\n",
      "Factually Good                  89                 12\n",
      "Factually Bad                   25                 14\n",
      "-----------------------------------------------------\n",
      "\n",
      "\n",
      "------------- Confusion Matrix (Ratio) --------------\n",
      "                  Predictably Good    Predictably Bad\n",
      "--------------  ------------------  -----------------\n",
      "Factually Good              0.6357             0.0857\n",
      "Factually Bad               0.1786             0.1\n",
      "-----------------------------------------------------\n",
      "\n",
      "\n",
      "\n"
     ]
    }
   ],
   "source": [
    "# obtain the original confusion matrix elements per-subgroup\n",
    "tpr_sex, fpr_sex, fnr_sex, tnr_sex  = dict(), dict(), dict(), dict()\n",
    "for gender in ('female', 'male'):\n",
    "    print(f\"SUBGROUP - {gender.upper()}:\")\n",
    "    tpr_sex[gender], fpr_sex[gender], fnr_sex[gender], tnr_sex[gender] = print_confusion_matrix(confusion_matrix(\n",
    "        val_full[val_full['Sex']==gender][true_col], \n",
    "        val_full[val_full['Sex']==gender][pred_col]\n",
    "    ))\n",
    "    print(\"\\n\\n\")"
   ]
  },
  {
   "cell_type": "code",
   "execution_count": 6,
   "id": "128d94c4",
   "metadata": {},
   "outputs": [
    {
     "data": {
      "application/vnd.plotly.v1+json": {
       "config": {
        "plotlyServerURL": "https://plot.ly"
       },
       "data": [
        {
         "marker": {
          "color": "#F3A291"
         },
         "name": "true positive rate",
         "opacity": 0.75,
         "type": "bar",
         "x": [
          "female",
          "male"
         ],
         "y": [
          0.4666666666666667,
          0.6357142857142857
         ]
        },
        {
         "marker": {
          "color": "#F3CA91"
         },
         "name": "false positive rate",
         "opacity": 0.75,
         "type": "bar",
         "x": [
          "female",
          "male"
         ],
         "y": [
          0.2,
          0.17857142857142858
         ]
        },
        {
         "marker": {
          "color": "#CAF391"
         },
         "name": "false negative rate",
         "opacity": 0.75,
         "type": "bar",
         "x": [
          "female",
          "male"
         ],
         "y": [
          0.08333333333333333,
          0.08571428571428572
         ]
        },
        {
         "marker": {
          "color": "#91F3D1"
         },
         "name": "true negative rate",
         "opacity": 0.75,
         "type": "bar",
         "x": [
          "female",
          "male"
         ],
         "y": [
          0.25,
          0.1
         ]
        }
       ],
       "layout": {
        "height": 500,
        "template": {
         "data": {
          "bar": [
           {
            "error_x": {
             "color": "#2a3f5f"
            },
            "error_y": {
             "color": "#2a3f5f"
            },
            "marker": {
             "line": {
              "color": "#E5ECF6",
              "width": 0.5
             },
             "pattern": {
              "fillmode": "overlay",
              "size": 10,
              "solidity": 0.2
             }
            },
            "type": "bar"
           }
          ],
          "barpolar": [
           {
            "marker": {
             "line": {
              "color": "#E5ECF6",
              "width": 0.5
             },
             "pattern": {
              "fillmode": "overlay",
              "size": 10,
              "solidity": 0.2
             }
            },
            "type": "barpolar"
           }
          ],
          "carpet": [
           {
            "aaxis": {
             "endlinecolor": "#2a3f5f",
             "gridcolor": "white",
             "linecolor": "white",
             "minorgridcolor": "white",
             "startlinecolor": "#2a3f5f"
            },
            "baxis": {
             "endlinecolor": "#2a3f5f",
             "gridcolor": "white",
             "linecolor": "white",
             "minorgridcolor": "white",
             "startlinecolor": "#2a3f5f"
            },
            "type": "carpet"
           }
          ],
          "choropleth": [
           {
            "colorbar": {
             "outlinewidth": 0,
             "ticks": ""
            },
            "type": "choropleth"
           }
          ],
          "contour": [
           {
            "colorbar": {
             "outlinewidth": 0,
             "ticks": ""
            },
            "colorscale": [
             [
              0,
              "#0d0887"
             ],
             [
              0.1111111111111111,
              "#46039f"
             ],
             [
              0.2222222222222222,
              "#7201a8"
             ],
             [
              0.3333333333333333,
              "#9c179e"
             ],
             [
              0.4444444444444444,
              "#bd3786"
             ],
             [
              0.5555555555555556,
              "#d8576b"
             ],
             [
              0.6666666666666666,
              "#ed7953"
             ],
             [
              0.7777777777777778,
              "#fb9f3a"
             ],
             [
              0.8888888888888888,
              "#fdca26"
             ],
             [
              1,
              "#f0f921"
             ]
            ],
            "type": "contour"
           }
          ],
          "contourcarpet": [
           {
            "colorbar": {
             "outlinewidth": 0,
             "ticks": ""
            },
            "type": "contourcarpet"
           }
          ],
          "heatmap": [
           {
            "colorbar": {
             "outlinewidth": 0,
             "ticks": ""
            },
            "colorscale": [
             [
              0,
              "#0d0887"
             ],
             [
              0.1111111111111111,
              "#46039f"
             ],
             [
              0.2222222222222222,
              "#7201a8"
             ],
             [
              0.3333333333333333,
              "#9c179e"
             ],
             [
              0.4444444444444444,
              "#bd3786"
             ],
             [
              0.5555555555555556,
              "#d8576b"
             ],
             [
              0.6666666666666666,
              "#ed7953"
             ],
             [
              0.7777777777777778,
              "#fb9f3a"
             ],
             [
              0.8888888888888888,
              "#fdca26"
             ],
             [
              1,
              "#f0f921"
             ]
            ],
            "type": "heatmap"
           }
          ],
          "heatmapgl": [
           {
            "colorbar": {
             "outlinewidth": 0,
             "ticks": ""
            },
            "colorscale": [
             [
              0,
              "#0d0887"
             ],
             [
              0.1111111111111111,
              "#46039f"
             ],
             [
              0.2222222222222222,
              "#7201a8"
             ],
             [
              0.3333333333333333,
              "#9c179e"
             ],
             [
              0.4444444444444444,
              "#bd3786"
             ],
             [
              0.5555555555555556,
              "#d8576b"
             ],
             [
              0.6666666666666666,
              "#ed7953"
             ],
             [
              0.7777777777777778,
              "#fb9f3a"
             ],
             [
              0.8888888888888888,
              "#fdca26"
             ],
             [
              1,
              "#f0f921"
             ]
            ],
            "type": "heatmapgl"
           }
          ],
          "histogram": [
           {
            "marker": {
             "pattern": {
              "fillmode": "overlay",
              "size": 10,
              "solidity": 0.2
             }
            },
            "type": "histogram"
           }
          ],
          "histogram2d": [
           {
            "colorbar": {
             "outlinewidth": 0,
             "ticks": ""
            },
            "colorscale": [
             [
              0,
              "#0d0887"
             ],
             [
              0.1111111111111111,
              "#46039f"
             ],
             [
              0.2222222222222222,
              "#7201a8"
             ],
             [
              0.3333333333333333,
              "#9c179e"
             ],
             [
              0.4444444444444444,
              "#bd3786"
             ],
             [
              0.5555555555555556,
              "#d8576b"
             ],
             [
              0.6666666666666666,
              "#ed7953"
             ],
             [
              0.7777777777777778,
              "#fb9f3a"
             ],
             [
              0.8888888888888888,
              "#fdca26"
             ],
             [
              1,
              "#f0f921"
             ]
            ],
            "type": "histogram2d"
           }
          ],
          "histogram2dcontour": [
           {
            "colorbar": {
             "outlinewidth": 0,
             "ticks": ""
            },
            "colorscale": [
             [
              0,
              "#0d0887"
             ],
             [
              0.1111111111111111,
              "#46039f"
             ],
             [
              0.2222222222222222,
              "#7201a8"
             ],
             [
              0.3333333333333333,
              "#9c179e"
             ],
             [
              0.4444444444444444,
              "#bd3786"
             ],
             [
              0.5555555555555556,
              "#d8576b"
             ],
             [
              0.6666666666666666,
              "#ed7953"
             ],
             [
              0.7777777777777778,
              "#fb9f3a"
             ],
             [
              0.8888888888888888,
              "#fdca26"
             ],
             [
              1,
              "#f0f921"
             ]
            ],
            "type": "histogram2dcontour"
           }
          ],
          "mesh3d": [
           {
            "colorbar": {
             "outlinewidth": 0,
             "ticks": ""
            },
            "type": "mesh3d"
           }
          ],
          "parcoords": [
           {
            "line": {
             "colorbar": {
              "outlinewidth": 0,
              "ticks": ""
             }
            },
            "type": "parcoords"
           }
          ],
          "pie": [
           {
            "automargin": true,
            "type": "pie"
           }
          ],
          "scatter": [
           {
            "fillpattern": {
             "fillmode": "overlay",
             "size": 10,
             "solidity": 0.2
            },
            "type": "scatter"
           }
          ],
          "scatter3d": [
           {
            "line": {
             "colorbar": {
              "outlinewidth": 0,
              "ticks": ""
             }
            },
            "marker": {
             "colorbar": {
              "outlinewidth": 0,
              "ticks": ""
             }
            },
            "type": "scatter3d"
           }
          ],
          "scattercarpet": [
           {
            "marker": {
             "colorbar": {
              "outlinewidth": 0,
              "ticks": ""
             }
            },
            "type": "scattercarpet"
           }
          ],
          "scattergeo": [
           {
            "marker": {
             "colorbar": {
              "outlinewidth": 0,
              "ticks": ""
             }
            },
            "type": "scattergeo"
           }
          ],
          "scattergl": [
           {
            "marker": {
             "colorbar": {
              "outlinewidth": 0,
              "ticks": ""
             }
            },
            "type": "scattergl"
           }
          ],
          "scattermapbox": [
           {
            "marker": {
             "colorbar": {
              "outlinewidth": 0,
              "ticks": ""
             }
            },
            "type": "scattermapbox"
           }
          ],
          "scatterpolar": [
           {
            "marker": {
             "colorbar": {
              "outlinewidth": 0,
              "ticks": ""
             }
            },
            "type": "scatterpolar"
           }
          ],
          "scatterpolargl": [
           {
            "marker": {
             "colorbar": {
              "outlinewidth": 0,
              "ticks": ""
             }
            },
            "type": "scatterpolargl"
           }
          ],
          "scatterternary": [
           {
            "marker": {
             "colorbar": {
              "outlinewidth": 0,
              "ticks": ""
             }
            },
            "type": "scatterternary"
           }
          ],
          "surface": [
           {
            "colorbar": {
             "outlinewidth": 0,
             "ticks": ""
            },
            "colorscale": [
             [
              0,
              "#0d0887"
             ],
             [
              0.1111111111111111,
              "#46039f"
             ],
             [
              0.2222222222222222,
              "#7201a8"
             ],
             [
              0.3333333333333333,
              "#9c179e"
             ],
             [
              0.4444444444444444,
              "#bd3786"
             ],
             [
              0.5555555555555556,
              "#d8576b"
             ],
             [
              0.6666666666666666,
              "#ed7953"
             ],
             [
              0.7777777777777778,
              "#fb9f3a"
             ],
             [
              0.8888888888888888,
              "#fdca26"
             ],
             [
              1,
              "#f0f921"
             ]
            ],
            "type": "surface"
           }
          ],
          "table": [
           {
            "cells": {
             "fill": {
              "color": "#EBF0F8"
             },
             "line": {
              "color": "white"
             }
            },
            "header": {
             "fill": {
              "color": "#C8D4E3"
             },
             "line": {
              "color": "white"
             }
            },
            "type": "table"
           }
          ]
         },
         "layout": {
          "annotationdefaults": {
           "arrowcolor": "#2a3f5f",
           "arrowhead": 0,
           "arrowwidth": 1
          },
          "autotypenumbers": "strict",
          "coloraxis": {
           "colorbar": {
            "outlinewidth": 0,
            "ticks": ""
           }
          },
          "colorscale": {
           "diverging": [
            [
             0,
             "#8e0152"
            ],
            [
             0.1,
             "#c51b7d"
            ],
            [
             0.2,
             "#de77ae"
            ],
            [
             0.3,
             "#f1b6da"
            ],
            [
             0.4,
             "#fde0ef"
            ],
            [
             0.5,
             "#f7f7f7"
            ],
            [
             0.6,
             "#e6f5d0"
            ],
            [
             0.7,
             "#b8e186"
            ],
            [
             0.8,
             "#7fbc41"
            ],
            [
             0.9,
             "#4d9221"
            ],
            [
             1,
             "#276419"
            ]
           ],
           "sequential": [
            [
             0,
             "#0d0887"
            ],
            [
             0.1111111111111111,
             "#46039f"
            ],
            [
             0.2222222222222222,
             "#7201a8"
            ],
            [
             0.3333333333333333,
             "#9c179e"
            ],
            [
             0.4444444444444444,
             "#bd3786"
            ],
            [
             0.5555555555555556,
             "#d8576b"
            ],
            [
             0.6666666666666666,
             "#ed7953"
            ],
            [
             0.7777777777777778,
             "#fb9f3a"
            ],
            [
             0.8888888888888888,
             "#fdca26"
            ],
            [
             1,
             "#f0f921"
            ]
           ],
           "sequentialminus": [
            [
             0,
             "#0d0887"
            ],
            [
             0.1111111111111111,
             "#46039f"
            ],
            [
             0.2222222222222222,
             "#7201a8"
            ],
            [
             0.3333333333333333,
             "#9c179e"
            ],
            [
             0.4444444444444444,
             "#bd3786"
            ],
            [
             0.5555555555555556,
             "#d8576b"
            ],
            [
             0.6666666666666666,
             "#ed7953"
            ],
            [
             0.7777777777777778,
             "#fb9f3a"
            ],
            [
             0.8888888888888888,
             "#fdca26"
            ],
            [
             1,
             "#f0f921"
            ]
           ]
          },
          "colorway": [
           "#636efa",
           "#EF553B",
           "#00cc96",
           "#ab63fa",
           "#FFA15A",
           "#19d3f3",
           "#FF6692",
           "#B6E880",
           "#FF97FF",
           "#FECB52"
          ],
          "font": {
           "color": "#2a3f5f"
          },
          "geo": {
           "bgcolor": "white",
           "lakecolor": "white",
           "landcolor": "#E5ECF6",
           "showlakes": true,
           "showland": true,
           "subunitcolor": "white"
          },
          "hoverlabel": {
           "align": "left"
          },
          "hovermode": "closest",
          "mapbox": {
           "style": "light"
          },
          "paper_bgcolor": "white",
          "plot_bgcolor": "#E5ECF6",
          "polar": {
           "angularaxis": {
            "gridcolor": "white",
            "linecolor": "white",
            "ticks": ""
           },
           "bgcolor": "#E5ECF6",
           "radialaxis": {
            "gridcolor": "white",
            "linecolor": "white",
            "ticks": ""
           }
          },
          "scene": {
           "xaxis": {
            "backgroundcolor": "#E5ECF6",
            "gridcolor": "white",
            "gridwidth": 2,
            "linecolor": "white",
            "showbackground": true,
            "ticks": "",
            "zerolinecolor": "white"
           },
           "yaxis": {
            "backgroundcolor": "#E5ECF6",
            "gridcolor": "white",
            "gridwidth": 2,
            "linecolor": "white",
            "showbackground": true,
            "ticks": "",
            "zerolinecolor": "white"
           },
           "zaxis": {
            "backgroundcolor": "#E5ECF6",
            "gridcolor": "white",
            "gridwidth": 2,
            "linecolor": "white",
            "showbackground": true,
            "ticks": "",
            "zerolinecolor": "white"
           }
          },
          "shapedefaults": {
           "line": {
            "color": "#2a3f5f"
           }
          },
          "ternary": {
           "aaxis": {
            "gridcolor": "white",
            "linecolor": "white",
            "ticks": ""
           },
           "baxis": {
            "gridcolor": "white",
            "linecolor": "white",
            "ticks": ""
           },
           "bgcolor": "#E5ECF6",
           "caxis": {
            "gridcolor": "white",
            "linecolor": "white",
            "ticks": ""
           }
          },
          "title": {
           "x": 0.05
          },
          "xaxis": {
           "automargin": true,
           "gridcolor": "white",
           "linecolor": "white",
           "ticks": "",
           "title": {
            "standoff": 15
           },
           "zerolinecolor": "white",
           "zerolinewidth": 2
          },
          "yaxis": {
           "automargin": true,
           "gridcolor": "white",
           "linecolor": "white",
           "ticks": "",
           "title": {
            "standoff": 15
           },
           "zerolinecolor": "white",
           "zerolinewidth": 2
          }
         }
        },
        "title": {
         "text": "Metrics within Confusion Matrix w.r.t. Gender Differences (Baseline)"
        },
        "width": 1200,
        "xaxis": {
         "title": {
          "text": "Sex"
         }
        },
        "yaxis": {
         "title": {
          "text": "Rate"
         }
        }
       }
      }
     },
     "metadata": {},
     "output_type": "display_data"
    }
   ],
   "source": [
    "# visualize the results\n",
    "fig = go.Figure()\n",
    "fig.add_trace(go.Bar(\n",
    "    x=list(tpr_sex.keys()),\n",
    "    y=list(tpr_sex.values()),\n",
    "    marker_color='#F3A291',\n",
    "    opacity=0.75,\n",
    "    name='true positive rate'\n",
    "))\n",
    "fig.add_trace(go.Bar(\n",
    "    x=list(fpr_sex.keys()),\n",
    "    y=list(fpr_sex.values()),\n",
    "    marker_color='#F3CA91',\n",
    "    opacity=0.75,\n",
    "    name='false positive rate'\n",
    "))\n",
    "fig.add_trace(go.Bar(\n",
    "    x=list(fnr_sex.keys()),\n",
    "    y=list(fnr_sex.values()),\n",
    "    marker_color='#CAF391',\n",
    "    opacity=0.75,\n",
    "    name='false negative rate'\n",
    "))\n",
    "fig.add_trace(go.Bar(\n",
    "    x=list(tnr_sex.keys()),\n",
    "    y=list(tnr_sex.values()),\n",
    "    marker_color='#91F3D1',\n",
    "    opacity=0.75,\n",
    "    name='true negative rate'\n",
    "))\n",
    "fig.update_layout(\n",
    "    title_text='Metrics within Confusion Matrix w.r.t. Gender Differences (Baseline)',\n",
    "    xaxis_title='Sex',\n",
    "    yaxis_title='Rate',\n",
    "    width=1200,\n",
    "    height=500,\n",
    ")\n",
    "fig.write_image('../results/separation-1-before.png', scale=2)\n",
    "fig.show()"
   ]
  },
  {
   "cell_type": "markdown",
   "id": "4d81a088",
   "metadata": {},
   "source": [
    "##  Attempts on Improvement\n",
    "\n",
    "### 1. Excluding the Attribute (as is in anti-classification)"
   ]
  },
  {
   "cell_type": "code",
   "execution_count": 7,
   "id": "cd4cc665",
   "metadata": {},
   "outputs": [],
   "source": [
    "protected_attr = 'Sex'\n",
    "val_full = anti_classification(\n",
    "    protected_attr, RandomForestClassifier(), 'RF', train_X, train_y, val_full, True\n",
    ")"
   ]
  },
  {
   "cell_type": "markdown",
   "id": "5dcbc242",
   "metadata": {},
   "source": [
    "### Results"
   ]
  },
  {
   "cell_type": "code",
   "execution_count": 8,
   "id": "e9e5e973",
   "metadata": {},
   "outputs": [
    {
     "name": "stdout",
     "output_type": "stream",
     "text": [
      "\n",
      "Results on Method 1 - Anti-Classification:\n",
      "Accuracy:  0.7150\n",
      "Precision: 0.6734\n",
      "Recall:    0.6528\n",
      "F1 Score:  0.6591\n",
      "\n"
     ]
    }
   ],
   "source": [
    "# print out the new results\n",
    "pred_col_m1 = 'Risk_pred(protected=Sex, model=RF)'\n",
    "\n",
    "m1_acc = accuracy_score(val_full[true_col], val_full[pred_col_m1])\n",
    "\n",
    "m1_precision, m1_recall, m1_f1, _ = precision_recall_fscore_support(\n",
    "    val_full[true_col], val_full[pred_col_m1], average='macro'\n",
    ")\n",
    "\n",
    "print(f\"\\nResults on Method 1 - Anti-Classification:\")\n",
    "print(f\"Accuracy:  {m1_acc:.4f}\")\n",
    "print(f\"Precision: {m1_precision:.4f}\")\n",
    "print(f\"Recall:    {m1_recall:.4f}\")\n",
    "print(f\"F1 Score:  {m1_f1:.4f}\\n\")"
   ]
  },
  {
   "cell_type": "markdown",
   "id": "e6e33c3c",
   "metadata": {},
   "source": [
    "### 2. Group Fairness: Revise Thresholds for Similar Predictably Positive Rates"
   ]
  },
  {
   "cell_type": "code",
   "execution_count": 9,
   "id": "780331a4",
   "metadata": {},
   "outputs": [
    {
     "name": "stdout",
     "output_type": "stream",
     "text": [
      "\n",
      "Probability threshold to ensure the same probability of being predicted positive at 60.00%:\n",
      "{'female': 0.56, 'male': 0.66}\n"
     ]
    }
   ],
   "source": [
    "# set the positive rate to be 0.6 for both genders\n",
    "threshold = 0.6\n",
    "thre_dict = dict()\n",
    "prob_col = 'Risk_prob(protected=None, model=RF)'\n",
    "\n",
    "for gender in ('female', 'male'):\n",
    "    thre_dict[gender] = get_threshold('Sex', gender, val_full, prob_col, threshold)\n",
    "\n",
    "\n",
    "print(f\"\\nProbability threshold to ensure the same probability of being predicted positive at {threshold * 100:.2f}%:\")\n",
    "print(thre_dict)"
   ]
  },
  {
   "cell_type": "markdown",
   "id": "9c9c6ee0",
   "metadata": {},
   "source": [
    "#### Build a udf to obtain the predicted label for different sub groups"
   ]
  },
  {
   "cell_type": "code",
   "execution_count": 10,
   "id": "87b5df47",
   "metadata": {},
   "outputs": [],
   "source": [
    "pred_col_m2 = 'Risk_pred(protected=Sex, model=RF)_Group_Fairness'\n",
    "\n",
    "def pred_with_diff_thre(thre_dict, df, attr_col, prob_col):\n",
    "    return 'good' if df[prob_col] >= thre_dict[df[attr_col]] else 'bad'\n",
    "\n",
    "val_full[pred_col_m2] = val_full.apply(lambda x: pred_with_diff_thre(thre_dict, x, 'Sex', prob_col), axis=1)"
   ]
  },
  {
   "cell_type": "markdown",
   "id": "610c4d12",
   "metadata": {},
   "source": [
    "### Results"
   ]
  },
  {
   "cell_type": "code",
   "execution_count": 11,
   "id": "b5c39de4",
   "metadata": {},
   "outputs": [
    {
     "name": "stdout",
     "output_type": "stream",
     "text": [
      "\n",
      "Results on Method 2 - Group Fairness:\n",
      "Accuracy:  0.6750\n",
      "Precision: 0.6457\n",
      "Recall:    0.6575\n",
      "F1 Score:  0.6484\n",
      "\n"
     ]
    }
   ],
   "source": [
    "# print out the results\n",
    "m2_acc = accuracy_score(val_full[true_col], val_full[pred_col_m2])\n",
    "\n",
    "m2_precision, m2_recall, m2_f1, _ = precision_recall_fscore_support(\n",
    "    val_full[true_col], val_full[pred_col_m2], average='macro'\n",
    ")\n",
    "\n",
    "print(f\"\\nResults on Method 2 - Group Fairness:\")\n",
    "print(f\"Accuracy:  {m2_acc:.4f}\")\n",
    "print(f\"Precision: {m2_precision:.4f}\")\n",
    "print(f\"Recall:    {m2_recall:.4f}\")\n",
    "print(f\"F1 Score:  {m2_f1:.4f}\\n\")"
   ]
  },
  {
   "cell_type": "markdown",
   "id": "af9c0864",
   "metadata": {},
   "source": [
    "We can also break the results down to subgroups and see which part is mal-performing."
   ]
  },
  {
   "cell_type": "code",
   "execution_count": 12,
   "id": "5bff06e9",
   "metadata": {},
   "outputs": [
    {
     "name": "stdout",
     "output_type": "stream",
     "text": [
      "\n",
      "Results on Method 2 - Group Fairness (BREAKDOWN):\n",
      "\n",
      "SUBGROUP - FEMALE:\n",
      "Accuracy:  0.7000\n",
      "Precision: 0.6992\n",
      "Recall:    0.6902\n",
      "F1 Score:  0.6914\n",
      "\n",
      "SUBGROUP - MALE:\n",
      "Accuracy:  0.6643\n",
      "Precision: 0.6250\n",
      "Recall:    0.6493\n",
      "F1 Score:  0.6256\n",
      "\n"
     ]
    }
   ],
   "source": [
    "# break down results\n",
    "print(f\"\\nResults on Method 2 - Group Fairness (BREAKDOWN):\\n\")\n",
    "\n",
    "for gender in thre_dict.keys():\n",
    "\n",
    "    m2_acc_sub = accuracy_score(val_full[val_full['Sex'] == gender][true_col], val_full[val_full['Sex'] == gender][pred_col_m2])\n",
    "\n",
    "    m2_precision_sub, m2_recall_sub, m2_f1_sub, _ = precision_recall_fscore_support(\n",
    "        val_full[val_full['Sex'] == gender][true_col], val_full[val_full['Sex'] == gender][pred_col_m2], average='macro'\n",
    "    )\n",
    "\n",
    "    print(f\"SUBGROUP - {gender.upper()}:\")\n",
    "    print(f\"Accuracy:  {m2_acc_sub:.4f}\")\n",
    "    print(f\"Precision: {m2_precision_sub:.4f}\")\n",
    "    print(f\"Recall:    {m2_recall_sub:.4f}\")\n",
    "    print(f\"F1 Score:  {m2_f1_sub:.4f}\\n\")"
   ]
  },
  {
   "cell_type": "markdown",
   "id": "4c24eec6",
   "metadata": {},
   "source": [
    "Lastly, we check if the thresholds really ensure close rates of positive predictions."
   ]
  },
  {
   "cell_type": "code",
   "execution_count": 13,
   "id": "179d8eff",
   "metadata": {},
   "outputs": [
    {
     "name": "stdout",
     "output_type": "stream",
     "text": [
      "Original baseline model:\n",
      "The rate of positive predictions for subgroup FEMALE is 0.6667.\n",
      "The rate of positive predictions for subgroup MALE is 0.8143.\n",
      "\n",
      "\n",
      "Modified Model:\n",
      "The rate of positive predictions for subgroup FEMALE is 0.6167.\n",
      "The rate of positive predictions for subgroup MALE is 0.6000.\n"
     ]
    }
   ],
   "source": [
    "def obtain_pos_pred_rate(attr, attr_val, df, pred_col):\n",
    "    return (\n",
    "        len(df[(df[pred_col]=='good') & (df[attr]==attr_val)]) / \n",
    "        len(df[df[attr]==attr_val])\n",
    "    )\n",
    "\n",
    "print(\"Original baseline model:\")\n",
    "for gender in ('female', 'male'):\n",
    "    ppr = obtain_pos_pred_rate(\n",
    "        'Sex', gender, val_full, pred_col\n",
    "    )\n",
    "    print(f\"The rate of positive predictions for subgroup {gender.upper()} is {ppr:.4f}.\")\n",
    "\n",
    "print(\"\\n\\nModified Model:\")\n",
    "for gender in ('female', 'male'):\n",
    "    ppr = obtain_pos_pred_rate(\n",
    "        'Sex', gender, val_full, pred_col_m2\n",
    "    )\n",
    "    print(f\"The rate of positive predictions for subgroup {gender.upper()} is {ppr:.4f}.\")"
   ]
  },
  {
   "cell_type": "markdown",
   "id": "c4364b0f",
   "metadata": {},
   "source": [
    "### 3. Others: Dataset Augmentation\n",
    "\n",
    "A naive way to augment the dataset is to duplicate the entire dataset with all the gender labels reseversed, based on the assumption that gender is not, or shall not be, impacting the credit scoring results."
   ]
  },
  {
   "cell_type": "code",
   "execution_count": 14,
   "id": "1c33f0da",
   "metadata": {},
   "outputs": [],
   "source": [
    "# augment data\n",
    "AUGMENTED_DATA_PATH = boost_dataset('../' + LABELED_DATA_PATH)\n",
    "\n",
    "# load data\n",
    "augmented_labeled_df_raw = pd.read_csv(AUGMENTED_DATA_PATH).drop('Unnamed: 0', axis=1) # already included '../' as the prefix\n",
    "augmented_labeled_y, augmented_labeled_X = augmented_labeled_df_raw['Risk'], augmented_labeled_df_raw.drop('Risk', axis=1)\n",
    "\n",
    "# split data into training and validation subsets\n",
    "augmented_train_X, augmented_val_X, augmented_train_y, augmented_val_y = train_test_split(augmented_labeled_X, augmented_labeled_y, test_size=VAL_RATIO, random_state=RANDOM_SEED)\n",
    "\n",
    "# merge inputs and labels together for validation sets to better access within one dataframe\n",
    "augmented_val_full = pd.merge(augmented_val_X, augmented_val_y, left_index=True, right_index=True)"
   ]
  },
  {
   "cell_type": "code",
   "execution_count": 15,
   "id": "9429fe6a",
   "metadata": {},
   "outputs": [
    {
     "data": {
      "application/vnd.plotly.v1+json": {
       "config": {
        "plotlyServerURL": "https://plot.ly"
       },
       "data": [
        {
         "marker": {
          "color": "#F5DDD3"
         },
         "name": "female_original",
         "opacity": 0.75,
         "type": "histogram",
         "x": [
          "bad",
          "bad",
          "bad",
          "good",
          "good",
          "bad",
          "bad",
          "good",
          "good",
          "bad",
          "good",
          "good",
          "good",
          "good",
          "good",
          "bad",
          "good",
          "good",
          "good",
          "good",
          "good",
          "bad",
          "good",
          "good",
          "good",
          "good",
          "bad",
          "good",
          "good",
          "good",
          "good",
          "bad",
          "bad",
          "good",
          "bad",
          "bad",
          "good",
          "bad",
          "bad",
          "good",
          "good",
          "good",
          "good",
          "good",
          "good",
          "good",
          "good",
          "good",
          "bad",
          "good",
          "bad",
          "good",
          "good",
          "good",
          "bad",
          "bad",
          "bad",
          "good",
          "bad",
          "good",
          "bad",
          "good",
          "good",
          "good",
          "good",
          "good",
          "bad",
          "good",
          "good",
          "bad",
          "good",
          "good",
          "bad",
          "good",
          "good",
          "good",
          "good",
          "good",
          "good",
          "good",
          "bad",
          "good",
          "good",
          "good",
          "bad",
          "good",
          "good",
          "bad",
          "good",
          "bad",
          "good",
          "good",
          "good",
          "good",
          "good",
          "bad",
          "bad",
          "bad",
          "good",
          "bad",
          "good",
          "good",
          "good",
          "good",
          "good",
          "bad",
          "bad",
          "good",
          "good",
          "good",
          "good",
          "bad",
          "bad",
          "good",
          "bad",
          "good",
          "good",
          "good",
          "good",
          "good",
          "good",
          "good",
          "good",
          "good",
          "bad",
          "good",
          "good",
          "bad",
          "good",
          "bad",
          "bad",
          "good",
          "bad",
          "good",
          "bad",
          "good",
          "bad",
          "good",
          "good",
          "good",
          "good",
          "good",
          "bad",
          "good",
          "bad",
          "bad",
          "good",
          "good",
          "good",
          "good",
          "bad",
          "good",
          "bad",
          "bad",
          "good",
          "bad",
          "bad",
          "good",
          "good",
          "good",
          "bad",
          "good",
          "good",
          "good",
          "good",
          "bad",
          "good",
          "good",
          "bad",
          "bad",
          "good",
          "good",
          "bad",
          "bad",
          "good",
          "good",
          "good",
          "good",
          "good",
          "good",
          "good",
          "bad",
          "good",
          "good",
          "good",
          "bad",
          "bad",
          "bad",
          "good",
          "bad",
          "bad",
          "bad",
          "good",
          "bad",
          "bad",
          "bad",
          "good",
          "good",
          "bad",
          "bad",
          "good",
          "good",
          "bad",
          "bad",
          "good",
          "good",
          "bad",
          "bad",
          "good",
          "good",
          "good",
          "good",
          "good",
          "good",
          "good",
          "good",
          "bad",
          "good",
          "good",
          "good",
          "bad",
          "good",
          "bad",
          "bad",
          "bad",
          "good",
          "bad",
          "good",
          "bad",
          "bad",
          "good",
          "good",
          "good",
          "good",
          "bad",
          "bad",
          "good",
          "bad",
          "good",
          "bad",
          "good",
          "good",
          "bad",
          "good",
          "bad",
          "good",
          "good",
          "bad",
          "bad",
          "good",
          "good",
          "bad",
          "bad",
          "good",
          "good",
          "good",
          "good",
          "good",
          "bad",
          "good",
          "good",
          "bad",
          "bad",
          "good",
          "bad",
          "good",
          "good",
          "bad",
          "good",
          "bad",
          "bad",
          "good",
          "good",
          "good",
          "good",
          "good",
          "good",
          "good",
          "bad",
          "good",
          "good",
          "good",
          "good",
          "good",
          "good",
          "bad",
          "good",
          "bad",
          "good",
          "bad",
          "good",
          "bad",
          "good",
          "bad",
          "good",
          "good",
          "bad",
          "bad",
          "good",
          "good",
          "good",
          "good",
          "bad",
          "good",
          "good",
          "good",
          "good",
          "good",
          "good",
          "good"
         ]
        },
        {
         "marker": {
          "color": "#F8C6AB"
         },
         "name": "female_augmented",
         "opacity": 0.75,
         "type": "histogram",
         "x": [
          "good",
          "bad",
          "good",
          "good",
          "bad",
          "good",
          "good",
          "good",
          "good",
          "bad",
          "bad",
          "bad",
          "good",
          "bad",
          "good",
          "bad",
          "good",
          "good",
          "bad",
          "good",
          "good",
          "good",
          "good",
          "good",
          "good",
          "good",
          "good",
          "good",
          "good",
          "bad",
          "good",
          "good",
          "good",
          "good",
          "good",
          "bad",
          "good",
          "bad",
          "good",
          "good",
          "good",
          "good",
          "good",
          "good",
          "bad",
          "good",
          "good",
          "good",
          "good",
          "good",
          "good",
          "good",
          "good",
          "good",
          "bad",
          "good",
          "bad",
          "good",
          "good",
          "bad",
          "good",
          "good",
          "bad",
          "bad",
          "good",
          "good",
          "good",
          "good",
          "bad",
          "good",
          "good",
          "good",
          "good",
          "good",
          "bad",
          "good",
          "bad",
          "good",
          "good",
          "good",
          "bad",
          "good",
          "good",
          "good",
          "good",
          "good",
          "good",
          "bad",
          "good",
          "bad",
          "good",
          "good",
          "bad",
          "good",
          "good",
          "bad",
          "good",
          "good",
          "good",
          "good",
          "good",
          "good",
          "good",
          "good",
          "good",
          "bad",
          "bad",
          "good",
          "good",
          "good",
          "good",
          "good",
          "good",
          "bad",
          "good",
          "good",
          "bad",
          "good",
          "bad",
          "good",
          "bad",
          "good",
          "good",
          "good",
          "bad",
          "good",
          "good",
          "bad",
          "good",
          "bad",
          "good",
          "bad",
          "good",
          "good",
          "good",
          "good",
          "good",
          "bad",
          "good",
          "good",
          "good",
          "good",
          "good",
          "bad",
          "good",
          "good",
          "good",
          "good",
          "good",
          "good",
          "good",
          "good",
          "good",
          "good",
          "good",
          "bad",
          "good",
          "good",
          "good",
          "good",
          "good",
          "good",
          "good",
          "good",
          "good",
          "good",
          "bad",
          "good",
          "good",
          "bad",
          "bad",
          "good",
          "bad",
          "good",
          "bad",
          "bad",
          "good",
          "good",
          "good",
          "good",
          "bad",
          "bad",
          "bad",
          "good",
          "bad",
          "good",
          "bad",
          "good",
          "bad",
          "good",
          "bad",
          "bad",
          "bad",
          "good",
          "bad",
          "bad",
          "good",
          "bad",
          "good",
          "bad",
          "good",
          "good",
          "good",
          "bad",
          "good",
          "good",
          "good",
          "good",
          "good",
          "good",
          "good",
          "good",
          "bad",
          "bad",
          "good",
          "good",
          "good",
          "good",
          "good",
          "good",
          "good",
          "good",
          "good",
          "good",
          "good",
          "good",
          "bad",
          "bad",
          "bad",
          "good",
          "bad",
          "good",
          "good",
          "good",
          "good",
          "bad",
          "bad",
          "bad",
          "good",
          "good",
          "bad",
          "good",
          "bad",
          "good",
          "good",
          "good",
          "good",
          "good",
          "good",
          "bad",
          "good",
          "good",
          "bad",
          "good",
          "good",
          "good",
          "good",
          "bad",
          "good",
          "good",
          "good",
          "good",
          "good",
          "good",
          "good",
          "bad",
          "good",
          "good",
          "bad",
          "good",
          "good",
          "good",
          "good",
          "bad",
          "bad",
          "good",
          "good",
          "good",
          "bad",
          "good",
          "good",
          "good",
          "good",
          "good",
          "good",
          "good",
          "good",
          "good",
          "good",
          "bad",
          "good",
          "bad",
          "good",
          "good",
          "good",
          "bad",
          "good",
          "good",
          "good",
          "good",
          "good",
          "bad",
          "bad",
          "good",
          "bad",
          "good",
          "good",
          "bad",
          "bad",
          "good",
          "good",
          "good",
          "good",
          "bad",
          "good",
          "bad",
          "good",
          "good",
          "good",
          "good",
          "bad",
          "bad",
          "good",
          "good",
          "good",
          "good",
          "good",
          "good",
          "good",
          "good",
          "good",
          "bad",
          "bad",
          "bad",
          "bad",
          "bad",
          "good",
          "bad",
          "good",
          "good",
          "good",
          "good",
          "good",
          "good",
          "good",
          "good",
          "good",
          "good",
          "good",
          "bad",
          "good",
          "bad",
          "good",
          "bad",
          "good",
          "bad",
          "good",
          "bad",
          "good",
          "bad",
          "good",
          "good",
          "good",
          "good",
          "bad",
          "good",
          "good",
          "good",
          "bad",
          "good",
          "good",
          "good",
          "good",
          "good",
          "bad",
          "bad",
          "good",
          "good",
          "bad",
          "good",
          "good",
          "bad",
          "good",
          "good",
          "good",
          "good",
          "good",
          "good",
          "good",
          "good",
          "good",
          "good",
          "good",
          "good",
          "good",
          "good",
          "good",
          "good",
          "bad",
          "good",
          "good",
          "good",
          "bad",
          "good",
          "good",
          "bad",
          "good",
          "good",
          "good",
          "bad",
          "good",
          "good",
          "bad",
          "good",
          "bad",
          "good",
          "bad",
          "good",
          "good",
          "bad",
          "good",
          "good",
          "good",
          "good",
          "bad",
          "good",
          "good",
          "good",
          "good",
          "bad",
          "good",
          "bad",
          "good",
          "good",
          "good",
          "bad",
          "good",
          "good",
          "good",
          "bad",
          "good",
          "good",
          "good",
          "bad",
          "bad",
          "good",
          "bad",
          "good",
          "good",
          "bad",
          "good",
          "good",
          "good",
          "good",
          "bad",
          "good",
          "good",
          "bad",
          "good",
          "good",
          "good",
          "good",
          "good",
          "good",
          "good",
          "good",
          "bad",
          "good",
          "good",
          "good",
          "bad",
          "bad",
          "bad",
          "good",
          "bad",
          "bad",
          "good",
          "good",
          "good",
          "good",
          "good",
          "good",
          "good",
          "good",
          "good",
          "bad",
          "good",
          "good",
          "good",
          "good",
          "good",
          "bad",
          "good",
          "good",
          "good",
          "bad",
          "bad",
          "good",
          "good",
          "good",
          "bad",
          "good",
          "good",
          "bad",
          "bad",
          "bad",
          "good",
          "bad",
          "good",
          "good",
          "bad",
          "good",
          "good",
          "good",
          "good",
          "good",
          "good",
          "bad",
          "good",
          "good",
          "good",
          "bad",
          "bad",
          "good",
          "good",
          "good",
          "good",
          "good",
          "bad",
          "good",
          "good",
          "bad",
          "good",
          "good",
          "good",
          "bad",
          "good",
          "good",
          "bad",
          "good",
          "bad",
          "good",
          "bad",
          "bad",
          "good",
          "bad",
          "good",
          "good",
          "bad",
          "good",
          "good",
          "good",
          "bad",
          "good",
          "good",
          "bad",
          "bad",
          "bad",
          "bad",
          "bad",
          "good",
          "bad",
          "good",
          "bad",
          "good",
          "good",
          "bad",
          "good",
          "good",
          "bad",
          "bad",
          "good",
          "good",
          "good",
          "good",
          "good",
          "good",
          "good",
          "bad",
          "good",
          "bad",
          "good",
          "good",
          "bad",
          "good",
          "bad",
          "good",
          "good",
          "bad",
          "bad",
          "good",
          "good",
          "good",
          "bad",
          "bad",
          "bad",
          "bad",
          "bad",
          "bad",
          "good",
          "good",
          "bad",
          "bad",
          "bad",
          "good",
          "good",
          "good",
          "bad",
          "good",
          "good",
          "bad",
          "bad",
          "good",
          "good",
          "bad",
          "good",
          "good",
          "good",
          "bad",
          "good",
          "good",
          "bad",
          "bad",
          "good",
          "bad",
          "good",
          "good",
          "bad",
          "good",
          "good",
          "good",
          "bad",
          "good",
          "bad",
          "bad",
          "good",
          "good",
          "good",
          "good",
          "bad",
          "bad",
          "good",
          "bad",
          "good",
          "good",
          "bad",
          "good",
          "bad",
          "bad",
          "bad",
          "good",
          "bad",
          "bad",
          "bad",
          "good",
          "good",
          "bad",
          "good",
          "good",
          "good",
          "good",
          "bad",
          "good",
          "good",
          "good",
          "good",
          "good",
          "good",
          "bad",
          "good",
          "good",
          "good",
          "good",
          "good",
          "bad",
          "good",
          "good",
          "bad",
          "good",
          "good",
          "good",
          "good",
          "good",
          "good",
          "good",
          "good",
          "good",
          "good",
          "good",
          "good",
          "good",
          "good",
          "good",
          "good",
          "good",
          "good",
          "good",
          "good",
          "good",
          "good",
          "bad",
          "bad",
          "good",
          "good",
          "good",
          "good",
          "bad",
          "bad",
          "good",
          "good",
          "good",
          "bad",
          "good",
          "good",
          "bad",
          "good",
          "good",
          "good",
          "good",
          "good",
          "bad",
          "bad",
          "bad",
          "good",
          "bad",
          "good",
          "good",
          "bad",
          "bad",
          "good",
          "good",
          "bad",
          "good",
          "good",
          "good",
          "good",
          "bad",
          "good",
          "good",
          "bad",
          "good",
          "good",
          "good",
          "good",
          "good",
          "good",
          "good",
          "bad",
          "good",
          "good",
          "good",
          "bad",
          "good",
          "good",
          "bad",
          "bad",
          "good",
          "bad",
          "good",
          "bad",
          "good",
          "bad",
          "good",
          "bad",
          "good",
          "good",
          "bad",
          "good",
          "good",
          "good",
          "good",
          "bad",
          "good",
          "good",
          "good",
          "bad",
          "good",
          "good",
          "good",
          "good",
          "bad",
          "good",
          "good",
          "bad",
          "good",
          "good",
          "good",
          "good",
          "bad",
          "bad",
          "bad",
          "good",
          "good",
          "good",
          "good",
          "good",
          "bad",
          "good",
          "good",
          "good",
          "good",
          "good",
          "good",
          "good",
          "good",
          "bad",
          "good",
          "good",
          "good",
          "bad",
          "good",
          "good",
          "bad",
          "bad",
          "bad",
          "good",
          "good",
          "good",
          "good",
          "bad",
          "good",
          "good",
          "bad",
          "good",
          "good",
          "good",
          "bad",
          "bad",
          "bad",
          "good",
          "good",
          "bad",
          "bad",
          "good",
          "bad",
          "bad",
          "good",
          "good",
          "good",
          "good",
          "bad",
          "good",
          "bad",
          "good",
          "good",
          "good",
          "bad",
          "good",
          "good",
          "bad",
          "bad",
          "good",
          "good",
          "bad",
          "good",
          "good",
          "good",
          "good",
          "bad",
          "good",
          "good",
          "bad",
          "bad",
          "good",
          "bad",
          "good",
          "good",
          "good",
          "good",
          "good",
          "good",
          "good",
          "good",
          "good",
          "good",
          "good",
          "good",
          "good",
          "bad",
          "good",
          "good",
          "good",
          "good",
          "good",
          "bad",
          "bad",
          "good",
          "bad",
          "good",
          "good",
          "good",
          "good",
          "good",
          "good",
          "good",
          "good",
          "good",
          "good",
          "good",
          "bad",
          "bad",
          "good",
          "good",
          "good",
          "good",
          "good",
          "good",
          "good",
          "good",
          "good",
          "good",
          "bad",
          "good",
          "good",
          "bad",
          "bad",
          "good",
          "bad",
          "bad",
          "bad",
          "good",
          "good",
          "bad",
          "good",
          "bad",
          "bad",
          "good",
          "bad",
          "good",
          "good",
          "good",
          "bad",
          "good",
          "good",
          "good",
          "bad",
          "bad",
          "good",
          "bad",
          "good",
          "good",
          "good",
          "good",
          "good",
          "good",
          "good",
          "bad",
          "good",
          "bad",
          "bad",
          "good",
          "bad",
          "bad",
          "bad",
          "good",
          "good",
          "good",
          "good",
          "bad",
          "good",
          "good",
          "good",
          "good",
          "bad",
          "good",
          "good",
          "bad",
          "good",
          "good",
          "good",
          "good",
          "good",
          "bad",
          "bad",
          "good",
          "good",
          "good",
          "good",
          "bad",
          "bad",
          "bad",
          "bad",
          "good",
          "bad",
          "good",
          "good",
          "good",
          "good",
          "good",
          "good",
          "good",
          "good",
          "good",
          "good",
          "good",
          "good",
          "good",
          "good",
          "bad",
          "good"
         ]
        },
        {
         "marker": {
          "color": "#C9DDE4"
         },
         "name": "male_original",
         "opacity": 0.75,
         "type": "histogram",
         "x": [
          "good",
          "good",
          "good",
          "bad",
          "good",
          "good",
          "good",
          "good",
          "bad",
          "bad",
          "good",
          "good",
          "good",
          "good",
          "good",
          "good",
          "good",
          "good",
          "good",
          "good",
          "good",
          "bad",
          "good",
          "good",
          "good",
          "good",
          "bad",
          "good",
          "bad",
          "good",
          "good",
          "good",
          "good",
          "good",
          "good",
          "good",
          "good",
          "good",
          "good",
          "good",
          "good",
          "bad",
          "good",
          "bad",
          "good",
          "good",
          "bad",
          "bad",
          "good",
          "good",
          "bad",
          "good",
          "good",
          "bad",
          "good",
          "bad",
          "good",
          "good",
          "good",
          "good",
          "good",
          "bad",
          "good",
          "bad",
          "good",
          "good",
          "good",
          "good",
          "bad",
          "good",
          "good",
          "good",
          "good",
          "good",
          "good",
          "good",
          "bad",
          "bad",
          "good",
          "good",
          "good",
          "good",
          "good",
          "good",
          "good",
          "good",
          "good",
          "good",
          "good",
          "bad",
          "good",
          "bad",
          "good",
          "good",
          "good",
          "bad",
          "good",
          "good",
          "good",
          "bad",
          "good",
          "good",
          "good",
          "good",
          "good",
          "good",
          "good",
          "good",
          "good",
          "good",
          "good",
          "good",
          "good",
          "good",
          "good",
          "good",
          "bad",
          "bad",
          "good",
          "bad",
          "good",
          "good",
          "good",
          "good",
          "bad",
          "bad",
          "bad",
          "good",
          "bad",
          "good",
          "good",
          "bad",
          "bad",
          "bad",
          "bad",
          "good",
          "bad",
          "good",
          "bad",
          "good",
          "good",
          "good",
          "bad",
          "good",
          "good",
          "good",
          "good",
          "good",
          "good",
          "good",
          "bad",
          "bad",
          "good",
          "good",
          "good",
          "good",
          "good",
          "good",
          "good",
          "good",
          "good",
          "bad",
          "bad",
          "bad",
          "good",
          "bad",
          "good",
          "good",
          "good",
          "good",
          "bad",
          "bad",
          "bad",
          "good",
          "good",
          "bad",
          "good",
          "good",
          "good",
          "good",
          "good",
          "good",
          "good",
          "good",
          "bad",
          "good",
          "good",
          "good",
          "bad",
          "good",
          "bad",
          "good",
          "good",
          "good",
          "bad",
          "bad",
          "good",
          "good",
          "good",
          "good",
          "good",
          "good",
          "good",
          "good",
          "good",
          "good",
          "bad",
          "good",
          "bad",
          "good",
          "good",
          "good",
          "good",
          "good",
          "bad",
          "good",
          "bad",
          "good",
          "bad",
          "good",
          "good",
          "good",
          "bad",
          "good",
          "bad",
          "good",
          "good",
          "bad",
          "bad",
          "good",
          "good",
          "good",
          "good",
          "good",
          "good",
          "good",
          "bad",
          "bad",
          "good",
          "good",
          "good",
          "good",
          "good",
          "good",
          "good",
          "bad",
          "good",
          "bad",
          "good",
          "bad",
          "good",
          "bad",
          "good",
          "good",
          "good",
          "good",
          "bad",
          "good",
          "good",
          "bad",
          "good",
          "good",
          "good",
          "good",
          "good",
          "bad",
          "good",
          "good",
          "good",
          "good",
          "good",
          "good",
          "good",
          "good",
          "good",
          "good",
          "bad",
          "good",
          "good",
          "bad",
          "good",
          "good",
          "bad",
          "good",
          "good",
          "good",
          "bad",
          "good",
          "bad",
          "good",
          "good",
          "bad",
          "good",
          "good",
          "good",
          "good",
          "good",
          "good",
          "good",
          "good",
          "bad",
          "good",
          "good",
          "good",
          "bad",
          "good",
          "good",
          "good",
          "good",
          "bad",
          "good",
          "bad",
          "good",
          "good",
          "good",
          "bad",
          "good",
          "bad",
          "good",
          "good",
          "good",
          "good",
          "good",
          "good",
          "good",
          "good",
          "bad",
          "bad",
          "good",
          "bad",
          "good",
          "good",
          "good",
          "good",
          "good",
          "good",
          "bad",
          "good",
          "good",
          "good",
          "good",
          "good",
          "good",
          "bad",
          "bad",
          "good",
          "good",
          "good",
          "good",
          "good",
          "bad",
          "bad",
          "good",
          "bad",
          "good",
          "good",
          "bad",
          "good",
          "good",
          "good",
          "good",
          "good",
          "good",
          "good",
          "good",
          "bad",
          "good",
          "good",
          "bad",
          "good",
          "good",
          "good",
          "good",
          "good",
          "bad",
          "bad",
          "bad",
          "good",
          "bad",
          "bad",
          "good",
          "bad",
          "good",
          "good",
          "good",
          "bad",
          "good",
          "bad",
          "bad",
          "bad",
          "good",
          "bad",
          "bad",
          "good",
          "bad",
          "good",
          "good",
          "good",
          "good",
          "bad",
          "good",
          "bad",
          "good",
          "bad",
          "good",
          "good",
          "bad",
          "bad",
          "bad",
          "bad",
          "bad",
          "good",
          "good",
          "good",
          "good",
          "good",
          "good",
          "good",
          "good",
          "good",
          "good",
          "bad",
          "bad",
          "bad",
          "good",
          "good",
          "bad",
          "good",
          "good",
          "bad",
          "good",
          "good",
          "good",
          "bad",
          "good",
          "bad",
          "good",
          "good",
          "bad",
          "good",
          "bad",
          "bad",
          "good",
          "bad",
          "bad",
          "bad",
          "good",
          "good",
          "bad",
          "good",
          "good",
          "good",
          "bad",
          "good",
          "good",
          "good",
          "good",
          "bad",
          "good",
          "good",
          "good",
          "good",
          "good",
          "bad",
          "good",
          "bad",
          "good",
          "good",
          "good",
          "good",
          "good",
          "good",
          "good",
          "good",
          "good",
          "good",
          "good",
          "good",
          "good",
          "good",
          "good",
          "good",
          "good",
          "good",
          "bad",
          "good",
          "bad",
          "good",
          "good",
          "good",
          "good",
          "bad",
          "good",
          "good",
          "good",
          "good",
          "good",
          "bad",
          "good",
          "good",
          "good",
          "bad",
          "good",
          "good",
          "good",
          "good",
          "good",
          "good",
          "good",
          "good",
          "good",
          "good",
          "bad",
          "good",
          "bad",
          "good",
          "bad",
          "good",
          "bad",
          "good",
          "good",
          "bad",
          "good",
          "good",
          "good",
          "good",
          "good",
          "good",
          "good",
          "bad",
          "good",
          "good",
          "good",
          "good",
          "good",
          "good",
          "bad",
          "bad",
          "good",
          "good",
          "good",
          "good",
          "bad",
          "good",
          "good",
          "good",
          "good",
          "bad",
          "good",
          "good",
          "good",
          "good",
          "good",
          "bad",
          "bad",
          "bad",
          "good",
          "good",
          "bad",
          "good",
          "good",
          "bad",
          "good",
          "good",
          "good",
          "bad",
          "bad",
          "good",
          "good",
          "bad",
          "bad",
          "good",
          "good",
          "bad",
          "good",
          "good",
          "good",
          "good",
          "bad",
          "good",
          "good",
          "bad",
          "bad",
          "good",
          "good",
          "bad",
          "good",
          "good",
          "good",
          "good",
          "good",
          "bad",
          "good",
          "bad",
          "good",
          "good",
          "good",
          "good",
          "good",
          "good",
          "good",
          "bad",
          "good",
          "good",
          "good",
          "good",
          "bad",
          "good",
          "bad",
          "good",
          "good",
          "good",
          "good",
          "good",
          "good",
          "good",
          "good",
          "bad",
          "bad",
          "good",
          "good",
          "good",
          "good",
          "good",
          "good",
          "good",
          "good",
          "bad",
          "good",
          "bad",
          "bad",
          "bad",
          "good",
          "good",
          "bad",
          "bad",
          "bad",
          "good",
          "good",
          "good",
          "good",
          "good",
          "bad",
          "good",
          "bad",
          "good",
          "good",
          "good",
          "good",
          "good",
          "bad",
          "good",
          "bad",
          "bad",
          "good",
          "bad",
          "good",
          "good",
          "bad",
          "good",
          "good",
          "good",
          "good",
          "bad",
          "good",
          "bad",
          "good",
          "good",
          "good",
          "good",
          "bad",
          "good",
          "bad",
          "bad",
          "bad",
          "bad",
          "bad",
          "good",
          "good",
          "good",
          "good",
          "good",
          "good",
          "good",
          "good",
          "good",
          "good",
          "good",
          "bad",
          "good"
         ]
        },
        {
         "marker": {
          "color": "#ABE3F8"
         },
         "name": "male_augmented",
         "opacity": 0.75,
         "type": "histogram",
         "x": [
          "good",
          "bad",
          "good",
          "good",
          "bad",
          "good",
          "good",
          "good",
          "good",
          "bad",
          "bad",
          "bad",
          "good",
          "bad",
          "good",
          "bad",
          "good",
          "good",
          "bad",
          "good",
          "good",
          "good",
          "good",
          "good",
          "good",
          "good",
          "good",
          "good",
          "good",
          "bad",
          "good",
          "good",
          "good",
          "good",
          "good",
          "bad",
          "good",
          "bad",
          "good",
          "good",
          "good",
          "good",
          "good",
          "good",
          "bad",
          "good",
          "good",
          "good",
          "good",
          "good",
          "good",
          "good",
          "good",
          "good",
          "bad",
          "good",
          "bad",
          "good",
          "good",
          "bad",
          "good",
          "good",
          "bad",
          "bad",
          "good",
          "good",
          "good",
          "good",
          "bad",
          "good",
          "good",
          "good",
          "good",
          "good",
          "bad",
          "good",
          "bad",
          "good",
          "good",
          "good",
          "bad",
          "good",
          "good",
          "good",
          "good",
          "good",
          "good",
          "bad",
          "good",
          "bad",
          "good",
          "good",
          "bad",
          "good",
          "good",
          "bad",
          "good",
          "good",
          "good",
          "good",
          "good",
          "good",
          "good",
          "good",
          "good",
          "bad",
          "bad",
          "good",
          "good",
          "good",
          "good",
          "good",
          "good",
          "bad",
          "good",
          "good",
          "bad",
          "good",
          "bad",
          "good",
          "bad",
          "good",
          "good",
          "good",
          "bad",
          "good",
          "good",
          "bad",
          "good",
          "bad",
          "good",
          "bad",
          "good",
          "good",
          "good",
          "good",
          "good",
          "bad",
          "good",
          "good",
          "good",
          "good",
          "good",
          "bad",
          "good",
          "good",
          "good",
          "good",
          "good",
          "good",
          "good",
          "good",
          "good",
          "good",
          "good",
          "bad",
          "good",
          "good",
          "good",
          "good",
          "good",
          "good",
          "good",
          "good",
          "good",
          "good",
          "bad",
          "good",
          "good",
          "bad",
          "bad",
          "good",
          "bad",
          "good",
          "bad",
          "bad",
          "good",
          "good",
          "good",
          "good",
          "bad",
          "bad",
          "bad",
          "good",
          "bad",
          "good",
          "bad",
          "good",
          "bad",
          "good",
          "bad",
          "bad",
          "bad",
          "good",
          "bad",
          "bad",
          "good",
          "bad",
          "good",
          "bad",
          "good",
          "good",
          "good",
          "bad",
          "good",
          "good",
          "good",
          "good",
          "good",
          "good",
          "good",
          "good",
          "bad",
          "bad",
          "good",
          "good",
          "good",
          "good",
          "good",
          "good",
          "good",
          "good",
          "good",
          "good",
          "good",
          "good",
          "bad",
          "bad",
          "bad",
          "good",
          "bad",
          "good",
          "good",
          "good",
          "good",
          "bad",
          "bad",
          "bad",
          "good",
          "good",
          "bad",
          "good",
          "bad",
          "good",
          "good",
          "good",
          "good",
          "good",
          "good",
          "bad",
          "good",
          "good",
          "bad",
          "good",
          "good",
          "good",
          "good",
          "bad",
          "good",
          "good",
          "good",
          "good",
          "good",
          "good",
          "good",
          "bad",
          "good",
          "good",
          "bad",
          "good",
          "good",
          "good",
          "good",
          "bad",
          "bad",
          "good",
          "good",
          "good",
          "bad",
          "good",
          "good",
          "good",
          "good",
          "good",
          "good",
          "good",
          "good",
          "good",
          "good",
          "bad",
          "good",
          "bad",
          "good",
          "good",
          "good",
          "bad",
          "good",
          "good",
          "good",
          "good",
          "good",
          "bad",
          "bad",
          "good",
          "bad",
          "good",
          "good",
          "bad",
          "bad",
          "good",
          "good",
          "good",
          "good",
          "bad",
          "good",
          "bad",
          "good",
          "good",
          "good",
          "good",
          "bad",
          "bad",
          "good",
          "good",
          "good",
          "good",
          "good",
          "good",
          "good",
          "good",
          "good",
          "bad",
          "bad",
          "bad",
          "bad",
          "bad",
          "good",
          "bad",
          "good",
          "good",
          "good",
          "good",
          "good",
          "good",
          "good",
          "good",
          "good",
          "good",
          "good",
          "bad",
          "good",
          "bad",
          "good",
          "bad",
          "good",
          "bad",
          "good",
          "bad",
          "good",
          "bad",
          "good",
          "good",
          "good",
          "good",
          "bad",
          "good",
          "good",
          "good",
          "bad",
          "good",
          "good",
          "good",
          "good",
          "good",
          "bad",
          "bad",
          "good",
          "good",
          "bad",
          "good",
          "good",
          "bad",
          "good",
          "good",
          "good",
          "good",
          "good",
          "good",
          "good",
          "good",
          "good",
          "good",
          "good",
          "good",
          "good",
          "good",
          "good",
          "good",
          "bad",
          "good",
          "good",
          "good",
          "bad",
          "good",
          "good",
          "bad",
          "good",
          "good",
          "good",
          "bad",
          "good",
          "good",
          "bad",
          "good",
          "bad",
          "good",
          "bad",
          "good",
          "good",
          "bad",
          "good",
          "good",
          "good",
          "good",
          "bad",
          "good",
          "good",
          "good",
          "good",
          "bad",
          "good",
          "bad",
          "good",
          "good",
          "good",
          "bad",
          "good",
          "good",
          "good",
          "bad",
          "good",
          "good",
          "good",
          "bad",
          "bad",
          "good",
          "bad",
          "good",
          "good",
          "bad",
          "good",
          "good",
          "good",
          "good",
          "bad",
          "good",
          "good",
          "bad",
          "good",
          "good",
          "good",
          "good",
          "good",
          "good",
          "good",
          "good",
          "bad",
          "good",
          "good",
          "good",
          "bad",
          "bad",
          "bad",
          "good",
          "bad",
          "bad",
          "good",
          "good",
          "good",
          "good",
          "good",
          "good",
          "good",
          "good",
          "good",
          "bad",
          "good",
          "good",
          "good",
          "good",
          "good",
          "bad",
          "good",
          "good",
          "good",
          "bad",
          "bad",
          "good",
          "good",
          "good",
          "bad",
          "good",
          "good",
          "bad",
          "bad",
          "bad",
          "good",
          "bad",
          "good",
          "good",
          "bad",
          "good",
          "good",
          "good",
          "good",
          "good",
          "good",
          "bad",
          "good",
          "good",
          "good",
          "bad",
          "bad",
          "good",
          "good",
          "good",
          "good",
          "good",
          "bad",
          "good",
          "good",
          "bad",
          "good",
          "good",
          "good",
          "bad",
          "good",
          "good",
          "bad",
          "good",
          "bad",
          "good",
          "bad",
          "bad",
          "good",
          "bad",
          "good",
          "good",
          "bad",
          "good",
          "good",
          "good",
          "bad",
          "good",
          "good",
          "bad",
          "bad",
          "bad",
          "bad",
          "bad",
          "good",
          "bad",
          "good",
          "bad",
          "good",
          "good",
          "bad",
          "good",
          "good",
          "bad",
          "bad",
          "good",
          "good",
          "good",
          "good",
          "good",
          "good",
          "good",
          "bad",
          "good",
          "bad",
          "good",
          "good",
          "bad",
          "good",
          "bad",
          "good",
          "good",
          "bad",
          "bad",
          "good",
          "good",
          "good",
          "bad",
          "bad",
          "bad",
          "bad",
          "bad",
          "bad",
          "good",
          "good",
          "bad",
          "bad",
          "bad",
          "good",
          "good",
          "good",
          "bad",
          "good",
          "good",
          "bad",
          "bad",
          "good",
          "good",
          "bad",
          "good",
          "good",
          "good",
          "bad",
          "good",
          "good",
          "bad",
          "bad",
          "good",
          "bad",
          "good",
          "good",
          "bad",
          "good",
          "good",
          "good",
          "bad",
          "good",
          "bad",
          "bad",
          "good",
          "good",
          "good",
          "good",
          "bad",
          "bad",
          "good",
          "bad",
          "good",
          "good",
          "bad",
          "good",
          "bad",
          "bad",
          "bad",
          "good",
          "bad",
          "bad",
          "bad",
          "good",
          "good",
          "bad",
          "good",
          "good",
          "good",
          "good",
          "bad",
          "good",
          "good",
          "good",
          "good",
          "good",
          "good",
          "bad",
          "good",
          "good",
          "good",
          "good",
          "good",
          "bad",
          "good",
          "good",
          "bad",
          "good",
          "good",
          "good",
          "good",
          "good",
          "good",
          "good",
          "good",
          "good",
          "good",
          "good",
          "good",
          "good",
          "good",
          "good",
          "good",
          "good",
          "good",
          "good",
          "good",
          "good",
          "good",
          "bad",
          "bad",
          "good",
          "good",
          "good",
          "good",
          "bad",
          "bad",
          "good",
          "good",
          "good",
          "bad",
          "good",
          "good",
          "bad",
          "good",
          "good",
          "good",
          "good",
          "good",
          "bad",
          "bad",
          "bad",
          "good",
          "bad",
          "good",
          "good",
          "bad",
          "bad",
          "good",
          "good",
          "bad",
          "good",
          "good",
          "good",
          "good",
          "bad",
          "good",
          "good",
          "bad",
          "good",
          "good",
          "good",
          "good",
          "good",
          "good",
          "good",
          "bad",
          "good",
          "good",
          "good",
          "bad",
          "good",
          "good",
          "bad",
          "bad",
          "good",
          "bad",
          "good",
          "bad",
          "good",
          "bad",
          "good",
          "bad",
          "good",
          "good",
          "bad",
          "good",
          "good",
          "good",
          "good",
          "bad",
          "good",
          "good",
          "good",
          "bad",
          "good",
          "good",
          "good",
          "good",
          "bad",
          "good",
          "good",
          "bad",
          "good",
          "good",
          "good",
          "good",
          "bad",
          "bad",
          "bad",
          "good",
          "good",
          "good",
          "good",
          "good",
          "bad",
          "good",
          "good",
          "good",
          "good",
          "good",
          "good",
          "good",
          "good",
          "bad",
          "good",
          "good",
          "good",
          "bad",
          "good",
          "good",
          "bad",
          "bad",
          "bad",
          "good",
          "good",
          "good",
          "good",
          "bad",
          "good",
          "good",
          "bad",
          "good",
          "good",
          "good",
          "bad",
          "bad",
          "bad",
          "good",
          "good",
          "bad",
          "bad",
          "good",
          "bad",
          "bad",
          "good",
          "good",
          "good",
          "good",
          "bad",
          "good",
          "bad",
          "good",
          "good",
          "good",
          "bad",
          "good",
          "good",
          "bad",
          "bad",
          "good",
          "good",
          "bad",
          "good",
          "good",
          "good",
          "good",
          "bad",
          "good",
          "good",
          "bad",
          "bad",
          "good",
          "bad",
          "good",
          "good",
          "good",
          "good",
          "good",
          "good",
          "good",
          "good",
          "good",
          "good",
          "good",
          "good",
          "good",
          "bad",
          "good",
          "good",
          "good",
          "good",
          "good",
          "bad",
          "bad",
          "good",
          "bad",
          "good",
          "good",
          "good",
          "good",
          "good",
          "good",
          "good",
          "good",
          "good",
          "good",
          "good",
          "bad",
          "bad",
          "good",
          "good",
          "good",
          "good",
          "good",
          "good",
          "good",
          "good",
          "good",
          "good",
          "bad",
          "good",
          "good",
          "bad",
          "bad",
          "good",
          "bad",
          "bad",
          "bad",
          "good",
          "good",
          "bad",
          "good",
          "bad",
          "bad",
          "good",
          "bad",
          "good",
          "good",
          "good",
          "bad",
          "good",
          "good",
          "good",
          "bad",
          "bad",
          "good",
          "bad",
          "good",
          "good",
          "good",
          "good",
          "good",
          "good",
          "good",
          "bad",
          "good",
          "bad",
          "bad",
          "good",
          "bad",
          "bad",
          "bad",
          "good",
          "good",
          "good",
          "good",
          "bad",
          "good",
          "good",
          "good",
          "good",
          "bad",
          "good",
          "good",
          "bad",
          "good",
          "good",
          "good",
          "good",
          "good",
          "bad",
          "bad",
          "good",
          "good",
          "good",
          "good",
          "bad",
          "bad",
          "bad",
          "bad",
          "good",
          "bad",
          "good",
          "good",
          "good",
          "good",
          "good",
          "good",
          "good",
          "good",
          "good",
          "good",
          "good",
          "good",
          "good",
          "good",
          "bad",
          "good"
         ]
        }
       ],
       "layout": {
        "template": {
         "data": {
          "bar": [
           {
            "error_x": {
             "color": "#2a3f5f"
            },
            "error_y": {
             "color": "#2a3f5f"
            },
            "marker": {
             "line": {
              "color": "#E5ECF6",
              "width": 0.5
             },
             "pattern": {
              "fillmode": "overlay",
              "size": 10,
              "solidity": 0.2
             }
            },
            "type": "bar"
           }
          ],
          "barpolar": [
           {
            "marker": {
             "line": {
              "color": "#E5ECF6",
              "width": 0.5
             },
             "pattern": {
              "fillmode": "overlay",
              "size": 10,
              "solidity": 0.2
             }
            },
            "type": "barpolar"
           }
          ],
          "carpet": [
           {
            "aaxis": {
             "endlinecolor": "#2a3f5f",
             "gridcolor": "white",
             "linecolor": "white",
             "minorgridcolor": "white",
             "startlinecolor": "#2a3f5f"
            },
            "baxis": {
             "endlinecolor": "#2a3f5f",
             "gridcolor": "white",
             "linecolor": "white",
             "minorgridcolor": "white",
             "startlinecolor": "#2a3f5f"
            },
            "type": "carpet"
           }
          ],
          "choropleth": [
           {
            "colorbar": {
             "outlinewidth": 0,
             "ticks": ""
            },
            "type": "choropleth"
           }
          ],
          "contour": [
           {
            "colorbar": {
             "outlinewidth": 0,
             "ticks": ""
            },
            "colorscale": [
             [
              0,
              "#0d0887"
             ],
             [
              0.1111111111111111,
              "#46039f"
             ],
             [
              0.2222222222222222,
              "#7201a8"
             ],
             [
              0.3333333333333333,
              "#9c179e"
             ],
             [
              0.4444444444444444,
              "#bd3786"
             ],
             [
              0.5555555555555556,
              "#d8576b"
             ],
             [
              0.6666666666666666,
              "#ed7953"
             ],
             [
              0.7777777777777778,
              "#fb9f3a"
             ],
             [
              0.8888888888888888,
              "#fdca26"
             ],
             [
              1,
              "#f0f921"
             ]
            ],
            "type": "contour"
           }
          ],
          "contourcarpet": [
           {
            "colorbar": {
             "outlinewidth": 0,
             "ticks": ""
            },
            "type": "contourcarpet"
           }
          ],
          "heatmap": [
           {
            "colorbar": {
             "outlinewidth": 0,
             "ticks": ""
            },
            "colorscale": [
             [
              0,
              "#0d0887"
             ],
             [
              0.1111111111111111,
              "#46039f"
             ],
             [
              0.2222222222222222,
              "#7201a8"
             ],
             [
              0.3333333333333333,
              "#9c179e"
             ],
             [
              0.4444444444444444,
              "#bd3786"
             ],
             [
              0.5555555555555556,
              "#d8576b"
             ],
             [
              0.6666666666666666,
              "#ed7953"
             ],
             [
              0.7777777777777778,
              "#fb9f3a"
             ],
             [
              0.8888888888888888,
              "#fdca26"
             ],
             [
              1,
              "#f0f921"
             ]
            ],
            "type": "heatmap"
           }
          ],
          "heatmapgl": [
           {
            "colorbar": {
             "outlinewidth": 0,
             "ticks": ""
            },
            "colorscale": [
             [
              0,
              "#0d0887"
             ],
             [
              0.1111111111111111,
              "#46039f"
             ],
             [
              0.2222222222222222,
              "#7201a8"
             ],
             [
              0.3333333333333333,
              "#9c179e"
             ],
             [
              0.4444444444444444,
              "#bd3786"
             ],
             [
              0.5555555555555556,
              "#d8576b"
             ],
             [
              0.6666666666666666,
              "#ed7953"
             ],
             [
              0.7777777777777778,
              "#fb9f3a"
             ],
             [
              0.8888888888888888,
              "#fdca26"
             ],
             [
              1,
              "#f0f921"
             ]
            ],
            "type": "heatmapgl"
           }
          ],
          "histogram": [
           {
            "marker": {
             "pattern": {
              "fillmode": "overlay",
              "size": 10,
              "solidity": 0.2
             }
            },
            "type": "histogram"
           }
          ],
          "histogram2d": [
           {
            "colorbar": {
             "outlinewidth": 0,
             "ticks": ""
            },
            "colorscale": [
             [
              0,
              "#0d0887"
             ],
             [
              0.1111111111111111,
              "#46039f"
             ],
             [
              0.2222222222222222,
              "#7201a8"
             ],
             [
              0.3333333333333333,
              "#9c179e"
             ],
             [
              0.4444444444444444,
              "#bd3786"
             ],
             [
              0.5555555555555556,
              "#d8576b"
             ],
             [
              0.6666666666666666,
              "#ed7953"
             ],
             [
              0.7777777777777778,
              "#fb9f3a"
             ],
             [
              0.8888888888888888,
              "#fdca26"
             ],
             [
              1,
              "#f0f921"
             ]
            ],
            "type": "histogram2d"
           }
          ],
          "histogram2dcontour": [
           {
            "colorbar": {
             "outlinewidth": 0,
             "ticks": ""
            },
            "colorscale": [
             [
              0,
              "#0d0887"
             ],
             [
              0.1111111111111111,
              "#46039f"
             ],
             [
              0.2222222222222222,
              "#7201a8"
             ],
             [
              0.3333333333333333,
              "#9c179e"
             ],
             [
              0.4444444444444444,
              "#bd3786"
             ],
             [
              0.5555555555555556,
              "#d8576b"
             ],
             [
              0.6666666666666666,
              "#ed7953"
             ],
             [
              0.7777777777777778,
              "#fb9f3a"
             ],
             [
              0.8888888888888888,
              "#fdca26"
             ],
             [
              1,
              "#f0f921"
             ]
            ],
            "type": "histogram2dcontour"
           }
          ],
          "mesh3d": [
           {
            "colorbar": {
             "outlinewidth": 0,
             "ticks": ""
            },
            "type": "mesh3d"
           }
          ],
          "parcoords": [
           {
            "line": {
             "colorbar": {
              "outlinewidth": 0,
              "ticks": ""
             }
            },
            "type": "parcoords"
           }
          ],
          "pie": [
           {
            "automargin": true,
            "type": "pie"
           }
          ],
          "scatter": [
           {
            "fillpattern": {
             "fillmode": "overlay",
             "size": 10,
             "solidity": 0.2
            },
            "type": "scatter"
           }
          ],
          "scatter3d": [
           {
            "line": {
             "colorbar": {
              "outlinewidth": 0,
              "ticks": ""
             }
            },
            "marker": {
             "colorbar": {
              "outlinewidth": 0,
              "ticks": ""
             }
            },
            "type": "scatter3d"
           }
          ],
          "scattercarpet": [
           {
            "marker": {
             "colorbar": {
              "outlinewidth": 0,
              "ticks": ""
             }
            },
            "type": "scattercarpet"
           }
          ],
          "scattergeo": [
           {
            "marker": {
             "colorbar": {
              "outlinewidth": 0,
              "ticks": ""
             }
            },
            "type": "scattergeo"
           }
          ],
          "scattergl": [
           {
            "marker": {
             "colorbar": {
              "outlinewidth": 0,
              "ticks": ""
             }
            },
            "type": "scattergl"
           }
          ],
          "scattermapbox": [
           {
            "marker": {
             "colorbar": {
              "outlinewidth": 0,
              "ticks": ""
             }
            },
            "type": "scattermapbox"
           }
          ],
          "scatterpolar": [
           {
            "marker": {
             "colorbar": {
              "outlinewidth": 0,
              "ticks": ""
             }
            },
            "type": "scatterpolar"
           }
          ],
          "scatterpolargl": [
           {
            "marker": {
             "colorbar": {
              "outlinewidth": 0,
              "ticks": ""
             }
            },
            "type": "scatterpolargl"
           }
          ],
          "scatterternary": [
           {
            "marker": {
             "colorbar": {
              "outlinewidth": 0,
              "ticks": ""
             }
            },
            "type": "scatterternary"
           }
          ],
          "surface": [
           {
            "colorbar": {
             "outlinewidth": 0,
             "ticks": ""
            },
            "colorscale": [
             [
              0,
              "#0d0887"
             ],
             [
              0.1111111111111111,
              "#46039f"
             ],
             [
              0.2222222222222222,
              "#7201a8"
             ],
             [
              0.3333333333333333,
              "#9c179e"
             ],
             [
              0.4444444444444444,
              "#bd3786"
             ],
             [
              0.5555555555555556,
              "#d8576b"
             ],
             [
              0.6666666666666666,
              "#ed7953"
             ],
             [
              0.7777777777777778,
              "#fb9f3a"
             ],
             [
              0.8888888888888888,
              "#fdca26"
             ],
             [
              1,
              "#f0f921"
             ]
            ],
            "type": "surface"
           }
          ],
          "table": [
           {
            "cells": {
             "fill": {
              "color": "#EBF0F8"
             },
             "line": {
              "color": "white"
             }
            },
            "header": {
             "fill": {
              "color": "#C8D4E3"
             },
             "line": {
              "color": "white"
             }
            },
            "type": "table"
           }
          ]
         },
         "layout": {
          "annotationdefaults": {
           "arrowcolor": "#2a3f5f",
           "arrowhead": 0,
           "arrowwidth": 1
          },
          "autotypenumbers": "strict",
          "coloraxis": {
           "colorbar": {
            "outlinewidth": 0,
            "ticks": ""
           }
          },
          "colorscale": {
           "diverging": [
            [
             0,
             "#8e0152"
            ],
            [
             0.1,
             "#c51b7d"
            ],
            [
             0.2,
             "#de77ae"
            ],
            [
             0.3,
             "#f1b6da"
            ],
            [
             0.4,
             "#fde0ef"
            ],
            [
             0.5,
             "#f7f7f7"
            ],
            [
             0.6,
             "#e6f5d0"
            ],
            [
             0.7,
             "#b8e186"
            ],
            [
             0.8,
             "#7fbc41"
            ],
            [
             0.9,
             "#4d9221"
            ],
            [
             1,
             "#276419"
            ]
           ],
           "sequential": [
            [
             0,
             "#0d0887"
            ],
            [
             0.1111111111111111,
             "#46039f"
            ],
            [
             0.2222222222222222,
             "#7201a8"
            ],
            [
             0.3333333333333333,
             "#9c179e"
            ],
            [
             0.4444444444444444,
             "#bd3786"
            ],
            [
             0.5555555555555556,
             "#d8576b"
            ],
            [
             0.6666666666666666,
             "#ed7953"
            ],
            [
             0.7777777777777778,
             "#fb9f3a"
            ],
            [
             0.8888888888888888,
             "#fdca26"
            ],
            [
             1,
             "#f0f921"
            ]
           ],
           "sequentialminus": [
            [
             0,
             "#0d0887"
            ],
            [
             0.1111111111111111,
             "#46039f"
            ],
            [
             0.2222222222222222,
             "#7201a8"
            ],
            [
             0.3333333333333333,
             "#9c179e"
            ],
            [
             0.4444444444444444,
             "#bd3786"
            ],
            [
             0.5555555555555556,
             "#d8576b"
            ],
            [
             0.6666666666666666,
             "#ed7953"
            ],
            [
             0.7777777777777778,
             "#fb9f3a"
            ],
            [
             0.8888888888888888,
             "#fdca26"
            ],
            [
             1,
             "#f0f921"
            ]
           ]
          },
          "colorway": [
           "#636efa",
           "#EF553B",
           "#00cc96",
           "#ab63fa",
           "#FFA15A",
           "#19d3f3",
           "#FF6692",
           "#B6E880",
           "#FF97FF",
           "#FECB52"
          ],
          "font": {
           "color": "#2a3f5f"
          },
          "geo": {
           "bgcolor": "white",
           "lakecolor": "white",
           "landcolor": "#E5ECF6",
           "showlakes": true,
           "showland": true,
           "subunitcolor": "white"
          },
          "hoverlabel": {
           "align": "left"
          },
          "hovermode": "closest",
          "mapbox": {
           "style": "light"
          },
          "paper_bgcolor": "white",
          "plot_bgcolor": "#E5ECF6",
          "polar": {
           "angularaxis": {
            "gridcolor": "white",
            "linecolor": "white",
            "ticks": ""
           },
           "bgcolor": "#E5ECF6",
           "radialaxis": {
            "gridcolor": "white",
            "linecolor": "white",
            "ticks": ""
           }
          },
          "scene": {
           "xaxis": {
            "backgroundcolor": "#E5ECF6",
            "gridcolor": "white",
            "gridwidth": 2,
            "linecolor": "white",
            "showbackground": true,
            "ticks": "",
            "zerolinecolor": "white"
           },
           "yaxis": {
            "backgroundcolor": "#E5ECF6",
            "gridcolor": "white",
            "gridwidth": 2,
            "linecolor": "white",
            "showbackground": true,
            "ticks": "",
            "zerolinecolor": "white"
           },
           "zaxis": {
            "backgroundcolor": "#E5ECF6",
            "gridcolor": "white",
            "gridwidth": 2,
            "linecolor": "white",
            "showbackground": true,
            "ticks": "",
            "zerolinecolor": "white"
           }
          },
          "shapedefaults": {
           "line": {
            "color": "#2a3f5f"
           }
          },
          "ternary": {
           "aaxis": {
            "gridcolor": "white",
            "linecolor": "white",
            "ticks": ""
           },
           "baxis": {
            "gridcolor": "white",
            "linecolor": "white",
            "ticks": ""
           },
           "bgcolor": "#E5ECF6",
           "caxis": {
            "gridcolor": "white",
            "linecolor": "white",
            "ticks": ""
           }
          },
          "title": {
           "x": 0.05
          },
          "xaxis": {
           "automargin": true,
           "gridcolor": "white",
           "linecolor": "white",
           "ticks": "",
           "title": {
            "standoff": 15
           },
           "zerolinecolor": "white",
           "zerolinewidth": 2
          },
          "yaxis": {
           "automargin": true,
           "gridcolor": "white",
           "linecolor": "white",
           "ticks": "",
           "title": {
            "standoff": 15
           },
           "zerolinecolor": "white",
           "zerolinewidth": 2
          }
         }
        },
        "title": {
         "text": "Distribution of Good/Bad Credit across Gender (Entire Dataset)"
        },
        "xaxis": {
         "title": {
          "text": "Credit"
         }
        },
        "yaxis": {
         "title": {
          "text": "Count"
         }
        }
       }
      }
     },
     "metadata": {},
     "output_type": "display_data"
    }
   ],
   "source": [
    "# visualize the current distribution of gender\n",
    "fig = go.Figure()\n",
    "\n",
    "fig.add_trace(go.Histogram(\n",
    "    x=labeled_df_raw[labeled_df_raw['Sex']=='female']['Risk'],\n",
    "    marker_color='#F5DDD3',\n",
    "    opacity=0.75,\n",
    "    name='female_original'\n",
    "))\n",
    "\n",
    "fig.add_trace(go.Histogram(\n",
    "    x=augmented_labeled_df_raw[augmented_labeled_df_raw['Sex']=='female']['Risk'],\n",
    "    marker_color='#F8C6AB',\n",
    "    opacity=0.75,\n",
    "    name='female_augmented'\n",
    "))\n",
    "\n",
    "fig.add_trace(go.Histogram(\n",
    "    x=labeled_df_raw[labeled_df_raw['Sex']=='male']['Risk'],\n",
    "    marker_color='#C9DDE4',\n",
    "    opacity=0.75,\n",
    "    name='male_original'\n",
    "))\n",
    "\n",
    "fig.add_trace(go.Histogram(\n",
    "    x=augmented_labeled_df_raw[augmented_labeled_df_raw['Sex']=='male']['Risk'],\n",
    "    marker_color='#ABE3F8',\n",
    "    opacity=0.75,\n",
    "    name='male_augmented'\n",
    "))\n",
    "\n",
    "\n",
    "fig.update_layout(\n",
    "    title_text='Distribution of Good/Bad Credit across Gender (Entire Dataset)',\n",
    "    xaxis_title='Credit',\n",
    "    yaxis_title='Count'\n",
    ")\n",
    "\n",
    "fig.write_image('../results/new-distribution-gender.png', scale=2)\n",
    "fig.show()"
   ]
  },
  {
   "cell_type": "code",
   "execution_count": 16,
   "id": "2861730f",
   "metadata": {},
   "outputs": [],
   "source": [
    "# train the model\n",
    "augmented_val_full = anti_classification(\n",
    "    'None', RandomForestClassifier(), 'RF', augmented_train_X, augmented_train_y, augmented_val_full, True\n",
    ")"
   ]
  },
  {
   "cell_type": "markdown",
   "id": "d69538fd",
   "metadata": {},
   "source": [
    "### Results"
   ]
  },
  {
   "cell_type": "code",
   "execution_count": 17,
   "id": "6777de93",
   "metadata": {},
   "outputs": [
    {
     "name": "stdout",
     "output_type": "stream",
     "text": [
      "\n",
      "\n",
      "Confusion Matrix on Method 3 - Data Augmentation:\n",
      "\n",
      "------------- Confusion Matrix (Count) --------------\n",
      "                  Predictably Good    Predictably Bad\n",
      "--------------  ------------------  -----------------\n",
      "Factually Good                 266                 17\n",
      "Factually Bad                   41                 76\n",
      "-----------------------------------------------------\n",
      "\n",
      "\n",
      "------------- Confusion Matrix (Ratio) --------------\n",
      "                  Predictably Good    Predictably Bad\n",
      "--------------  ------------------  -----------------\n",
      "Factually Good              0.665              0.0425\n",
      "Factually Bad               0.1025             0.19\n",
      "-----------------------------------------------------\n",
      "\n",
      "\n",
      "Confusion Matrix on Method 3: BREAKDOWN\n",
      "SUBGROUP - FEMALE:\n",
      "------------- Confusion Matrix (Count) --------------\n",
      "                  Predictably Good    Predictably Bad\n",
      "--------------  ------------------  -----------------\n",
      "Factually Good                 133                  7\n",
      "Factually Bad                   19                 41\n",
      "-----------------------------------------------------\n",
      "\n",
      "\n",
      "------------- Confusion Matrix (Ratio) --------------\n",
      "                  Predictably Good    Predictably Bad\n",
      "--------------  ------------------  -----------------\n",
      "Factually Good               0.665              0.035\n",
      "Factually Bad                0.095              0.205\n",
      "-----------------------------------------------------\n",
      "\n",
      "\n",
      "\n",
      "SUBGROUP - MALE:\n",
      "------------- Confusion Matrix (Count) --------------\n",
      "                  Predictably Good    Predictably Bad\n",
      "--------------  ------------------  -----------------\n",
      "Factually Good                 133                 10\n",
      "Factually Bad                   22                 35\n",
      "-----------------------------------------------------\n",
      "\n",
      "\n",
      "------------- Confusion Matrix (Ratio) --------------\n",
      "                  Predictably Good    Predictably Bad\n",
      "--------------  ------------------  -----------------\n",
      "Factually Good               0.665              0.05\n",
      "Factually Bad                0.11               0.175\n",
      "-----------------------------------------------------\n",
      "\n",
      "\n",
      "\n"
     ]
    }
   ],
   "source": [
    "# obtain needed column names\n",
    "pred_col_m3 = 'Risk_pred(protected=None, model=RF)'\n",
    "true_col = 'Risk'\n",
    "\n",
    "# obtain the confusion matrix on full results\n",
    "print(\"\\n\\nConfusion Matrix on Method 3 - Data Augmentation:\\n\")\n",
    "_ = print_confusion_matrix(confusion_matrix(augmented_val_full[true_col], augmented_val_full[pred_col_m3]))\n",
    "\n",
    "print(\"\\n\\nConfusion Matrix on Method 3: BREAKDOWN\")\n",
    "tpr_sex, fpr_sex, fnr_sex, tnr_sex  = dict(), dict(), dict(), dict()\n",
    "for gender in ('female', 'male'):\n",
    "    print(f\"SUBGROUP - {gender.upper()}:\")\n",
    "    tpr_sex[gender], fpr_sex[gender], fnr_sex[gender], tnr_sex[gender] = print_confusion_matrix(confusion_matrix(\n",
    "        augmented_val_full[augmented_val_full['Sex']==gender][true_col], \n",
    "        augmented_val_full[augmented_val_full['Sex']==gender][pred_col_m3]\n",
    "    ))\n",
    "    print(\"\\n\\n\")"
   ]
  },
  {
   "cell_type": "code",
   "execution_count": 18,
   "id": "3e020d8a",
   "metadata": {},
   "outputs": [
    {
     "name": "stdout",
     "output_type": "stream",
     "text": [
      "\n",
      "Results on Method 3 - Data Augmentation:\n",
      "Accuracy:  0.8550\n",
      "Precision: 0.8418\n",
      "Recall:    0.7948\n",
      "F1 Score:  0.8128\n",
      "\n",
      "\n",
      "Results on Method 3 - Data Augmentation (BREAKDOWN):\n",
      "SUBGROUP - FEMALE:\n",
      "Accuracy:  0.8700\n",
      "Precision: 0.8646\n",
      "Recall:    0.8167\n",
      "F1 Score:  0.8351\n",
      "\n",
      "SUBGROUP - MALE:\n",
      "Accuracy:  0.8400\n",
      "Precision: 0.8179\n",
      "Recall:    0.7721\n",
      "F1 Score:  0.7894\n",
      "\n"
     ]
    }
   ],
   "source": [
    "# print out the results\n",
    "m3_acc = accuracy_score(augmented_val_full[true_col], augmented_val_full[pred_col_m3])\n",
    "\n",
    "m3_precision, m3_recall, m3_f1, _ = precision_recall_fscore_support(\n",
    "    augmented_val_full[true_col], augmented_val_full[pred_col_m3], average='macro'\n",
    ")\n",
    "\n",
    "print(f\"\\nResults on Method 3 - Data Augmentation:\")\n",
    "print(f\"Accuracy:  {m3_acc:.4f}\")\n",
    "print(f\"Precision: {m3_precision:.4f}\")\n",
    "print(f\"Recall:    {m3_recall:.4f}\")\n",
    "print(f\"F1 Score:  {m3_f1:.4f}\\n\")\n",
    "\n",
    "# break down results\n",
    "print(f\"\\nResults on Method 3 - Data Augmentation (BREAKDOWN):\")\n",
    "\n",
    "for gender in thre_dict.keys():\n",
    "\n",
    "    m3_acc_sub = accuracy_score(\n",
    "        augmented_val_full[augmented_val_full['Sex'] == gender][true_col], \n",
    "        augmented_val_full[augmented_val_full['Sex'] == gender][pred_col_m3]\n",
    "    )\n",
    "\n",
    "    m3_precision_sub, m3_recall_sub, m3_f1_sub, _ = precision_recall_fscore_support(\n",
    "        augmented_val_full[augmented_val_full['Sex'] == gender][true_col], \n",
    "        augmented_val_full[augmented_val_full['Sex'] == gender][pred_col_m3], average='macro'\n",
    "    )\n",
    "\n",
    "    print(f\"SUBGROUP - {gender.upper()}:\")\n",
    "    print(f\"Accuracy:  {m3_acc_sub:.4f}\")\n",
    "    print(f\"Precision: {m3_precision_sub:.4f}\")\n",
    "    print(f\"Recall:    {m3_recall_sub:.4f}\")\n",
    "    print(f\"F1 Score:  {m3_f1_sub:.4f}\\n\")"
   ]
  },
  {
   "cell_type": "markdown",
   "id": "dee08afc",
   "metadata": {},
   "source": [
    "#### Fairness Measure"
   ]
  },
  {
   "cell_type": "code",
   "execution_count": 19,
   "id": "596bf4e3",
   "metadata": {},
   "outputs": [
    {
     "data": {
      "application/vnd.plotly.v1+json": {
       "config": {
        "plotlyServerURL": "https://plot.ly"
       },
       "data": [
        {
         "marker": {
          "color": "#F3A291"
         },
         "name": "true positive rate",
         "opacity": 0.75,
         "type": "bar",
         "x": [
          "female",
          "male"
         ],
         "y": [
          0.665,
          0.665
         ]
        },
        {
         "marker": {
          "color": "#F3CA91"
         },
         "name": "false positive rate",
         "opacity": 0.75,
         "type": "bar",
         "x": [
          "female",
          "male"
         ],
         "y": [
          0.095,
          0.11
         ]
        },
        {
         "marker": {
          "color": "#CAF391"
         },
         "name": "false negative rate",
         "opacity": 0.75,
         "type": "bar",
         "x": [
          "female",
          "male"
         ],
         "y": [
          0.035,
          0.05
         ]
        },
        {
         "marker": {
          "color": "#91F3D1"
         },
         "name": "true negative rate",
         "opacity": 0.75,
         "type": "bar",
         "x": [
          "female",
          "male"
         ],
         "y": [
          0.205,
          0.175
         ]
        }
       ],
       "layout": {
        "height": 500,
        "template": {
         "data": {
          "bar": [
           {
            "error_x": {
             "color": "#2a3f5f"
            },
            "error_y": {
             "color": "#2a3f5f"
            },
            "marker": {
             "line": {
              "color": "#E5ECF6",
              "width": 0.5
             },
             "pattern": {
              "fillmode": "overlay",
              "size": 10,
              "solidity": 0.2
             }
            },
            "type": "bar"
           }
          ],
          "barpolar": [
           {
            "marker": {
             "line": {
              "color": "#E5ECF6",
              "width": 0.5
             },
             "pattern": {
              "fillmode": "overlay",
              "size": 10,
              "solidity": 0.2
             }
            },
            "type": "barpolar"
           }
          ],
          "carpet": [
           {
            "aaxis": {
             "endlinecolor": "#2a3f5f",
             "gridcolor": "white",
             "linecolor": "white",
             "minorgridcolor": "white",
             "startlinecolor": "#2a3f5f"
            },
            "baxis": {
             "endlinecolor": "#2a3f5f",
             "gridcolor": "white",
             "linecolor": "white",
             "minorgridcolor": "white",
             "startlinecolor": "#2a3f5f"
            },
            "type": "carpet"
           }
          ],
          "choropleth": [
           {
            "colorbar": {
             "outlinewidth": 0,
             "ticks": ""
            },
            "type": "choropleth"
           }
          ],
          "contour": [
           {
            "colorbar": {
             "outlinewidth": 0,
             "ticks": ""
            },
            "colorscale": [
             [
              0,
              "#0d0887"
             ],
             [
              0.1111111111111111,
              "#46039f"
             ],
             [
              0.2222222222222222,
              "#7201a8"
             ],
             [
              0.3333333333333333,
              "#9c179e"
             ],
             [
              0.4444444444444444,
              "#bd3786"
             ],
             [
              0.5555555555555556,
              "#d8576b"
             ],
             [
              0.6666666666666666,
              "#ed7953"
             ],
             [
              0.7777777777777778,
              "#fb9f3a"
             ],
             [
              0.8888888888888888,
              "#fdca26"
             ],
             [
              1,
              "#f0f921"
             ]
            ],
            "type": "contour"
           }
          ],
          "contourcarpet": [
           {
            "colorbar": {
             "outlinewidth": 0,
             "ticks": ""
            },
            "type": "contourcarpet"
           }
          ],
          "heatmap": [
           {
            "colorbar": {
             "outlinewidth": 0,
             "ticks": ""
            },
            "colorscale": [
             [
              0,
              "#0d0887"
             ],
             [
              0.1111111111111111,
              "#46039f"
             ],
             [
              0.2222222222222222,
              "#7201a8"
             ],
             [
              0.3333333333333333,
              "#9c179e"
             ],
             [
              0.4444444444444444,
              "#bd3786"
             ],
             [
              0.5555555555555556,
              "#d8576b"
             ],
             [
              0.6666666666666666,
              "#ed7953"
             ],
             [
              0.7777777777777778,
              "#fb9f3a"
             ],
             [
              0.8888888888888888,
              "#fdca26"
             ],
             [
              1,
              "#f0f921"
             ]
            ],
            "type": "heatmap"
           }
          ],
          "heatmapgl": [
           {
            "colorbar": {
             "outlinewidth": 0,
             "ticks": ""
            },
            "colorscale": [
             [
              0,
              "#0d0887"
             ],
             [
              0.1111111111111111,
              "#46039f"
             ],
             [
              0.2222222222222222,
              "#7201a8"
             ],
             [
              0.3333333333333333,
              "#9c179e"
             ],
             [
              0.4444444444444444,
              "#bd3786"
             ],
             [
              0.5555555555555556,
              "#d8576b"
             ],
             [
              0.6666666666666666,
              "#ed7953"
             ],
             [
              0.7777777777777778,
              "#fb9f3a"
             ],
             [
              0.8888888888888888,
              "#fdca26"
             ],
             [
              1,
              "#f0f921"
             ]
            ],
            "type": "heatmapgl"
           }
          ],
          "histogram": [
           {
            "marker": {
             "pattern": {
              "fillmode": "overlay",
              "size": 10,
              "solidity": 0.2
             }
            },
            "type": "histogram"
           }
          ],
          "histogram2d": [
           {
            "colorbar": {
             "outlinewidth": 0,
             "ticks": ""
            },
            "colorscale": [
             [
              0,
              "#0d0887"
             ],
             [
              0.1111111111111111,
              "#46039f"
             ],
             [
              0.2222222222222222,
              "#7201a8"
             ],
             [
              0.3333333333333333,
              "#9c179e"
             ],
             [
              0.4444444444444444,
              "#bd3786"
             ],
             [
              0.5555555555555556,
              "#d8576b"
             ],
             [
              0.6666666666666666,
              "#ed7953"
             ],
             [
              0.7777777777777778,
              "#fb9f3a"
             ],
             [
              0.8888888888888888,
              "#fdca26"
             ],
             [
              1,
              "#f0f921"
             ]
            ],
            "type": "histogram2d"
           }
          ],
          "histogram2dcontour": [
           {
            "colorbar": {
             "outlinewidth": 0,
             "ticks": ""
            },
            "colorscale": [
             [
              0,
              "#0d0887"
             ],
             [
              0.1111111111111111,
              "#46039f"
             ],
             [
              0.2222222222222222,
              "#7201a8"
             ],
             [
              0.3333333333333333,
              "#9c179e"
             ],
             [
              0.4444444444444444,
              "#bd3786"
             ],
             [
              0.5555555555555556,
              "#d8576b"
             ],
             [
              0.6666666666666666,
              "#ed7953"
             ],
             [
              0.7777777777777778,
              "#fb9f3a"
             ],
             [
              0.8888888888888888,
              "#fdca26"
             ],
             [
              1,
              "#f0f921"
             ]
            ],
            "type": "histogram2dcontour"
           }
          ],
          "mesh3d": [
           {
            "colorbar": {
             "outlinewidth": 0,
             "ticks": ""
            },
            "type": "mesh3d"
           }
          ],
          "parcoords": [
           {
            "line": {
             "colorbar": {
              "outlinewidth": 0,
              "ticks": ""
             }
            },
            "type": "parcoords"
           }
          ],
          "pie": [
           {
            "automargin": true,
            "type": "pie"
           }
          ],
          "scatter": [
           {
            "fillpattern": {
             "fillmode": "overlay",
             "size": 10,
             "solidity": 0.2
            },
            "type": "scatter"
           }
          ],
          "scatter3d": [
           {
            "line": {
             "colorbar": {
              "outlinewidth": 0,
              "ticks": ""
             }
            },
            "marker": {
             "colorbar": {
              "outlinewidth": 0,
              "ticks": ""
             }
            },
            "type": "scatter3d"
           }
          ],
          "scattercarpet": [
           {
            "marker": {
             "colorbar": {
              "outlinewidth": 0,
              "ticks": ""
             }
            },
            "type": "scattercarpet"
           }
          ],
          "scattergeo": [
           {
            "marker": {
             "colorbar": {
              "outlinewidth": 0,
              "ticks": ""
             }
            },
            "type": "scattergeo"
           }
          ],
          "scattergl": [
           {
            "marker": {
             "colorbar": {
              "outlinewidth": 0,
              "ticks": ""
             }
            },
            "type": "scattergl"
           }
          ],
          "scattermapbox": [
           {
            "marker": {
             "colorbar": {
              "outlinewidth": 0,
              "ticks": ""
             }
            },
            "type": "scattermapbox"
           }
          ],
          "scatterpolar": [
           {
            "marker": {
             "colorbar": {
              "outlinewidth": 0,
              "ticks": ""
             }
            },
            "type": "scatterpolar"
           }
          ],
          "scatterpolargl": [
           {
            "marker": {
             "colorbar": {
              "outlinewidth": 0,
              "ticks": ""
             }
            },
            "type": "scatterpolargl"
           }
          ],
          "scatterternary": [
           {
            "marker": {
             "colorbar": {
              "outlinewidth": 0,
              "ticks": ""
             }
            },
            "type": "scatterternary"
           }
          ],
          "surface": [
           {
            "colorbar": {
             "outlinewidth": 0,
             "ticks": ""
            },
            "colorscale": [
             [
              0,
              "#0d0887"
             ],
             [
              0.1111111111111111,
              "#46039f"
             ],
             [
              0.2222222222222222,
              "#7201a8"
             ],
             [
              0.3333333333333333,
              "#9c179e"
             ],
             [
              0.4444444444444444,
              "#bd3786"
             ],
             [
              0.5555555555555556,
              "#d8576b"
             ],
             [
              0.6666666666666666,
              "#ed7953"
             ],
             [
              0.7777777777777778,
              "#fb9f3a"
             ],
             [
              0.8888888888888888,
              "#fdca26"
             ],
             [
              1,
              "#f0f921"
             ]
            ],
            "type": "surface"
           }
          ],
          "table": [
           {
            "cells": {
             "fill": {
              "color": "#EBF0F8"
             },
             "line": {
              "color": "white"
             }
            },
            "header": {
             "fill": {
              "color": "#C8D4E3"
             },
             "line": {
              "color": "white"
             }
            },
            "type": "table"
           }
          ]
         },
         "layout": {
          "annotationdefaults": {
           "arrowcolor": "#2a3f5f",
           "arrowhead": 0,
           "arrowwidth": 1
          },
          "autotypenumbers": "strict",
          "coloraxis": {
           "colorbar": {
            "outlinewidth": 0,
            "ticks": ""
           }
          },
          "colorscale": {
           "diverging": [
            [
             0,
             "#8e0152"
            ],
            [
             0.1,
             "#c51b7d"
            ],
            [
             0.2,
             "#de77ae"
            ],
            [
             0.3,
             "#f1b6da"
            ],
            [
             0.4,
             "#fde0ef"
            ],
            [
             0.5,
             "#f7f7f7"
            ],
            [
             0.6,
             "#e6f5d0"
            ],
            [
             0.7,
             "#b8e186"
            ],
            [
             0.8,
             "#7fbc41"
            ],
            [
             0.9,
             "#4d9221"
            ],
            [
             1,
             "#276419"
            ]
           ],
           "sequential": [
            [
             0,
             "#0d0887"
            ],
            [
             0.1111111111111111,
             "#46039f"
            ],
            [
             0.2222222222222222,
             "#7201a8"
            ],
            [
             0.3333333333333333,
             "#9c179e"
            ],
            [
             0.4444444444444444,
             "#bd3786"
            ],
            [
             0.5555555555555556,
             "#d8576b"
            ],
            [
             0.6666666666666666,
             "#ed7953"
            ],
            [
             0.7777777777777778,
             "#fb9f3a"
            ],
            [
             0.8888888888888888,
             "#fdca26"
            ],
            [
             1,
             "#f0f921"
            ]
           ],
           "sequentialminus": [
            [
             0,
             "#0d0887"
            ],
            [
             0.1111111111111111,
             "#46039f"
            ],
            [
             0.2222222222222222,
             "#7201a8"
            ],
            [
             0.3333333333333333,
             "#9c179e"
            ],
            [
             0.4444444444444444,
             "#bd3786"
            ],
            [
             0.5555555555555556,
             "#d8576b"
            ],
            [
             0.6666666666666666,
             "#ed7953"
            ],
            [
             0.7777777777777778,
             "#fb9f3a"
            ],
            [
             0.8888888888888888,
             "#fdca26"
            ],
            [
             1,
             "#f0f921"
            ]
           ]
          },
          "colorway": [
           "#636efa",
           "#EF553B",
           "#00cc96",
           "#ab63fa",
           "#FFA15A",
           "#19d3f3",
           "#FF6692",
           "#B6E880",
           "#FF97FF",
           "#FECB52"
          ],
          "font": {
           "color": "#2a3f5f"
          },
          "geo": {
           "bgcolor": "white",
           "lakecolor": "white",
           "landcolor": "#E5ECF6",
           "showlakes": true,
           "showland": true,
           "subunitcolor": "white"
          },
          "hoverlabel": {
           "align": "left"
          },
          "hovermode": "closest",
          "mapbox": {
           "style": "light"
          },
          "paper_bgcolor": "white",
          "plot_bgcolor": "#E5ECF6",
          "polar": {
           "angularaxis": {
            "gridcolor": "white",
            "linecolor": "white",
            "ticks": ""
           },
           "bgcolor": "#E5ECF6",
           "radialaxis": {
            "gridcolor": "white",
            "linecolor": "white",
            "ticks": ""
           }
          },
          "scene": {
           "xaxis": {
            "backgroundcolor": "#E5ECF6",
            "gridcolor": "white",
            "gridwidth": 2,
            "linecolor": "white",
            "showbackground": true,
            "ticks": "",
            "zerolinecolor": "white"
           },
           "yaxis": {
            "backgroundcolor": "#E5ECF6",
            "gridcolor": "white",
            "gridwidth": 2,
            "linecolor": "white",
            "showbackground": true,
            "ticks": "",
            "zerolinecolor": "white"
           },
           "zaxis": {
            "backgroundcolor": "#E5ECF6",
            "gridcolor": "white",
            "gridwidth": 2,
            "linecolor": "white",
            "showbackground": true,
            "ticks": "",
            "zerolinecolor": "white"
           }
          },
          "shapedefaults": {
           "line": {
            "color": "#2a3f5f"
           }
          },
          "ternary": {
           "aaxis": {
            "gridcolor": "white",
            "linecolor": "white",
            "ticks": ""
           },
           "baxis": {
            "gridcolor": "white",
            "linecolor": "white",
            "ticks": ""
           },
           "bgcolor": "#E5ECF6",
           "caxis": {
            "gridcolor": "white",
            "linecolor": "white",
            "ticks": ""
           }
          },
          "title": {
           "x": 0.05
          },
          "xaxis": {
           "automargin": true,
           "gridcolor": "white",
           "linecolor": "white",
           "ticks": "",
           "title": {
            "standoff": 15
           },
           "zerolinecolor": "white",
           "zerolinewidth": 2
          },
          "yaxis": {
           "automargin": true,
           "gridcolor": "white",
           "linecolor": "white",
           "ticks": "",
           "title": {
            "standoff": 15
           },
           "zerolinecolor": "white",
           "zerolinewidth": 2
          }
         }
        },
        "title": {
         "text": "Metrics within Confusion Matrix w.r.t. Gender Differences (Data Augmented)"
        },
        "width": 1200,
        "xaxis": {
         "title": {
          "text": "Sex"
         }
        },
        "yaxis": {
         "title": {
          "text": "Rate"
         }
        }
       }
      }
     },
     "metadata": {},
     "output_type": "display_data"
    }
   ],
   "source": [
    "# visualize the results\n",
    "fig = go.Figure()\n",
    "fig.add_trace(go.Bar(\n",
    "    x=list(tpr_sex.keys()),\n",
    "    y=list(tpr_sex.values()),\n",
    "    marker_color='#F3A291',\n",
    "    opacity=0.75,\n",
    "    name='true positive rate'\n",
    "))\n",
    "fig.add_trace(go.Bar(\n",
    "    x=list(fpr_sex.keys()),\n",
    "    y=list(fpr_sex.values()),\n",
    "    marker_color='#F3CA91',\n",
    "    opacity=0.75,\n",
    "    name='false positive rate'\n",
    "))\n",
    "fig.add_trace(go.Bar(\n",
    "    x=list(fnr_sex.keys()),\n",
    "    y=list(fnr_sex.values()),\n",
    "    marker_color='#CAF391',\n",
    "    opacity=0.75,\n",
    "    name='false negative rate'\n",
    "))\n",
    "fig.add_trace(go.Bar(\n",
    "    x=list(tnr_sex.keys()),\n",
    "    y=list(tnr_sex.values()),\n",
    "    marker_color='#91F3D1',\n",
    "    opacity=0.75,\n",
    "    name='true negative rate'\n",
    "))\n",
    "fig.update_layout(\n",
    "    title_text='Metrics within Confusion Matrix w.r.t. Gender Differences (Data Augmented)',\n",
    "    xaxis_title='Sex',\n",
    "    yaxis_title='Rate',\n",
    "    width=1200,\n",
    "    height=500,\n",
    ")\n",
    "fig.write_image('../results/separation-2-after.png', scale=2)\n",
    "fig.show()"
   ]
  }
 ],
 "metadata": {
  "kernelspec": {
   "display_name": "Python 3 (ipykernel)",
   "language": "python",
   "name": "python3"
  },
  "language_info": {
   "codemirror_mode": {
    "name": "ipython",
    "version": 3
   },
   "file_extension": ".py",
   "mimetype": "text/x-python",
   "name": "python",
   "nbconvert_exporter": "python",
   "pygments_lexer": "ipython3",
   "version": "3.9.10"
  }
 },
 "nbformat": 4,
 "nbformat_minor": 5
}
