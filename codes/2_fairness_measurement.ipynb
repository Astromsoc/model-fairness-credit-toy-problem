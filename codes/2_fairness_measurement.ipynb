{
 "cells": [
  {
   "cell_type": "markdown",
   "id": "d12ef305",
   "metadata": {},
   "source": [
    "# Task 2: Measuring Fairness\n",
    "\n",
    "__Note__: Some graphs created with `plotly` may not be normally visualized in GitHub due to lack of support of certain affiliated packages. Please navigate to the `../results/` directory or download the notebook to run locally for better experience."
   ]
  },
  {
   "cell_type": "markdown",
   "id": "8fa88a96",
   "metadata": {},
   "source": [
    "## Import libraries and functions"
   ]
  },
  {
   "cell_type": "code",
   "execution_count": 1,
   "id": "d412f7ca",
   "metadata": {},
   "outputs": [],
   "source": [
    "import pandas as pd\n",
    "import plotly.graph_objs as go\n",
    "import matplotlib.pyplot as plt\n",
    "\n",
    "# model: choose RF for its overall good performance\n",
    "from sklearn.metrics import confusion_matrix, accuracy_score\n",
    "from sklearn.ensemble import RandomForestClassifier\n",
    "from sklearn.model_selection import train_test_split\n",
    "\n",
    "# constants\n",
    "from const import *\n",
    "\n",
    "# udfs\n",
    "from utils import *"
   ]
  },
  {
   "cell_type": "markdown",
   "id": "c3e5ffb1",
   "metadata": {},
   "source": [
    "## Load Dataset"
   ]
  },
  {
   "cell_type": "code",
   "execution_count": 2,
   "id": "2225d95d",
   "metadata": {},
   "outputs": [],
   "source": [
    "labeled_df_raw = pd.read_csv('../' + LABELED_DATA_PATH).drop('Unnamed: 0', axis=1)\n",
    "labeled_y, labeled_X = labeled_df_raw['Risk'], labeled_df_raw.drop('Risk', axis=1)"
   ]
  },
  {
   "cell_type": "markdown",
   "id": "a374dc17",
   "metadata": {},
   "source": [
    "## Split Dataset into Training and Validation Subsets"
   ]
  },
  {
   "cell_type": "code",
   "execution_count": 3,
   "id": "2172724c",
   "metadata": {},
   "outputs": [],
   "source": [
    "train_X, val_X, train_y, val_y = train_test_split(labeled_X, labeled_y, test_size=VAL_RATIO, random_state=RANDOM_SEED)"
   ]
  },
  {
   "cell_type": "code",
   "execution_count": 4,
   "id": "0210d3ff",
   "metadata": {},
   "outputs": [],
   "source": [
    "val_full = pd.merge(val_X, val_y, left_index=True, right_index=True)"
   ]
  },
  {
   "cell_type": "markdown",
   "id": "da745072",
   "metadata": {},
   "source": [
    "## Baseline Model: With All Attributes Included\n",
    "\n",
    "Since group fairness and separation are both based on a model trained on the full corpus with all attributes incorporated, it is plausible to firstly train it here and reuse the results for convenience and clearer reference."
   ]
  },
  {
   "cell_type": "code",
   "execution_count": 5,
   "id": "acc809ff",
   "metadata": {},
   "outputs": [],
   "source": [
    "val_full, baseline = anti_classification(\n",
    "    'None', RandomForestClassifier(), 'RF', train_X, train_y, val_full, True, True\n",
    ")"
   ]
  },
  {
   "cell_type": "code",
   "execution_count": 6,
   "id": "defbfd1d",
   "metadata": {},
   "outputs": [],
   "source": [
    "# obtain the bins / boxes for subgroups\n",
    "min_age, max_age = 10 * int(val_full['Age'].min() / 10), 10 * math.ceil(val_full['Age'].max() / 10)\n",
    "age_group_count = (max_age - min_age) // 10\n",
    "female, male = 'female', 'male'"
   ]
  },
  {
   "cell_type": "code",
   "execution_count": 7,
   "id": "97d4448c",
   "metadata": {},
   "outputs": [],
   "source": [
    "prob_col = 'Risk_prob(protected=None, model=RF)'\n",
    "pred_col = 'Risk_pred(protected=None, model=RF)'\n",
    "true_col = 'Risk'"
   ]
  },
  {
   "cell_type": "code",
   "execution_count": 8,
   "id": "4a56ae35",
   "metadata": {},
   "outputs": [
    {
     "name": "stdout",
     "output_type": "stream",
     "text": [
      "\n",
      "\n",
      "Confusion Matrix: Nothing Protected (Baseline)\n",
      "\n",
      "------------- Confusion Matrix (Count) --------------\n",
      "                  Predictably Good    Predictably Bad\n",
      "--------------  ------------------  -----------------\n",
      "Factually Good                 116                 18\n",
      "Factually Bad                   34                 32\n",
      "-----------------------------------------------------\n",
      "\n",
      "\n",
      "------------- Confusion Matrix (Ratio) --------------\n",
      "                  Predictably Good    Predictably Bad\n",
      "--------------  ------------------  -----------------\n",
      "Factually Good                0.58               0.09\n",
      "Factually Bad                 0.17               0.16\n",
      "-----------------------------------------------------\n"
     ]
    }
   ],
   "source": [
    "# Confusion Matrix on Full Results\n",
    "print(\"\\n\\nConfusion Matrix: Nothing Protected (Baseline)\\n\")\n",
    "_ = print_confusion_matrix(confusion_matrix(val_full[true_col], val_full[[pred_col]]))"
   ]
  },
  {
   "cell_type": "markdown",
   "id": "e869d5cb",
   "metadata": {},
   "source": [
    "## Measuring Fairness\n",
    "### 1. Anti-Classification\n",
    "\n",
    "For each protected attribute in `attrs = ('Age', 'Sex')`, a model will be trained totally agnostic of this attribute, while the results will be visualized against its distribution."
   ]
  },
  {
   "cell_type": "markdown",
   "id": "e7f8478e",
   "metadata": {},
   "source": [
    "#### 1.1 Protected Attribute: Age"
   ]
  },
  {
   "cell_type": "code",
   "execution_count": 9,
   "id": "456cae25",
   "metadata": {},
   "outputs": [],
   "source": [
    "protected_attr_0 = 'Age'\n",
    "val_full = anti_classification(\n",
    "    protected_attr_0, RandomForestClassifier(), 'RF', train_X, train_y, val_full\n",
    ")"
   ]
  },
  {
   "cell_type": "markdown",
   "id": "79e3e8e2",
   "metadata": {},
   "source": [
    "##### a. Distribution of Predictions by New Model"
   ]
  },
  {
   "cell_type": "code",
   "execution_count": 10,
   "id": "cf605e35",
   "metadata": {},
   "outputs": [
    {
     "data": {
      "application/vnd.plotly.v1+json": {
       "config": {
        "plotlyServerURL": "https://plot.ly"
       },
       "data": [
        {
         "marker": {
          "color": "#EB89B5"
         },
         "name": "new_pred=\"good\"",
         "opacity": 0.75,
         "type": "histogram",
         "x": [
          43,
          48,
          45,
          33,
          28,
          27,
          34,
          49,
          53,
          25,
          27,
          46,
          24,
          41,
          37,
          34,
          34,
          23,
          31,
          27,
          32,
          51,
          33,
          39,
          27,
          20,
          43,
          22,
          21,
          29,
          22,
          34,
          24,
          31,
          34,
          28,
          42,
          27,
          62,
          27,
          35,
          47,
          24,
          25,
          29,
          29,
          40,
          23,
          28,
          32,
          38,
          49,
          33,
          24,
          22,
          28,
          38,
          24,
          23,
          42,
          31,
          30,
          25,
          36,
          27,
          52,
          27,
          39,
          57,
          74,
          28,
          34,
          27,
          28,
          27,
          39,
          51,
          37,
          24,
          30,
          43,
          33,
          33,
          26,
          37,
          26,
          31,
          40,
          43,
          27,
          41,
          33,
          19,
          41,
          32,
          25,
          44,
          45,
          34,
          29,
          24,
          50,
          36,
          63,
          37,
          37,
          30,
          27,
          27,
          27,
          28,
          31,
          46,
          23,
          39,
          50,
          55,
          34,
          32,
          24,
          21,
          44,
          22,
          35,
          32,
          29,
          30,
          34,
          27,
          24,
          40,
          30,
          35,
          31,
          30,
          25,
          36,
          39,
          45,
          44,
          33,
          33,
          34,
          38,
          56,
          38,
          35,
          35
         ]
        },
        {
         "marker": {
          "color": "#FDE18A"
         },
         "name": "baseline_pred=\"good\"",
         "opacity": 0.75,
         "type": "histogram",
         "x": [
          43,
          48,
          45,
          33,
          28,
          27,
          34,
          49,
          53,
          25,
          27,
          42,
          46,
          24,
          41,
          37,
          34,
          34,
          31,
          27,
          32,
          51,
          33,
          39,
          27,
          20,
          22,
          21,
          29,
          22,
          34,
          31,
          34,
          28,
          42,
          27,
          62,
          27,
          68,
          35,
          47,
          24,
          25,
          29,
          29,
          40,
          23,
          28,
          32,
          38,
          49,
          33,
          24,
          22,
          28,
          38,
          23,
          42,
          31,
          30,
          25,
          36,
          27,
          52,
          35,
          27,
          39,
          23,
          57,
          31,
          74,
          28,
          34,
          31,
          27,
          28,
          27,
          39,
          51,
          37,
          24,
          30,
          53,
          43,
          33,
          33,
          26,
          37,
          31,
          40,
          43,
          27,
          41,
          33,
          19,
          41,
          32,
          25,
          44,
          45,
          34,
          29,
          50,
          36,
          63,
          37,
          37,
          30,
          27,
          27,
          27,
          28,
          31,
          46,
          28,
          39,
          50,
          55,
          34,
          32,
          24,
          21,
          44,
          22,
          35,
          32,
          29,
          30,
          34,
          27,
          24,
          40,
          30,
          35,
          31,
          30,
          25,
          36,
          39,
          45,
          44,
          33,
          33,
          34,
          38,
          43,
          56,
          38,
          35,
          35
         ]
        },
        {
         "marker": {
          "color": "#330C73"
         },
         "name": "new_pred=\"bad\"",
         "opacity": 0.75,
         "type": "histogram",
         "x": [
          29,
          26,
          42,
          28,
          68,
          32,
          31,
          32,
          29,
          23,
          22,
          31,
          33,
          22,
          63,
          29,
          35,
          29,
          23,
          23,
          31,
          24,
          50,
          42,
          32,
          60,
          31,
          29,
          53,
          28,
          23,
          59,
          61,
          22,
          39,
          27,
          57,
          63,
          28,
          27,
          34,
          35,
          30,
          23,
          65,
          63,
          43,
          47,
          43,
          37,
          46,
          65
         ]
        },
        {
         "marker": {
          "color": "#9591F3"
         },
         "name": "baseline_pred=\"bad\"",
         "opacity": 0.75,
         "type": "histogram",
         "x": [
          29,
          26,
          23,
          43,
          28,
          24,
          32,
          31,
          32,
          29,
          23,
          22,
          24,
          31,
          33,
          22,
          63,
          29,
          29,
          23,
          24,
          50,
          42,
          32,
          60,
          29,
          28,
          26,
          23,
          59,
          61,
          22,
          39,
          27,
          24,
          57,
          63,
          23,
          27,
          34,
          35,
          30,
          23,
          65,
          63,
          43,
          47,
          37,
          46,
          65
         ]
        }
       ],
       "layout": {
        "template": {
         "data": {
          "bar": [
           {
            "error_x": {
             "color": "#2a3f5f"
            },
            "error_y": {
             "color": "#2a3f5f"
            },
            "marker": {
             "line": {
              "color": "#E5ECF6",
              "width": 0.5
             },
             "pattern": {
              "fillmode": "overlay",
              "size": 10,
              "solidity": 0.2
             }
            },
            "type": "bar"
           }
          ],
          "barpolar": [
           {
            "marker": {
             "line": {
              "color": "#E5ECF6",
              "width": 0.5
             },
             "pattern": {
              "fillmode": "overlay",
              "size": 10,
              "solidity": 0.2
             }
            },
            "type": "barpolar"
           }
          ],
          "carpet": [
           {
            "aaxis": {
             "endlinecolor": "#2a3f5f",
             "gridcolor": "white",
             "linecolor": "white",
             "minorgridcolor": "white",
             "startlinecolor": "#2a3f5f"
            },
            "baxis": {
             "endlinecolor": "#2a3f5f",
             "gridcolor": "white",
             "linecolor": "white",
             "minorgridcolor": "white",
             "startlinecolor": "#2a3f5f"
            },
            "type": "carpet"
           }
          ],
          "choropleth": [
           {
            "colorbar": {
             "outlinewidth": 0,
             "ticks": ""
            },
            "type": "choropleth"
           }
          ],
          "contour": [
           {
            "colorbar": {
             "outlinewidth": 0,
             "ticks": ""
            },
            "colorscale": [
             [
              0,
              "#0d0887"
             ],
             [
              0.1111111111111111,
              "#46039f"
             ],
             [
              0.2222222222222222,
              "#7201a8"
             ],
             [
              0.3333333333333333,
              "#9c179e"
             ],
             [
              0.4444444444444444,
              "#bd3786"
             ],
             [
              0.5555555555555556,
              "#d8576b"
             ],
             [
              0.6666666666666666,
              "#ed7953"
             ],
             [
              0.7777777777777778,
              "#fb9f3a"
             ],
             [
              0.8888888888888888,
              "#fdca26"
             ],
             [
              1,
              "#f0f921"
             ]
            ],
            "type": "contour"
           }
          ],
          "contourcarpet": [
           {
            "colorbar": {
             "outlinewidth": 0,
             "ticks": ""
            },
            "type": "contourcarpet"
           }
          ],
          "heatmap": [
           {
            "colorbar": {
             "outlinewidth": 0,
             "ticks": ""
            },
            "colorscale": [
             [
              0,
              "#0d0887"
             ],
             [
              0.1111111111111111,
              "#46039f"
             ],
             [
              0.2222222222222222,
              "#7201a8"
             ],
             [
              0.3333333333333333,
              "#9c179e"
             ],
             [
              0.4444444444444444,
              "#bd3786"
             ],
             [
              0.5555555555555556,
              "#d8576b"
             ],
             [
              0.6666666666666666,
              "#ed7953"
             ],
             [
              0.7777777777777778,
              "#fb9f3a"
             ],
             [
              0.8888888888888888,
              "#fdca26"
             ],
             [
              1,
              "#f0f921"
             ]
            ],
            "type": "heatmap"
           }
          ],
          "heatmapgl": [
           {
            "colorbar": {
             "outlinewidth": 0,
             "ticks": ""
            },
            "colorscale": [
             [
              0,
              "#0d0887"
             ],
             [
              0.1111111111111111,
              "#46039f"
             ],
             [
              0.2222222222222222,
              "#7201a8"
             ],
             [
              0.3333333333333333,
              "#9c179e"
             ],
             [
              0.4444444444444444,
              "#bd3786"
             ],
             [
              0.5555555555555556,
              "#d8576b"
             ],
             [
              0.6666666666666666,
              "#ed7953"
             ],
             [
              0.7777777777777778,
              "#fb9f3a"
             ],
             [
              0.8888888888888888,
              "#fdca26"
             ],
             [
              1,
              "#f0f921"
             ]
            ],
            "type": "heatmapgl"
           }
          ],
          "histogram": [
           {
            "marker": {
             "pattern": {
              "fillmode": "overlay",
              "size": 10,
              "solidity": 0.2
             }
            },
            "type": "histogram"
           }
          ],
          "histogram2d": [
           {
            "colorbar": {
             "outlinewidth": 0,
             "ticks": ""
            },
            "colorscale": [
             [
              0,
              "#0d0887"
             ],
             [
              0.1111111111111111,
              "#46039f"
             ],
             [
              0.2222222222222222,
              "#7201a8"
             ],
             [
              0.3333333333333333,
              "#9c179e"
             ],
             [
              0.4444444444444444,
              "#bd3786"
             ],
             [
              0.5555555555555556,
              "#d8576b"
             ],
             [
              0.6666666666666666,
              "#ed7953"
             ],
             [
              0.7777777777777778,
              "#fb9f3a"
             ],
             [
              0.8888888888888888,
              "#fdca26"
             ],
             [
              1,
              "#f0f921"
             ]
            ],
            "type": "histogram2d"
           }
          ],
          "histogram2dcontour": [
           {
            "colorbar": {
             "outlinewidth": 0,
             "ticks": ""
            },
            "colorscale": [
             [
              0,
              "#0d0887"
             ],
             [
              0.1111111111111111,
              "#46039f"
             ],
             [
              0.2222222222222222,
              "#7201a8"
             ],
             [
              0.3333333333333333,
              "#9c179e"
             ],
             [
              0.4444444444444444,
              "#bd3786"
             ],
             [
              0.5555555555555556,
              "#d8576b"
             ],
             [
              0.6666666666666666,
              "#ed7953"
             ],
             [
              0.7777777777777778,
              "#fb9f3a"
             ],
             [
              0.8888888888888888,
              "#fdca26"
             ],
             [
              1,
              "#f0f921"
             ]
            ],
            "type": "histogram2dcontour"
           }
          ],
          "mesh3d": [
           {
            "colorbar": {
             "outlinewidth": 0,
             "ticks": ""
            },
            "type": "mesh3d"
           }
          ],
          "parcoords": [
           {
            "line": {
             "colorbar": {
              "outlinewidth": 0,
              "ticks": ""
             }
            },
            "type": "parcoords"
           }
          ],
          "pie": [
           {
            "automargin": true,
            "type": "pie"
           }
          ],
          "scatter": [
           {
            "fillpattern": {
             "fillmode": "overlay",
             "size": 10,
             "solidity": 0.2
            },
            "type": "scatter"
           }
          ],
          "scatter3d": [
           {
            "line": {
             "colorbar": {
              "outlinewidth": 0,
              "ticks": ""
             }
            },
            "marker": {
             "colorbar": {
              "outlinewidth": 0,
              "ticks": ""
             }
            },
            "type": "scatter3d"
           }
          ],
          "scattercarpet": [
           {
            "marker": {
             "colorbar": {
              "outlinewidth": 0,
              "ticks": ""
             }
            },
            "type": "scattercarpet"
           }
          ],
          "scattergeo": [
           {
            "marker": {
             "colorbar": {
              "outlinewidth": 0,
              "ticks": ""
             }
            },
            "type": "scattergeo"
           }
          ],
          "scattergl": [
           {
            "marker": {
             "colorbar": {
              "outlinewidth": 0,
              "ticks": ""
             }
            },
            "type": "scattergl"
           }
          ],
          "scattermapbox": [
           {
            "marker": {
             "colorbar": {
              "outlinewidth": 0,
              "ticks": ""
             }
            },
            "type": "scattermapbox"
           }
          ],
          "scatterpolar": [
           {
            "marker": {
             "colorbar": {
              "outlinewidth": 0,
              "ticks": ""
             }
            },
            "type": "scatterpolar"
           }
          ],
          "scatterpolargl": [
           {
            "marker": {
             "colorbar": {
              "outlinewidth": 0,
              "ticks": ""
             }
            },
            "type": "scatterpolargl"
           }
          ],
          "scatterternary": [
           {
            "marker": {
             "colorbar": {
              "outlinewidth": 0,
              "ticks": ""
             }
            },
            "type": "scatterternary"
           }
          ],
          "surface": [
           {
            "colorbar": {
             "outlinewidth": 0,
             "ticks": ""
            },
            "colorscale": [
             [
              0,
              "#0d0887"
             ],
             [
              0.1111111111111111,
              "#46039f"
             ],
             [
              0.2222222222222222,
              "#7201a8"
             ],
             [
              0.3333333333333333,
              "#9c179e"
             ],
             [
              0.4444444444444444,
              "#bd3786"
             ],
             [
              0.5555555555555556,
              "#d8576b"
             ],
             [
              0.6666666666666666,
              "#ed7953"
             ],
             [
              0.7777777777777778,
              "#fb9f3a"
             ],
             [
              0.8888888888888888,
              "#fdca26"
             ],
             [
              1,
              "#f0f921"
             ]
            ],
            "type": "surface"
           }
          ],
          "table": [
           {
            "cells": {
             "fill": {
              "color": "#EBF0F8"
             },
             "line": {
              "color": "white"
             }
            },
            "header": {
             "fill": {
              "color": "#C8D4E3"
             },
             "line": {
              "color": "white"
             }
            },
            "type": "table"
           }
          ]
         },
         "layout": {
          "annotationdefaults": {
           "arrowcolor": "#2a3f5f",
           "arrowhead": 0,
           "arrowwidth": 1
          },
          "autotypenumbers": "strict",
          "coloraxis": {
           "colorbar": {
            "outlinewidth": 0,
            "ticks": ""
           }
          },
          "colorscale": {
           "diverging": [
            [
             0,
             "#8e0152"
            ],
            [
             0.1,
             "#c51b7d"
            ],
            [
             0.2,
             "#de77ae"
            ],
            [
             0.3,
             "#f1b6da"
            ],
            [
             0.4,
             "#fde0ef"
            ],
            [
             0.5,
             "#f7f7f7"
            ],
            [
             0.6,
             "#e6f5d0"
            ],
            [
             0.7,
             "#b8e186"
            ],
            [
             0.8,
             "#7fbc41"
            ],
            [
             0.9,
             "#4d9221"
            ],
            [
             1,
             "#276419"
            ]
           ],
           "sequential": [
            [
             0,
             "#0d0887"
            ],
            [
             0.1111111111111111,
             "#46039f"
            ],
            [
             0.2222222222222222,
             "#7201a8"
            ],
            [
             0.3333333333333333,
             "#9c179e"
            ],
            [
             0.4444444444444444,
             "#bd3786"
            ],
            [
             0.5555555555555556,
             "#d8576b"
            ],
            [
             0.6666666666666666,
             "#ed7953"
            ],
            [
             0.7777777777777778,
             "#fb9f3a"
            ],
            [
             0.8888888888888888,
             "#fdca26"
            ],
            [
             1,
             "#f0f921"
            ]
           ],
           "sequentialminus": [
            [
             0,
             "#0d0887"
            ],
            [
             0.1111111111111111,
             "#46039f"
            ],
            [
             0.2222222222222222,
             "#7201a8"
            ],
            [
             0.3333333333333333,
             "#9c179e"
            ],
            [
             0.4444444444444444,
             "#bd3786"
            ],
            [
             0.5555555555555556,
             "#d8576b"
            ],
            [
             0.6666666666666666,
             "#ed7953"
            ],
            [
             0.7777777777777778,
             "#fb9f3a"
            ],
            [
             0.8888888888888888,
             "#fdca26"
            ],
            [
             1,
             "#f0f921"
            ]
           ]
          },
          "colorway": [
           "#636efa",
           "#EF553B",
           "#00cc96",
           "#ab63fa",
           "#FFA15A",
           "#19d3f3",
           "#FF6692",
           "#B6E880",
           "#FF97FF",
           "#FECB52"
          ],
          "font": {
           "color": "#2a3f5f"
          },
          "geo": {
           "bgcolor": "white",
           "lakecolor": "white",
           "landcolor": "#E5ECF6",
           "showlakes": true,
           "showland": true,
           "subunitcolor": "white"
          },
          "hoverlabel": {
           "align": "left"
          },
          "hovermode": "closest",
          "mapbox": {
           "style": "light"
          },
          "paper_bgcolor": "white",
          "plot_bgcolor": "#E5ECF6",
          "polar": {
           "angularaxis": {
            "gridcolor": "white",
            "linecolor": "white",
            "ticks": ""
           },
           "bgcolor": "#E5ECF6",
           "radialaxis": {
            "gridcolor": "white",
            "linecolor": "white",
            "ticks": ""
           }
          },
          "scene": {
           "xaxis": {
            "backgroundcolor": "#E5ECF6",
            "gridcolor": "white",
            "gridwidth": 2,
            "linecolor": "white",
            "showbackground": true,
            "ticks": "",
            "zerolinecolor": "white"
           },
           "yaxis": {
            "backgroundcolor": "#E5ECF6",
            "gridcolor": "white",
            "gridwidth": 2,
            "linecolor": "white",
            "showbackground": true,
            "ticks": "",
            "zerolinecolor": "white"
           },
           "zaxis": {
            "backgroundcolor": "#E5ECF6",
            "gridcolor": "white",
            "gridwidth": 2,
            "linecolor": "white",
            "showbackground": true,
            "ticks": "",
            "zerolinecolor": "white"
           }
          },
          "shapedefaults": {
           "line": {
            "color": "#2a3f5f"
           }
          },
          "ternary": {
           "aaxis": {
            "gridcolor": "white",
            "linecolor": "white",
            "ticks": ""
           },
           "baxis": {
            "gridcolor": "white",
            "linecolor": "white",
            "ticks": ""
           },
           "bgcolor": "#E5ECF6",
           "caxis": {
            "gridcolor": "white",
            "linecolor": "white",
            "ticks": ""
           }
          },
          "title": {
           "x": 0.05
          },
          "xaxis": {
           "automargin": true,
           "gridcolor": "white",
           "linecolor": "white",
           "ticks": "",
           "title": {
            "standoff": 15
           },
           "zerolinecolor": "white",
           "zerolinewidth": 2
          },
          "yaxis": {
           "automargin": true,
           "gridcolor": "white",
           "linecolor": "white",
           "ticks": "",
           "title": {
            "standoff": 15
           },
           "zerolinecolor": "white",
           "zerolinewidth": 2
          }
         }
        },
        "title": {
         "text": "Distribution of Predictions along with Age, Comparing Ablated and Baseline Models"
        },
        "xaxis": {
         "title": {
          "text": "Age"
         }
        },
        "yaxis": {
         "title": {
          "text": "Count"
         }
        }
       }
      }
     },
     "metadata": {},
     "output_type": "display_data"
    }
   ],
   "source": [
    "# visualize the results\n",
    "fig = go.Figure()\n",
    "fig.add_trace(go.Histogram(\n",
    "    x=val_full[val_full['Risk_pred(protected=Age, model=RF)']=='good']['Age'],\n",
    "    marker_color='#EB89B5',\n",
    "    opacity=0.75,\n",
    "    name='new_pred=\"good\"'\n",
    "))\n",
    "fig.add_trace(go.Histogram(\n",
    "    x=val_full[val_full[pred_col]=='good']['Age'],\n",
    "    marker_color='#FDE18A',\n",
    "    opacity=0.75,\n",
    "    name='baseline_pred=\"good\"'\n",
    "))\n",
    "fig.add_trace(go.Histogram(\n",
    "    x=val_full[val_full['Risk_pred(protected=Age, model=RF)']=='bad']['Age'],\n",
    "    marker_color='#330C73',\n",
    "    opacity=0.75,\n",
    "    name='new_pred=\"bad\"'\n",
    "))\n",
    "fig.add_trace(go.Histogram(\n",
    "    x=val_full[val_full[pred_col]=='bad']['Age'],\n",
    "    marker_color='#9591F3',\n",
    "    opacity=0.75,\n",
    "    name='baseline_pred=\"bad\"'\n",
    "))\n",
    "fig.update_layout(\n",
    "    title_text='Distribution of Predictions along with Age, Comparing Ablated and Baseline Models',\n",
    "    xaxis_title='Age',\n",
    "    yaxis_title='Count'\n",
    ")\n",
    "fig.write_image('../results/anti-classification-age.png', scale=3)\n",
    "fig.show()"
   ]
  },
  {
   "cell_type": "markdown",
   "id": "e636614b",
   "metadata": {},
   "source": [
    "##### b. Confusion Matrix (New Model)"
   ]
  },
  {
   "cell_type": "code",
   "execution_count": 11,
   "id": "e812fd94",
   "metadata": {},
   "outputs": [
    {
     "name": "stdout",
     "output_type": "stream",
     "text": [
      "\n",
      "\n",
      "Confusion Matrix: Age Protected\n",
      "\n",
      "------------- Confusion Matrix (Count) --------------\n",
      "                  Predictably Good    Predictably Bad\n",
      "--------------  ------------------  -----------------\n",
      "Factually Good                 114                 20\n",
      "Factually Bad                   34                 32\n",
      "-----------------------------------------------------\n",
      "\n",
      "\n",
      "------------- Confusion Matrix (Ratio) --------------\n",
      "                  Predictably Good    Predictably Bad\n",
      "--------------  ------------------  -----------------\n",
      "Factually Good                0.57               0.1\n",
      "Factually Bad                 0.17               0.16\n",
      "-----------------------------------------------------\n"
     ]
    }
   ],
   "source": [
    "# confusion matrix\n",
    "print(\"\\n\\nConfusion Matrix: Age Protected\\n\")\n",
    "_ = print_confusion_matrix(confusion_matrix(val_full['Risk'], val_full['Risk_pred(protected=Age, model=RF)']))"
   ]
  },
  {
   "cell_type": "markdown",
   "id": "7430f1f8",
   "metadata": {},
   "source": [
    "##### c. Percentage of Changes with Perturbed Ages"
   ]
  },
  {
   "cell_type": "code",
   "execution_count": 12,
   "id": "ef64f3a5",
   "metadata": {},
   "outputs": [
    {
     "name": "stdout",
     "output_type": "stream",
     "text": [
      "12.00% of validation samples are diffently predicted with a perturbed age.\n"
     ]
    }
   ],
   "source": [
    "# perturb the original dataset \n",
    "val_full_age_perturbed = val_full.copy()\n",
    "val_full_age_perturbed['Age'] = val_full_age_perturbed.apply(lambda x: perturb_attr(x, 'Age', [int(i) for i in range(min_age, max_age + 1)]), axis=1)\n",
    "\n",
    "# predict the label based on new perturbed ages\n",
    "pred_col_age_perturbed = 'Risk_pred_with_perturbed_age'\n",
    "val_full_age_perturbed[pred_col_age_perturbed] = baseline.predict(dummify(val_full_age_perturbed[labeled_X.columns]))\n",
    "\n",
    "# obtain the percentage of changes\n",
    "percentage_of_change_age_pertubed = 1 - accuracy_score(\n",
    "    val_full_age_perturbed[pred_col],\n",
    "    val_full_age_perturbed[pred_col_age_perturbed]\n",
    ")\n",
    "print(f\"{percentage_of_change_age_pertubed * 100:.2f}% of validation samples are diffently \"\n",
    "      f\"predicted with a perturbed age.\")"
   ]
  },
  {
   "cell_type": "markdown",
   "id": "2b1e23a6",
   "metadata": {},
   "source": [
    "### 1.2 Protected Attribute: Sex"
   ]
  },
  {
   "cell_type": "code",
   "execution_count": 13,
   "id": "66fa6245",
   "metadata": {},
   "outputs": [],
   "source": [
    "protected_attr_1 = 'Sex'\n",
    "val_full = anti_classification(\n",
    "    protected_attr_1, RandomForestClassifier(), 'RF', train_X, train_y, val_full\n",
    ")"
   ]
  },
  {
   "cell_type": "markdown",
   "id": "c0997b55",
   "metadata": {},
   "source": [
    "##### a. Distribution of Predictions by New Model"
   ]
  },
  {
   "cell_type": "code",
   "execution_count": 14,
   "id": "2fe9d72e",
   "metadata": {},
   "outputs": [
    {
     "data": {
      "application/vnd.plotly.v1+json": {
       "config": {
        "plotlyServerURL": "https://plot.ly"
       },
       "data": [
        {
         "marker": {
          "color": "#EB89B5"
         },
         "name": "new_pred=\"good\"",
         "opacity": 0.75,
         "type": "histogram",
         "x": [
          "male",
          "male",
          "male",
          "female",
          "male",
          "male",
          "male",
          "male",
          "male",
          "female",
          "male",
          "male",
          "male",
          "male",
          "female",
          "female",
          "male",
          "female",
          "male",
          "female",
          "male",
          "male",
          "male",
          "male",
          "female",
          "male",
          "male",
          "male",
          "male",
          "male",
          "male",
          "male",
          "male",
          "male",
          "male",
          "male",
          "male",
          "female",
          "male",
          "male",
          "female",
          "male",
          "male",
          "female",
          "male",
          "male",
          "male",
          "female",
          "male",
          "male",
          "female",
          "male",
          "male",
          "female",
          "female",
          "male",
          "male",
          "male",
          "male",
          "female",
          "male",
          "female",
          "male",
          "female",
          "male",
          "male",
          "male",
          "female",
          "female",
          "female",
          "male",
          "female",
          "female",
          "male",
          "male",
          "male",
          "male",
          "male",
          "male",
          "male",
          "male",
          "female",
          "male",
          "male",
          "female",
          "male",
          "male",
          "female",
          "female",
          "male",
          "female",
          "female",
          "male",
          "female",
          "male",
          "female",
          "male",
          "male",
          "male",
          "female",
          "female",
          "male",
          "male",
          "male",
          "male",
          "male",
          "male",
          "female",
          "male",
          "male",
          "male",
          "male",
          "male",
          "male",
          "male",
          "male",
          "male",
          "male",
          "male",
          "male",
          "male",
          "male",
          "female",
          "female",
          "male",
          "male",
          "male",
          "male",
          "female",
          "male",
          "male",
          "male",
          "male",
          "female",
          "male",
          "male",
          "male",
          "male",
          "male",
          "male",
          "male",
          "male",
          "male",
          "male",
          "male",
          "male",
          "male",
          "male"
         ]
        },
        {
         "marker": {
          "color": "#FDE18A"
         },
         "name": "baseline_pred=\"good\"",
         "opacity": 0.75,
         "type": "histogram",
         "x": [
          "male",
          "male",
          "male",
          "female",
          "male",
          "male",
          "male",
          "male",
          "male",
          "female",
          "male",
          "male",
          "male",
          "male",
          "male",
          "female",
          "female",
          "male",
          "male",
          "female",
          "male",
          "male",
          "male",
          "male",
          "female",
          "male",
          "male",
          "male",
          "male",
          "male",
          "male",
          "male",
          "male",
          "male",
          "male",
          "male",
          "female",
          "male",
          "male",
          "female",
          "male",
          "male",
          "female",
          "male",
          "male",
          "male",
          "female",
          "male",
          "male",
          "female",
          "male",
          "male",
          "female",
          "female",
          "male",
          "male",
          "male",
          "female",
          "male",
          "female",
          "male",
          "female",
          "male",
          "male",
          "male",
          "male",
          "female",
          "female",
          "female",
          "male",
          "male",
          "female",
          "female",
          "male",
          "male",
          "female",
          "male",
          "male",
          "male",
          "male",
          "male",
          "male",
          "female",
          "male",
          "male",
          "female",
          "male",
          "male",
          "female",
          "male",
          "male",
          "female",
          "female",
          "male",
          "female",
          "male",
          "female",
          "female",
          "male",
          "male",
          "male",
          "female",
          "male",
          "male",
          "male",
          "male",
          "male",
          "male",
          "female",
          "male",
          "male",
          "male",
          "male",
          "male",
          "female",
          "male",
          "male",
          "male",
          "male",
          "male",
          "male",
          "male",
          "male",
          "female",
          "female",
          "male",
          "male",
          "male",
          "male",
          "male",
          "female",
          "male",
          "male",
          "male",
          "male",
          "female",
          "male",
          "male",
          "male",
          "male",
          "male",
          "male",
          "male",
          "male",
          "male",
          "male",
          "male",
          "male",
          "male",
          "male"
         ]
        },
        {
         "marker": {
          "color": "#330C73"
         },
         "name": "new_pred=\"bad\"",
         "opacity": 0.75,
         "type": "histogram",
         "x": [
          "female",
          "female",
          "male",
          "male",
          "female",
          "male",
          "male",
          "male",
          "male",
          "female",
          "female",
          "male",
          "female",
          "female",
          "male",
          "female",
          "male",
          "female",
          "female",
          "female",
          "male",
          "male",
          "male",
          "female",
          "male",
          "female",
          "female",
          "female",
          "male",
          "male",
          "female",
          "female",
          "male",
          "male",
          "male",
          "male",
          "male",
          "male",
          "female",
          "female",
          "male",
          "male",
          "female",
          "female",
          "female",
          "male",
          "male",
          "male",
          "male",
          "female",
          "male",
          "male"
         ]
        },
        {
         "marker": {
          "color": "#9591F3"
         },
         "name": "baseline_pred=\"bad\"",
         "opacity": 0.75,
         "type": "histogram",
         "x": [
          "female",
          "female",
          "female",
          "male",
          "male",
          "female",
          "male",
          "male",
          "male",
          "male",
          "female",
          "female",
          "male",
          "male",
          "female",
          "female",
          "male",
          "female",
          "female",
          "female",
          "female",
          "male",
          "male",
          "female",
          "male",
          "female",
          "female",
          "female",
          "male",
          "female",
          "male",
          "male",
          "male",
          "male",
          "female",
          "male",
          "male",
          "female",
          "male",
          "male",
          "female",
          "female",
          "female",
          "male",
          "male",
          "male",
          "male",
          "female",
          "male",
          "male"
         ]
        }
       ],
       "layout": {
        "template": {
         "data": {
          "bar": [
           {
            "error_x": {
             "color": "#2a3f5f"
            },
            "error_y": {
             "color": "#2a3f5f"
            },
            "marker": {
             "line": {
              "color": "#E5ECF6",
              "width": 0.5
             },
             "pattern": {
              "fillmode": "overlay",
              "size": 10,
              "solidity": 0.2
             }
            },
            "type": "bar"
           }
          ],
          "barpolar": [
           {
            "marker": {
             "line": {
              "color": "#E5ECF6",
              "width": 0.5
             },
             "pattern": {
              "fillmode": "overlay",
              "size": 10,
              "solidity": 0.2
             }
            },
            "type": "barpolar"
           }
          ],
          "carpet": [
           {
            "aaxis": {
             "endlinecolor": "#2a3f5f",
             "gridcolor": "white",
             "linecolor": "white",
             "minorgridcolor": "white",
             "startlinecolor": "#2a3f5f"
            },
            "baxis": {
             "endlinecolor": "#2a3f5f",
             "gridcolor": "white",
             "linecolor": "white",
             "minorgridcolor": "white",
             "startlinecolor": "#2a3f5f"
            },
            "type": "carpet"
           }
          ],
          "choropleth": [
           {
            "colorbar": {
             "outlinewidth": 0,
             "ticks": ""
            },
            "type": "choropleth"
           }
          ],
          "contour": [
           {
            "colorbar": {
             "outlinewidth": 0,
             "ticks": ""
            },
            "colorscale": [
             [
              0,
              "#0d0887"
             ],
             [
              0.1111111111111111,
              "#46039f"
             ],
             [
              0.2222222222222222,
              "#7201a8"
             ],
             [
              0.3333333333333333,
              "#9c179e"
             ],
             [
              0.4444444444444444,
              "#bd3786"
             ],
             [
              0.5555555555555556,
              "#d8576b"
             ],
             [
              0.6666666666666666,
              "#ed7953"
             ],
             [
              0.7777777777777778,
              "#fb9f3a"
             ],
             [
              0.8888888888888888,
              "#fdca26"
             ],
             [
              1,
              "#f0f921"
             ]
            ],
            "type": "contour"
           }
          ],
          "contourcarpet": [
           {
            "colorbar": {
             "outlinewidth": 0,
             "ticks": ""
            },
            "type": "contourcarpet"
           }
          ],
          "heatmap": [
           {
            "colorbar": {
             "outlinewidth": 0,
             "ticks": ""
            },
            "colorscale": [
             [
              0,
              "#0d0887"
             ],
             [
              0.1111111111111111,
              "#46039f"
             ],
             [
              0.2222222222222222,
              "#7201a8"
             ],
             [
              0.3333333333333333,
              "#9c179e"
             ],
             [
              0.4444444444444444,
              "#bd3786"
             ],
             [
              0.5555555555555556,
              "#d8576b"
             ],
             [
              0.6666666666666666,
              "#ed7953"
             ],
             [
              0.7777777777777778,
              "#fb9f3a"
             ],
             [
              0.8888888888888888,
              "#fdca26"
             ],
             [
              1,
              "#f0f921"
             ]
            ],
            "type": "heatmap"
           }
          ],
          "heatmapgl": [
           {
            "colorbar": {
             "outlinewidth": 0,
             "ticks": ""
            },
            "colorscale": [
             [
              0,
              "#0d0887"
             ],
             [
              0.1111111111111111,
              "#46039f"
             ],
             [
              0.2222222222222222,
              "#7201a8"
             ],
             [
              0.3333333333333333,
              "#9c179e"
             ],
             [
              0.4444444444444444,
              "#bd3786"
             ],
             [
              0.5555555555555556,
              "#d8576b"
             ],
             [
              0.6666666666666666,
              "#ed7953"
             ],
             [
              0.7777777777777778,
              "#fb9f3a"
             ],
             [
              0.8888888888888888,
              "#fdca26"
             ],
             [
              1,
              "#f0f921"
             ]
            ],
            "type": "heatmapgl"
           }
          ],
          "histogram": [
           {
            "marker": {
             "pattern": {
              "fillmode": "overlay",
              "size": 10,
              "solidity": 0.2
             }
            },
            "type": "histogram"
           }
          ],
          "histogram2d": [
           {
            "colorbar": {
             "outlinewidth": 0,
             "ticks": ""
            },
            "colorscale": [
             [
              0,
              "#0d0887"
             ],
             [
              0.1111111111111111,
              "#46039f"
             ],
             [
              0.2222222222222222,
              "#7201a8"
             ],
             [
              0.3333333333333333,
              "#9c179e"
             ],
             [
              0.4444444444444444,
              "#bd3786"
             ],
             [
              0.5555555555555556,
              "#d8576b"
             ],
             [
              0.6666666666666666,
              "#ed7953"
             ],
             [
              0.7777777777777778,
              "#fb9f3a"
             ],
             [
              0.8888888888888888,
              "#fdca26"
             ],
             [
              1,
              "#f0f921"
             ]
            ],
            "type": "histogram2d"
           }
          ],
          "histogram2dcontour": [
           {
            "colorbar": {
             "outlinewidth": 0,
             "ticks": ""
            },
            "colorscale": [
             [
              0,
              "#0d0887"
             ],
             [
              0.1111111111111111,
              "#46039f"
             ],
             [
              0.2222222222222222,
              "#7201a8"
             ],
             [
              0.3333333333333333,
              "#9c179e"
             ],
             [
              0.4444444444444444,
              "#bd3786"
             ],
             [
              0.5555555555555556,
              "#d8576b"
             ],
             [
              0.6666666666666666,
              "#ed7953"
             ],
             [
              0.7777777777777778,
              "#fb9f3a"
             ],
             [
              0.8888888888888888,
              "#fdca26"
             ],
             [
              1,
              "#f0f921"
             ]
            ],
            "type": "histogram2dcontour"
           }
          ],
          "mesh3d": [
           {
            "colorbar": {
             "outlinewidth": 0,
             "ticks": ""
            },
            "type": "mesh3d"
           }
          ],
          "parcoords": [
           {
            "line": {
             "colorbar": {
              "outlinewidth": 0,
              "ticks": ""
             }
            },
            "type": "parcoords"
           }
          ],
          "pie": [
           {
            "automargin": true,
            "type": "pie"
           }
          ],
          "scatter": [
           {
            "fillpattern": {
             "fillmode": "overlay",
             "size": 10,
             "solidity": 0.2
            },
            "type": "scatter"
           }
          ],
          "scatter3d": [
           {
            "line": {
             "colorbar": {
              "outlinewidth": 0,
              "ticks": ""
             }
            },
            "marker": {
             "colorbar": {
              "outlinewidth": 0,
              "ticks": ""
             }
            },
            "type": "scatter3d"
           }
          ],
          "scattercarpet": [
           {
            "marker": {
             "colorbar": {
              "outlinewidth": 0,
              "ticks": ""
             }
            },
            "type": "scattercarpet"
           }
          ],
          "scattergeo": [
           {
            "marker": {
             "colorbar": {
              "outlinewidth": 0,
              "ticks": ""
             }
            },
            "type": "scattergeo"
           }
          ],
          "scattergl": [
           {
            "marker": {
             "colorbar": {
              "outlinewidth": 0,
              "ticks": ""
             }
            },
            "type": "scattergl"
           }
          ],
          "scattermapbox": [
           {
            "marker": {
             "colorbar": {
              "outlinewidth": 0,
              "ticks": ""
             }
            },
            "type": "scattermapbox"
           }
          ],
          "scatterpolar": [
           {
            "marker": {
             "colorbar": {
              "outlinewidth": 0,
              "ticks": ""
             }
            },
            "type": "scatterpolar"
           }
          ],
          "scatterpolargl": [
           {
            "marker": {
             "colorbar": {
              "outlinewidth": 0,
              "ticks": ""
             }
            },
            "type": "scatterpolargl"
           }
          ],
          "scatterternary": [
           {
            "marker": {
             "colorbar": {
              "outlinewidth": 0,
              "ticks": ""
             }
            },
            "type": "scatterternary"
           }
          ],
          "surface": [
           {
            "colorbar": {
             "outlinewidth": 0,
             "ticks": ""
            },
            "colorscale": [
             [
              0,
              "#0d0887"
             ],
             [
              0.1111111111111111,
              "#46039f"
             ],
             [
              0.2222222222222222,
              "#7201a8"
             ],
             [
              0.3333333333333333,
              "#9c179e"
             ],
             [
              0.4444444444444444,
              "#bd3786"
             ],
             [
              0.5555555555555556,
              "#d8576b"
             ],
             [
              0.6666666666666666,
              "#ed7953"
             ],
             [
              0.7777777777777778,
              "#fb9f3a"
             ],
             [
              0.8888888888888888,
              "#fdca26"
             ],
             [
              1,
              "#f0f921"
             ]
            ],
            "type": "surface"
           }
          ],
          "table": [
           {
            "cells": {
             "fill": {
              "color": "#EBF0F8"
             },
             "line": {
              "color": "white"
             }
            },
            "header": {
             "fill": {
              "color": "#C8D4E3"
             },
             "line": {
              "color": "white"
             }
            },
            "type": "table"
           }
          ]
         },
         "layout": {
          "annotationdefaults": {
           "arrowcolor": "#2a3f5f",
           "arrowhead": 0,
           "arrowwidth": 1
          },
          "autotypenumbers": "strict",
          "coloraxis": {
           "colorbar": {
            "outlinewidth": 0,
            "ticks": ""
           }
          },
          "colorscale": {
           "diverging": [
            [
             0,
             "#8e0152"
            ],
            [
             0.1,
             "#c51b7d"
            ],
            [
             0.2,
             "#de77ae"
            ],
            [
             0.3,
             "#f1b6da"
            ],
            [
             0.4,
             "#fde0ef"
            ],
            [
             0.5,
             "#f7f7f7"
            ],
            [
             0.6,
             "#e6f5d0"
            ],
            [
             0.7,
             "#b8e186"
            ],
            [
             0.8,
             "#7fbc41"
            ],
            [
             0.9,
             "#4d9221"
            ],
            [
             1,
             "#276419"
            ]
           ],
           "sequential": [
            [
             0,
             "#0d0887"
            ],
            [
             0.1111111111111111,
             "#46039f"
            ],
            [
             0.2222222222222222,
             "#7201a8"
            ],
            [
             0.3333333333333333,
             "#9c179e"
            ],
            [
             0.4444444444444444,
             "#bd3786"
            ],
            [
             0.5555555555555556,
             "#d8576b"
            ],
            [
             0.6666666666666666,
             "#ed7953"
            ],
            [
             0.7777777777777778,
             "#fb9f3a"
            ],
            [
             0.8888888888888888,
             "#fdca26"
            ],
            [
             1,
             "#f0f921"
            ]
           ],
           "sequentialminus": [
            [
             0,
             "#0d0887"
            ],
            [
             0.1111111111111111,
             "#46039f"
            ],
            [
             0.2222222222222222,
             "#7201a8"
            ],
            [
             0.3333333333333333,
             "#9c179e"
            ],
            [
             0.4444444444444444,
             "#bd3786"
            ],
            [
             0.5555555555555556,
             "#d8576b"
            ],
            [
             0.6666666666666666,
             "#ed7953"
            ],
            [
             0.7777777777777778,
             "#fb9f3a"
            ],
            [
             0.8888888888888888,
             "#fdca26"
            ],
            [
             1,
             "#f0f921"
            ]
           ]
          },
          "colorway": [
           "#636efa",
           "#EF553B",
           "#00cc96",
           "#ab63fa",
           "#FFA15A",
           "#19d3f3",
           "#FF6692",
           "#B6E880",
           "#FF97FF",
           "#FECB52"
          ],
          "font": {
           "color": "#2a3f5f"
          },
          "geo": {
           "bgcolor": "white",
           "lakecolor": "white",
           "landcolor": "#E5ECF6",
           "showlakes": true,
           "showland": true,
           "subunitcolor": "white"
          },
          "hoverlabel": {
           "align": "left"
          },
          "hovermode": "closest",
          "mapbox": {
           "style": "light"
          },
          "paper_bgcolor": "white",
          "plot_bgcolor": "#E5ECF6",
          "polar": {
           "angularaxis": {
            "gridcolor": "white",
            "linecolor": "white",
            "ticks": ""
           },
           "bgcolor": "#E5ECF6",
           "radialaxis": {
            "gridcolor": "white",
            "linecolor": "white",
            "ticks": ""
           }
          },
          "scene": {
           "xaxis": {
            "backgroundcolor": "#E5ECF6",
            "gridcolor": "white",
            "gridwidth": 2,
            "linecolor": "white",
            "showbackground": true,
            "ticks": "",
            "zerolinecolor": "white"
           },
           "yaxis": {
            "backgroundcolor": "#E5ECF6",
            "gridcolor": "white",
            "gridwidth": 2,
            "linecolor": "white",
            "showbackground": true,
            "ticks": "",
            "zerolinecolor": "white"
           },
           "zaxis": {
            "backgroundcolor": "#E5ECF6",
            "gridcolor": "white",
            "gridwidth": 2,
            "linecolor": "white",
            "showbackground": true,
            "ticks": "",
            "zerolinecolor": "white"
           }
          },
          "shapedefaults": {
           "line": {
            "color": "#2a3f5f"
           }
          },
          "ternary": {
           "aaxis": {
            "gridcolor": "white",
            "linecolor": "white",
            "ticks": ""
           },
           "baxis": {
            "gridcolor": "white",
            "linecolor": "white",
            "ticks": ""
           },
           "bgcolor": "#E5ECF6",
           "caxis": {
            "gridcolor": "white",
            "linecolor": "white",
            "ticks": ""
           }
          },
          "title": {
           "x": 0.05
          },
          "xaxis": {
           "automargin": true,
           "gridcolor": "white",
           "linecolor": "white",
           "ticks": "",
           "title": {
            "standoff": 15
           },
           "zerolinecolor": "white",
           "zerolinewidth": 2
          },
          "yaxis": {
           "automargin": true,
           "gridcolor": "white",
           "linecolor": "white",
           "ticks": "",
           "title": {
            "standoff": 15
           },
           "zerolinecolor": "white",
           "zerolinewidth": 2
          }
         }
        },
        "title": {
         "text": "Distribution of Predictions along with Gender, Comparing Ablated and Baseline Models"
        },
        "xaxis": {
         "title": {
          "text": "Gender"
         }
        },
        "yaxis": {
         "title": {
          "text": "Count"
         }
        }
       }
      }
     },
     "metadata": {},
     "output_type": "display_data"
    }
   ],
   "source": [
    "# visualize the results\n",
    "fig = go.Figure()\n",
    "fig.add_trace(go.Histogram(\n",
    "    x=val_full[val_full['Risk_pred(protected=Sex, model=RF)']=='good']['Sex'],\n",
    "    marker_color='#EB89B5',\n",
    "    opacity=0.75,\n",
    "    name='new_pred=\"good\"'\n",
    "))\n",
    "fig.add_trace(go.Histogram(\n",
    "    x=val_full[val_full[pred_col]=='good']['Sex'],\n",
    "    marker_color='#FDE18A',\n",
    "    opacity=0.75,\n",
    "    name='baseline_pred=\"good\"'\n",
    "))\n",
    "fig.add_trace(go.Histogram(\n",
    "    x=val_full[val_full['Risk_pred(protected=Sex, model=RF)']=='bad']['Sex'],\n",
    "    marker_color='#330C73',\n",
    "    opacity=0.75,\n",
    "    name='new_pred=\"bad\"'\n",
    "))\n",
    "fig.add_trace(go.Histogram(\n",
    "    x=val_full[val_full[pred_col]=='bad']['Sex'],\n",
    "    marker_color='#9591F3',\n",
    "    opacity=0.75,\n",
    "    name='baseline_pred=\"bad\"'\n",
    "))\n",
    "fig.update_layout(\n",
    "    title_text='Distribution of Predictions along with Gender, Comparing Ablated and Baseline Models',\n",
    "    xaxis_title='Gender',\n",
    "    yaxis_title='Count'\n",
    ")\n",
    "fig.write_image('../results/anti-classification-sex.png', scale=3)\n",
    "fig.show()"
   ]
  },
  {
   "cell_type": "markdown",
   "id": "1e7ab6ff",
   "metadata": {},
   "source": [
    "##### b. Confusion Matrix (New Model)"
   ]
  },
  {
   "cell_type": "code",
   "execution_count": 15,
   "id": "6e1fa2d8",
   "metadata": {},
   "outputs": [
    {
     "name": "stdout",
     "output_type": "stream",
     "text": [
      "\n",
      "\n",
      "Confusion Matrix: Gender Protected\n",
      "\n",
      "------------- Confusion Matrix (Count) --------------\n",
      "                  Predictably Good    Predictably Bad\n",
      "--------------  ------------------  -----------------\n",
      "Factually Good                 111                 23\n",
      "Factually Bad                   37                 29\n",
      "-----------------------------------------------------\n",
      "\n",
      "\n",
      "------------- Confusion Matrix (Ratio) --------------\n",
      "                  Predictably Good    Predictably Bad\n",
      "--------------  ------------------  -----------------\n",
      "Factually Good               0.555              0.115\n",
      "Factually Bad                0.185              0.145\n",
      "-----------------------------------------------------\n"
     ]
    }
   ],
   "source": [
    "# confusion matrix\n",
    "print(\"\\n\\nConfusion Matrix: Gender Protected\\n\")\n",
    "_ = print_confusion_matrix(confusion_matrix(val_full['Risk'], val_full['Risk_pred(protected=Sex, model=RF)']))"
   ]
  },
  {
   "cell_type": "markdown",
   "id": "ab0ad5e3",
   "metadata": {},
   "source": [
    "##### c. Percentage of Changes with Perturbed Gender"
   ]
  },
  {
   "cell_type": "code",
   "execution_count": 16,
   "id": "ef64f3a5",
   "metadata": {},
   "outputs": [
    {
     "name": "stdout",
     "output_type": "stream",
     "text": [
      "12.00% of validation samples are diffently predicted with a perturbed gender.\n"
     ]
    }
   ],
   "source": [
    "# perturb the original dataset \n",
    "val_full_sex_perturbed = val_full.copy()\n",
    "val_full_sex_perturbed['Sex'] = val_full_sex_perturbed.apply(lambda x: perturb_attr(x, 'Sex', [female, male]), axis=1)\n",
    "\n",
    "# predict the label based on new perturbed ages\n",
    "pred_col_sex_perturbed = 'Risk_pred_with_perturbed_gender'\n",
    "val_full_sex_perturbed[pred_col_sex_perturbed] = baseline.predict(dummify(val_full_sex_perturbed[labeled_X.columns]))\n",
    "\n",
    "# obtain the percentage of changes\n",
    "percentage_of_change_sex_pertubed = 1 - accuracy_score(\n",
    "    val_full_sex_perturbed[pred_col],\n",
    "    val_full_sex_perturbed[pred_col_sex_perturbed]\n",
    ")\n",
    "print(f\"{percentage_of_change_sex_pertubed * 100:.2f}% of validation samples are diffently \"\n",
    "      f\"predicted with a perturbed gender.\")"
   ]
  },
  {
   "cell_type": "markdown",
   "id": "b6b917b9",
   "metadata": {},
   "source": [
    "### 2. Group Fairness"
   ]
  },
  {
   "cell_type": "markdown",
   "id": "29158790",
   "metadata": {},
   "source": [
    "__NOTE:__ Since the model used for both _group fairness_ and _separation_ is the same, trained on all features without omission, it is feasible to use the previous baseline model."
   ]
  },
  {
   "cell_type": "code",
   "execution_count": 17,
   "id": "ade0c2bb",
   "metadata": {},
   "outputs": [],
   "source": [
    "focus_list = [0.1 * int(i) for i in range(0, 11)]\n",
    "age_dict, sex_dict = dict(), dict()\n",
    "\n",
    "for i in focus_list:\n",
    "    age_dict[i], sex_dict[i] = dict(), dict()\n",
    "    for gender in (female, male):\n",
    "        sex_dict[i][gender] = get_threshold('Sex', gender, val_full, prob_col, i)\n",
    "    for j in range(age_group_count):\n",
    "        left, right = min_age + 10 * j, min_age + 10 * (j + 1)\n",
    "        key_name = '%d-%d' % (left, right)\n",
    "        age_dict[i][key_name] = get_threshold('Age', left, val_full, prob_col, i, right)"
   ]
  },
  {
   "cell_type": "code",
   "execution_count": 18,
   "id": "dd535bca",
   "metadata": {},
   "outputs": [
    {
     "data": {
      "image/png": "[encoded data removed]",
      "text/plain": [
       "<Figure size 1152x432 with 1 Axes>"
      ]
     },
     "metadata": {
      "needs_background": "light"
     },
     "output_type": "display_data"
    }
   ],
   "source": [
    "# plot for Age\n",
    "plt.figure(figsize=(16, 6))\n",
    "plt.title('Group Fairness: Adaptive Thresholds for Different Age Groups')\n",
    "plt.xlabel('Age Group')\n",
    "plt.ylabel('Probability Threshold')\n",
    "for i in focus_list:\n",
    "    plt.plot(age_dict[i].keys(), age_dict[i].values())\n",
    "plt.legend([f\"{f:.1f}\" for f in focus_list], title='pos_rate', loc='lower right', bbox_to_anchor=(1.1, 0))\n",
    "plt.savefig('../results/group-fairness-age.png', dpi=128)\n",
    "plt.show()\n"
   ]
  },
  {
   "cell_type": "code",
   "execution_count": 19,
   "id": "b437cb50",
   "metadata": {},
   "outputs": [
    {
     "data": {
      "image/png": "[encoded data removed]",
      "text/plain": [
       "<Figure size 1152x432 with 1 Axes>"
      ]
     },
     "metadata": {
      "needs_background": "light"
     },
     "output_type": "display_data"
    }
   ],
   "source": [
    "# plot for Sex\n",
    "plt.figure(figsize=(16, 6))\n",
    "plt.title('Group Fairness: Adaptive Thresholds for Different Genders')\n",
    "plt.xlabel('Gender')\n",
    "plt.ylabel('Probability Threshold')\n",
    "for i in focus_list:\n",
    "    plt.plot(sex_dict[i].keys(), sex_dict[i].values())\n",
    "plt.legend([f\"{f:.1f}\" for f in focus_list], title='pos_rate', loc='lower right', bbox_to_anchor=(1.1, 0))\n",
    "plt.savefig('../results/group-fairness-sex.png', dpi=128)\n",
    "plt.show()\n"
   ]
  },
  {
   "cell_type": "markdown",
   "id": "83ea212f",
   "metadata": {},
   "source": [
    "### 3. Seperation"
   ]
  },
  {
   "cell_type": "code",
   "execution_count": 20,
   "id": "7e29a409",
   "metadata": {},
   "outputs": [
    {
     "name": "stdout",
     "output_type": "stream",
     "text": [
      "\n",
      "\n",
      "\n",
      "*****************************************************\n",
      "******* Separation by Sex: Now for FEMALE     *******\n",
      "------------- Confusion Matrix (Count) --------------\n",
      "                  Predictably Good    Predictably Bad\n",
      "--------------  ------------------  -----------------\n",
      "Factually Good                  17                 10\n",
      "Factually Bad                    6                 27\n",
      "-----------------------------------------------------\n",
      "\n",
      "\n",
      "------------- Confusion Matrix (Ratio) --------------\n",
      "                  Predictably Good    Predictably Bad\n",
      "--------------  ------------------  -----------------\n",
      "Factually Good              0.2833             0.1667\n",
      "Factually Bad               0.1                0.45\n",
      "-----------------------------------------------------\n",
      "*****************************************************\n",
      "\n",
      "\n",
      "\n",
      "\n",
      "\n",
      "\n",
      "*****************************************************\n",
      "******* Separation by Sex: Now for MALE       *******\n",
      "------------- Confusion Matrix (Count) --------------\n",
      "                  Predictably Good    Predictably Bad\n",
      "--------------  ------------------  -----------------\n",
      "Factually Good                  15                 24\n",
      "Factually Bad                   12                 89\n",
      "-----------------------------------------------------\n",
      "\n",
      "\n",
      "------------- Confusion Matrix (Ratio) --------------\n",
      "                  Predictably Good    Predictably Bad\n",
      "--------------  ------------------  -----------------\n",
      "Factually Good              0.1071             0.1714\n",
      "Factually Bad               0.0857             0.6357\n",
      "-----------------------------------------------------\n",
      "*****************************************************\n",
      "\n",
      "\n",
      "\n"
     ]
    }
   ],
   "source": [
    "# separation for Sex\n",
    "tpr_sex, fpr_sex, fnr_sex, tnr_sex  = dict(), dict(), dict(), dict()\n",
    "for gender in (female, male):\n",
    "    print(\"\\n\\n\\n*****************************************************\")\n",
    "    print(f\"******* Separation by Sex: Now for {gender.upper():<10} *******\")\n",
    "    tpr_sex[gender], fpr_sex[gender], fnr_sex[gender], tnr_sex[gender] = seperate_by_attr('Sex', gender, val_full, true_col, pred_col)\n",
    "    print(\"*****************************************************\\n\\n\\n\")"
   ]
  },
  {
   "cell_type": "code",
   "execution_count": 21,
   "id": "5e90c4cc",
   "metadata": {},
   "outputs": [
    {
     "data": {
      "application/vnd.plotly.v1+json": {
       "config": {
        "plotlyServerURL": "https://plot.ly"
       },
       "data": [
        {
         "marker": {
          "color": "#F3A291"
         },
         "name": "true positive rate",
         "opacity": 0.75,
         "type": "bar",
         "x": [
          "female",
          "male"
         ],
         "y": [
          0.2833333333333333,
          0.10714285714285714
         ]
        },
        {
         "marker": {
          "color": "#F3CA91"
         },
         "name": "false positive rate",
         "opacity": 0.75,
         "type": "bar",
         "x": [
          "female",
          "male"
         ],
         "y": [
          0.1,
          0.08571428571428572
         ]
        },
        {
         "marker": {
          "color": "#CAF391"
         },
         "name": "false negative rate",
         "opacity": 0.75,
         "type": "bar",
         "x": [
          "female",
          "male"
         ],
         "y": [
          0.16666666666666666,
          0.17142857142857143
         ]
        },
        {
         "marker": {
          "color": "#91F3D1"
         },
         "name": "true negative rate",
         "opacity": 0.75,
         "type": "bar",
         "x": [
          "female",
          "male"
         ],
         "y": [
          0.45,
          0.6357142857142857
         ]
        }
       ],
       "layout": {
        "template": {
         "data": {
          "bar": [
           {
            "error_x": {
             "color": "#2a3f5f"
            },
            "error_y": {
             "color": "#2a3f5f"
            },
            "marker": {
             "line": {
              "color": "#E5ECF6",
              "width": 0.5
             },
             "pattern": {
              "fillmode": "overlay",
              "size": 10,
              "solidity": 0.2
             }
            },
            "type": "bar"
           }
          ],
          "barpolar": [
           {
            "marker": {
             "line": {
              "color": "#E5ECF6",
              "width": 0.5
             },
             "pattern": {
              "fillmode": "overlay",
              "size": 10,
              "solidity": 0.2
             }
            },
            "type": "barpolar"
           }
          ],
          "carpet": [
           {
            "aaxis": {
             "endlinecolor": "#2a3f5f",
             "gridcolor": "white",
             "linecolor": "white",
             "minorgridcolor": "white",
             "startlinecolor": "#2a3f5f"
            },
            "baxis": {
             "endlinecolor": "#2a3f5f",
             "gridcolor": "white",
             "linecolor": "white",
             "minorgridcolor": "white",
             "startlinecolor": "#2a3f5f"
            },
            "type": "carpet"
           }
          ],
          "choropleth": [
           {
            "colorbar": {
             "outlinewidth": 0,
             "ticks": ""
            },
            "type": "choropleth"
           }
          ],
          "contour": [
           {
            "colorbar": {
             "outlinewidth": 0,
             "ticks": ""
            },
            "colorscale": [
             [
              0,
              "#0d0887"
             ],
             [
              0.1111111111111111,
              "#46039f"
             ],
             [
              0.2222222222222222,
              "#7201a8"
             ],
             [
              0.3333333333333333,
              "#9c179e"
             ],
             [
              0.4444444444444444,
              "#bd3786"
             ],
             [
              0.5555555555555556,
              "#d8576b"
             ],
             [
              0.6666666666666666,
              "#ed7953"
             ],
             [
              0.7777777777777778,
              "#fb9f3a"
             ],
             [
              0.8888888888888888,
              "#fdca26"
             ],
             [
              1,
              "#f0f921"
             ]
            ],
            "type": "contour"
           }
          ],
          "contourcarpet": [
           {
            "colorbar": {
             "outlinewidth": 0,
             "ticks": ""
            },
            "type": "contourcarpet"
           }
          ],
          "heatmap": [
           {
            "colorbar": {
             "outlinewidth": 0,
             "ticks": ""
            },
            "colorscale": [
             [
              0,
              "#0d0887"
             ],
             [
              0.1111111111111111,
              "#46039f"
             ],
             [
              0.2222222222222222,
              "#7201a8"
             ],
             [
              0.3333333333333333,
              "#9c179e"
             ],
             [
              0.4444444444444444,
              "#bd3786"
             ],
             [
              0.5555555555555556,
              "#d8576b"
             ],
             [
              0.6666666666666666,
              "#ed7953"
             ],
             [
              0.7777777777777778,
              "#fb9f3a"
             ],
             [
              0.8888888888888888,
              "#fdca26"
             ],
             [
              1,
              "#f0f921"
             ]
            ],
            "type": "heatmap"
           }
          ],
          "heatmapgl": [
           {
            "colorbar": {
             "outlinewidth": 0,
             "ticks": ""
            },
            "colorscale": [
             [
              0,
              "#0d0887"
             ],
             [
              0.1111111111111111,
              "#46039f"
             ],
             [
              0.2222222222222222,
              "#7201a8"
             ],
             [
              0.3333333333333333,
              "#9c179e"
             ],
             [
              0.4444444444444444,
              "#bd3786"
             ],
             [
              0.5555555555555556,
              "#d8576b"
             ],
             [
              0.6666666666666666,
              "#ed7953"
             ],
             [
              0.7777777777777778,
              "#fb9f3a"
             ],
             [
              0.8888888888888888,
              "#fdca26"
             ],
             [
              1,
              "#f0f921"
             ]
            ],
            "type": "heatmapgl"
           }
          ],
          "histogram": [
           {
            "marker": {
             "pattern": {
              "fillmode": "overlay",
              "size": 10,
              "solidity": 0.2
             }
            },
            "type": "histogram"
           }
          ],
          "histogram2d": [
           {
            "colorbar": {
             "outlinewidth": 0,
             "ticks": ""
            },
            "colorscale": [
             [
              0,
              "#0d0887"
             ],
             [
              0.1111111111111111,
              "#46039f"
             ],
             [
              0.2222222222222222,
              "#7201a8"
             ],
             [
              0.3333333333333333,
              "#9c179e"
             ],
             [
              0.4444444444444444,
              "#bd3786"
             ],
             [
              0.5555555555555556,
              "#d8576b"
             ],
             [
              0.6666666666666666,
              "#ed7953"
             ],
             [
              0.7777777777777778,
              "#fb9f3a"
             ],
             [
              0.8888888888888888,
              "#fdca26"
             ],
             [
              1,
              "#f0f921"
             ]
            ],
            "type": "histogram2d"
           }
          ],
          "histogram2dcontour": [
           {
            "colorbar": {
             "outlinewidth": 0,
             "ticks": ""
            },
            "colorscale": [
             [
              0,
              "#0d0887"
             ],
             [
              0.1111111111111111,
              "#46039f"
             ],
             [
              0.2222222222222222,
              "#7201a8"
             ],
             [
              0.3333333333333333,
              "#9c179e"
             ],
             [
              0.4444444444444444,
              "#bd3786"
             ],
             [
              0.5555555555555556,
              "#d8576b"
             ],
             [
              0.6666666666666666,
              "#ed7953"
             ],
             [
              0.7777777777777778,
              "#fb9f3a"
             ],
             [
              0.8888888888888888,
              "#fdca26"
             ],
             [
              1,
              "#f0f921"
             ]
            ],
            "type": "histogram2dcontour"
           }
          ],
          "mesh3d": [
           {
            "colorbar": {
             "outlinewidth": 0,
             "ticks": ""
            },
            "type": "mesh3d"
           }
          ],
          "parcoords": [
           {
            "line": {
             "colorbar": {
              "outlinewidth": 0,
              "ticks": ""
             }
            },
            "type": "parcoords"
           }
          ],
          "pie": [
           {
            "automargin": true,
            "type": "pie"
           }
          ],
          "scatter": [
           {
            "fillpattern": {
             "fillmode": "overlay",
             "size": 10,
             "solidity": 0.2
            },
            "type": "scatter"
           }
          ],
          "scatter3d": [
           {
            "line": {
             "colorbar": {
              "outlinewidth": 0,
              "ticks": ""
             }
            },
            "marker": {
             "colorbar": {
              "outlinewidth": 0,
              "ticks": ""
             }
            },
            "type": "scatter3d"
           }
          ],
          "scattercarpet": [
           {
            "marker": {
             "colorbar": {
              "outlinewidth": 0,
              "ticks": ""
             }
            },
            "type": "scattercarpet"
           }
          ],
          "scattergeo": [
           {
            "marker": {
             "colorbar": {
              "outlinewidth": 0,
              "ticks": ""
             }
            },
            "type": "scattergeo"
           }
          ],
          "scattergl": [
           {
            "marker": {
             "colorbar": {
              "outlinewidth": 0,
              "ticks": ""
             }
            },
            "type": "scattergl"
           }
          ],
          "scattermapbox": [
           {
            "marker": {
             "colorbar": {
              "outlinewidth": 0,
              "ticks": ""
             }
            },
            "type": "scattermapbox"
           }
          ],
          "scatterpolar": [
           {
            "marker": {
             "colorbar": {
              "outlinewidth": 0,
              "ticks": ""
             }
            },
            "type": "scatterpolar"
           }
          ],
          "scatterpolargl": [
           {
            "marker": {
             "colorbar": {
              "outlinewidth": 0,
              "ticks": ""
             }
            },
            "type": "scatterpolargl"
           }
          ],
          "scatterternary": [
           {
            "marker": {
             "colorbar": {
              "outlinewidth": 0,
              "ticks": ""
             }
            },
            "type": "scatterternary"
           }
          ],
          "surface": [
           {
            "colorbar": {
             "outlinewidth": 0,
             "ticks": ""
            },
            "colorscale": [
             [
              0,
              "#0d0887"
             ],
             [
              0.1111111111111111,
              "#46039f"
             ],
             [
              0.2222222222222222,
              "#7201a8"
             ],
             [
              0.3333333333333333,
              "#9c179e"
             ],
             [
              0.4444444444444444,
              "#bd3786"
             ],
             [
              0.5555555555555556,
              "#d8576b"
             ],
             [
              0.6666666666666666,
              "#ed7953"
             ],
             [
              0.7777777777777778,
              "#fb9f3a"
             ],
             [
              0.8888888888888888,
              "#fdca26"
             ],
             [
              1,
              "#f0f921"
             ]
            ],
            "type": "surface"
           }
          ],
          "table": [
           {
            "cells": {
             "fill": {
              "color": "#EBF0F8"
             },
             "line": {
              "color": "white"
             }
            },
            "header": {
             "fill": {
              "color": "#C8D4E3"
             },
             "line": {
              "color": "white"
             }
            },
            "type": "table"
           }
          ]
         },
         "layout": {
          "annotationdefaults": {
           "arrowcolor": "#2a3f5f",
           "arrowhead": 0,
           "arrowwidth": 1
          },
          "autotypenumbers": "strict",
          "coloraxis": {
           "colorbar": {
            "outlinewidth": 0,
            "ticks": ""
           }
          },
          "colorscale": {
           "diverging": [
            [
             0,
             "#8e0152"
            ],
            [
             0.1,
             "#c51b7d"
            ],
            [
             0.2,
             "#de77ae"
            ],
            [
             0.3,
             "#f1b6da"
            ],
            [
             0.4,
             "#fde0ef"
            ],
            [
             0.5,
             "#f7f7f7"
            ],
            [
             0.6,
             "#e6f5d0"
            ],
            [
             0.7,
             "#b8e186"
            ],
            [
             0.8,
             "#7fbc41"
            ],
            [
             0.9,
             "#4d9221"
            ],
            [
             1,
             "#276419"
            ]
           ],
           "sequential": [
            [
             0,
             "#0d0887"
            ],
            [
             0.1111111111111111,
             "#46039f"
            ],
            [
             0.2222222222222222,
             "#7201a8"
            ],
            [
             0.3333333333333333,
             "#9c179e"
            ],
            [
             0.4444444444444444,
             "#bd3786"
            ],
            [
             0.5555555555555556,
             "#d8576b"
            ],
            [
             0.6666666666666666,
             "#ed7953"
            ],
            [
             0.7777777777777778,
             "#fb9f3a"
            ],
            [
             0.8888888888888888,
             "#fdca26"
            ],
            [
             1,
             "#f0f921"
            ]
           ],
           "sequentialminus": [
            [
             0,
             "#0d0887"
            ],
            [
             0.1111111111111111,
             "#46039f"
            ],
            [
             0.2222222222222222,
             "#7201a8"
            ],
            [
             0.3333333333333333,
             "#9c179e"
            ],
            [
             0.4444444444444444,
             "#bd3786"
            ],
            [
             0.5555555555555556,
             "#d8576b"
            ],
            [
             0.6666666666666666,
             "#ed7953"
            ],
            [
             0.7777777777777778,
             "#fb9f3a"
            ],
            [
             0.8888888888888888,
             "#fdca26"
            ],
            [
             1,
             "#f0f921"
            ]
           ]
          },
          "colorway": [
           "#636efa",
           "#EF553B",
           "#00cc96",
           "#ab63fa",
           "#FFA15A",
           "#19d3f3",
           "#FF6692",
           "#B6E880",
           "#FF97FF",
           "#FECB52"
          ],
          "font": {
           "color": "#2a3f5f"
          },
          "geo": {
           "bgcolor": "white",
           "lakecolor": "white",
           "landcolor": "#E5ECF6",
           "showlakes": true,
           "showland": true,
           "subunitcolor": "white"
          },
          "hoverlabel": {
           "align": "left"
          },
          "hovermode": "closest",
          "mapbox": {
           "style": "light"
          },
          "paper_bgcolor": "white",
          "plot_bgcolor": "#E5ECF6",
          "polar": {
           "angularaxis": {
            "gridcolor": "white",
            "linecolor": "white",
            "ticks": ""
           },
           "bgcolor": "#E5ECF6",
           "radialaxis": {
            "gridcolor": "white",
            "linecolor": "white",
            "ticks": ""
           }
          },
          "scene": {
           "xaxis": {
            "backgroundcolor": "#E5ECF6",
            "gridcolor": "white",
            "gridwidth": 2,
            "linecolor": "white",
            "showbackground": true,
            "ticks": "",
            "zerolinecolor": "white"
           },
           "yaxis": {
            "backgroundcolor": "#E5ECF6",
            "gridcolor": "white",
            "gridwidth": 2,
            "linecolor": "white",
            "showbackground": true,
            "ticks": "",
            "zerolinecolor": "white"
           },
           "zaxis": {
            "backgroundcolor": "#E5ECF6",
            "gridcolor": "white",
            "gridwidth": 2,
            "linecolor": "white",
            "showbackground": true,
            "ticks": "",
            "zerolinecolor": "white"
           }
          },
          "shapedefaults": {
           "line": {
            "color": "#2a3f5f"
           }
          },
          "ternary": {
           "aaxis": {
            "gridcolor": "white",
            "linecolor": "white",
            "ticks": ""
           },
           "baxis": {
            "gridcolor": "white",
            "linecolor": "white",
            "ticks": ""
           },
           "bgcolor": "#E5ECF6",
           "caxis": {
            "gridcolor": "white",
            "linecolor": "white",
            "ticks": ""
           }
          },
          "title": {
           "x": 0.05
          },
          "xaxis": {
           "automargin": true,
           "gridcolor": "white",
           "linecolor": "white",
           "ticks": "",
           "title": {
            "standoff": 15
           },
           "zerolinecolor": "white",
           "zerolinewidth": 2
          },
          "yaxis": {
           "automargin": true,
           "gridcolor": "white",
           "linecolor": "white",
           "ticks": "",
           "title": {
            "standoff": 15
           },
           "zerolinecolor": "white",
           "zerolinewidth": 2
          }
         }
        },
        "title": {
         "text": "Metrics within Confusion Matrix w.r.t. Gender Differences"
        },
        "xaxis": {
         "title": {
          "text": "Sex"
         }
        },
        "yaxis": {
         "title": {
          "text": "Rate"
         }
        }
       }
      }
     },
     "metadata": {},
     "output_type": "display_data"
    }
   ],
   "source": [
    "# visualize the results\n",
    "fig = go.Figure()\n",
    "fig.add_trace(go.Bar(\n",
    "    x=list(tpr_sex.keys()),\n",
    "    y=list(tpr_sex.values()),\n",
    "    marker_color='#F3A291',\n",
    "    opacity=0.75,\n",
    "    name='true positive rate'\n",
    "))\n",
    "fig.add_trace(go.Bar(\n",
    "    x=list(fpr_sex.keys()),\n",
    "    y=list(fpr_sex.values()),\n",
    "    marker_color='#F3CA91',\n",
    "    opacity=0.75,\n",
    "    name='false positive rate'\n",
    "))\n",
    "fig.add_trace(go.Bar(\n",
    "    x=list(fnr_sex.keys()),\n",
    "    y=list(fnr_sex.values()),\n",
    "    marker_color='#CAF391',\n",
    "    opacity=0.75,\n",
    "    name='false negative rate'\n",
    "))\n",
    "fig.add_trace(go.Bar(\n",
    "    x=list(tnr_sex.keys()),\n",
    "    y=list(tnr_sex.values()),\n",
    "    marker_color='#91F3D1',\n",
    "    opacity=0.75,\n",
    "    name='true negative rate'\n",
    "))\n",
    "fig.update_layout(\n",
    "    title_text='Metrics within Confusion Matrix w.r.t. Gender Differences',\n",
    "    xaxis_title='Sex',\n",
    "    yaxis_title='Rate'\n",
    ")\n",
    "fig.write_image('../results/separation-sex.png', scale=3)\n",
    "fig.show()"
   ]
  },
  {
   "cell_type": "code",
   "execution_count": 22,
   "id": "768cfd36",
   "metadata": {},
   "outputs": [
    {
     "name": "stdout",
     "output_type": "stream",
     "text": [
      "\n",
      "\n",
      "\n",
      "*****************************************************\n",
      "**** Separation by Age:  Now for 10-20 years old ****\n",
      "------------- Confusion Matrix (Count) --------------\n",
      "                  Predictably Good    Predictably Bad\n",
      "--------------  ------------------  -----------------\n",
      "Factually Good                   0                  0\n",
      "Factually Bad                    0                  1\n",
      "-----------------------------------------------------\n",
      "\n",
      "\n",
      "------------- Confusion Matrix (Ratio) --------------\n",
      "                  Predictably Good    Predictably Bad\n",
      "--------------  ------------------  -----------------\n",
      "Factually Good                   0                  0\n",
      "Factually Bad                    0                  1\n",
      "-----------------------------------------------------\n",
      "*****************************************************\n",
      "\n",
      "\n",
      "\n",
      "\n",
      "\n",
      "\n",
      "*****************************************************\n",
      "**** Separation by Age:  Now for 20-30 years old ****\n",
      "------------- Confusion Matrix (Count) --------------\n",
      "                  Predictably Good    Predictably Bad\n",
      "--------------  ------------------  -----------------\n",
      "Factually Good                  15                 10\n",
      "Factually Bad                    9                 40\n",
      "-----------------------------------------------------\n",
      "\n",
      "\n",
      "------------- Confusion Matrix (Ratio) --------------\n",
      "                  Predictably Good    Predictably Bad\n",
      "--------------  ------------------  -----------------\n",
      "Factually Good              0.2027             0.1351\n",
      "Factually Bad               0.1216             0.5405\n",
      "-----------------------------------------------------\n",
      "*****************************************************\n",
      "\n",
      "\n",
      "\n",
      "\n",
      "\n",
      "\n",
      "*****************************************************\n",
      "**** Separation by Age:  Now for 30-40 years old ****\n",
      "------------- Confusion Matrix (Count) --------------\n",
      "                  Predictably Good    Predictably Bad\n",
      "--------------  ------------------  -----------------\n",
      "Factually Good                   7                 16\n",
      "Factually Bad                    4                 44\n",
      "-----------------------------------------------------\n",
      "\n",
      "\n",
      "------------- Confusion Matrix (Ratio) --------------\n",
      "                  Predictably Good    Predictably Bad\n",
      "--------------  ------------------  -----------------\n",
      "Factually Good              0.0986             0.2254\n",
      "Factually Bad               0.0563             0.6197\n",
      "-----------------------------------------------------\n",
      "*****************************************************\n",
      "\n",
      "\n",
      "\n",
      "\n",
      "\n",
      "\n",
      "*****************************************************\n",
      "**** Separation by Age:  Now for 40-50 years old ****\n",
      "------------- Confusion Matrix (Count) --------------\n",
      "                  Predictably Good    Predictably Bad\n",
      "--------------  ------------------  -----------------\n",
      "Factually Good                   5                  5\n",
      "Factually Bad                    0                 20\n",
      "-----------------------------------------------------\n",
      "\n",
      "\n",
      "------------- Confusion Matrix (Ratio) --------------\n",
      "                  Predictably Good    Predictably Bad\n",
      "--------------  ------------------  -----------------\n",
      "Factually Good              0.1667             0.1667\n",
      "Factually Bad               0                  0.6667\n",
      "-----------------------------------------------------\n",
      "*****************************************************\n",
      "\n",
      "\n",
      "\n",
      "\n",
      "\n",
      "\n",
      "*****************************************************\n",
      "**** Separation by Age:  Now for 50-60 years old ****\n",
      "------------- Confusion Matrix (Count) --------------\n",
      "                  Predictably Good    Predictably Bad\n",
      "--------------  ------------------  -----------------\n",
      "Factually Good                   2                  2\n",
      "Factually Bad                    1                  8\n",
      "-----------------------------------------------------\n",
      "\n",
      "\n",
      "------------- Confusion Matrix (Ratio) --------------\n",
      "                  Predictably Good    Predictably Bad\n",
      "--------------  ------------------  -----------------\n",
      "Factually Good              0.1538             0.1538\n",
      "Factually Bad               0.0769             0.6154\n",
      "-----------------------------------------------------\n",
      "*****************************************************\n",
      "\n",
      "\n",
      "\n",
      "\n",
      "\n",
      "\n",
      "*****************************************************\n",
      "**** Separation by Age:  Now for 60-70 years old ****\n",
      "------------- Confusion Matrix (Count) --------------\n",
      "                  Predictably Good    Predictably Bad\n",
      "--------------  ------------------  -----------------\n",
      "Factually Good                   3                  1\n",
      "Factually Bad                    4                  2\n",
      "-----------------------------------------------------\n",
      "\n",
      "\n",
      "------------- Confusion Matrix (Ratio) --------------\n",
      "                  Predictably Good    Predictably Bad\n",
      "--------------  ------------------  -----------------\n",
      "Factually Good                 0.3                0.1\n",
      "Factually Bad                  0.4                0.2\n",
      "-----------------------------------------------------\n",
      "*****************************************************\n",
      "\n",
      "\n",
      "\n",
      "\n",
      "\n",
      "\n",
      "*****************************************************\n",
      "**** Separation by Age:  Now for 70-80 years old ****\n",
      "------------- Confusion Matrix (Count) --------------\n",
      "                  Predictably Good    Predictably Bad\n",
      "--------------  ------------------  -----------------\n",
      "Factually Good                   0                  0\n",
      "Factually Bad                    0                  1\n",
      "-----------------------------------------------------\n",
      "\n",
      "\n",
      "------------- Confusion Matrix (Ratio) --------------\n",
      "                  Predictably Good    Predictably Bad\n",
      "--------------  ------------------  -----------------\n",
      "Factually Good                   0                  0\n",
      "Factually Bad                    0                  1\n",
      "-----------------------------------------------------\n",
      "*****************************************************\n",
      "\n",
      "\n",
      "\n"
     ]
    }
   ],
   "source": [
    "# separation for Age\n",
    "tpr_age, fpr_age, fnr_age, tnr_age  = dict(), dict(), dict(), dict()\n",
    "for i in range(age_group_count):\n",
    "    left, right = min_age + 10 * i, min_age + 10 * (i + 1)\n",
    "    key_name = '%d-%d' % (left, right)\n",
    "    print(\"\\n\\n\\n*****************************************************\")\n",
    "    print(f\"**** Separation by Age:  Now for {key_name} years old ****\")\n",
    "    tpr_age[key_name], fpr_age[key_name], fnr_age[key_name], tnr_age[key_name]= seperate_by_attr('Age', left, val_full, true_col, pred_col, right)\n",
    "    print(\"*****************************************************\\n\\n\\n\")"
   ]
  },
  {
   "cell_type": "code",
   "execution_count": 23,
   "id": "766c033e",
   "metadata": {},
   "outputs": [
    {
     "data": {
      "application/vnd.plotly.v1+json": {
       "config": {
        "plotlyServerURL": "https://plot.ly"
       },
       "data": [
        {
         "marker": {
          "color": "#F3A291"
         },
         "name": "true positive rate",
         "opacity": 0.75,
         "type": "bar",
         "x": [
          "10-20",
          "20-30",
          "30-40",
          "40-50",
          "50-60",
          "60-70",
          "70-80"
         ],
         "y": [
          0,
          0.20270270270270271,
          0.09859154929577464,
          0.16666666666666666,
          0.15384615384615385,
          0.3,
          0
         ]
        },
        {
         "marker": {
          "color": "#F3CA91"
         },
         "name": "false positive rate",
         "opacity": 0.75,
         "type": "bar",
         "x": [
          "10-20",
          "20-30",
          "30-40",
          "40-50",
          "50-60",
          "60-70",
          "70-80"
         ],
         "y": [
          0,
          0.12162162162162163,
          0.056338028169014086,
          0,
          0.07692307692307693,
          0.4,
          0
         ]
        },
        {
         "marker": {
          "color": "#CAF391"
         },
         "name": "false negative rate",
         "opacity": 0.75,
         "type": "bar",
         "x": [
          "10-20",
          "20-30",
          "30-40",
          "40-50",
          "50-60",
          "60-70",
          "70-80"
         ],
         "y": [
          0,
          0.13513513513513514,
          0.22535211267605634,
          0.16666666666666666,
          0.15384615384615385,
          0.1,
          0
         ]
        },
        {
         "marker": {
          "color": "#91F3D1"
         },
         "name": "true negative rate",
         "opacity": 0.75,
         "type": "bar",
         "x": [
          "10-20",
          "20-30",
          "30-40",
          "40-50",
          "50-60",
          "60-70",
          "70-80"
         ],
         "y": [
          1,
          0.5405405405405406,
          0.6197183098591549,
          0.6666666666666666,
          0.6153846153846154,
          0.2,
          1
         ]
        }
       ],
       "layout": {
        "template": {
         "data": {
          "bar": [
           {
            "error_x": {
             "color": "#2a3f5f"
            },
            "error_y": {
             "color": "#2a3f5f"
            },
            "marker": {
             "line": {
              "color": "#E5ECF6",
              "width": 0.5
             },
             "pattern": {
              "fillmode": "overlay",
              "size": 10,
              "solidity": 0.2
             }
            },
            "type": "bar"
           }
          ],
          "barpolar": [
           {
            "marker": {
             "line": {
              "color": "#E5ECF6",
              "width": 0.5
             },
             "pattern": {
              "fillmode": "overlay",
              "size": 10,
              "solidity": 0.2
             }
            },
            "type": "barpolar"
           }
          ],
          "carpet": [
           {
            "aaxis": {
             "endlinecolor": "#2a3f5f",
             "gridcolor": "white",
             "linecolor": "white",
             "minorgridcolor": "white",
             "startlinecolor": "#2a3f5f"
            },
            "baxis": {
             "endlinecolor": "#2a3f5f",
             "gridcolor": "white",
             "linecolor": "white",
             "minorgridcolor": "white",
             "startlinecolor": "#2a3f5f"
            },
            "type": "carpet"
           }
          ],
          "choropleth": [
           {
            "colorbar": {
             "outlinewidth": 0,
             "ticks": ""
            },
            "type": "choropleth"
           }
          ],
          "contour": [
           {
            "colorbar": {
             "outlinewidth": 0,
             "ticks": ""
            },
            "colorscale": [
             [
              0,
              "#0d0887"
             ],
             [
              0.1111111111111111,
              "#46039f"
             ],
             [
              0.2222222222222222,
              "#7201a8"
             ],
             [
              0.3333333333333333,
              "#9c179e"
             ],
             [
              0.4444444444444444,
              "#bd3786"
             ],
             [
              0.5555555555555556,
              "#d8576b"
             ],
             [
              0.6666666666666666,
              "#ed7953"
             ],
             [
              0.7777777777777778,
              "#fb9f3a"
             ],
             [
              0.8888888888888888,
              "#fdca26"
             ],
             [
              1,
              "#f0f921"
             ]
            ],
            "type": "contour"
           }
          ],
          "contourcarpet": [
           {
            "colorbar": {
             "outlinewidth": 0,
             "ticks": ""
            },
            "type": "contourcarpet"
           }
          ],
          "heatmap": [
           {
            "colorbar": {
             "outlinewidth": 0,
             "ticks": ""
            },
            "colorscale": [
             [
              0,
              "#0d0887"
             ],
             [
              0.1111111111111111,
              "#46039f"
             ],
             [
              0.2222222222222222,
              "#7201a8"
             ],
             [
              0.3333333333333333,
              "#9c179e"
             ],
             [
              0.4444444444444444,
              "#bd3786"
             ],
             [
              0.5555555555555556,
              "#d8576b"
             ],
             [
              0.6666666666666666,
              "#ed7953"
             ],
             [
              0.7777777777777778,
              "#fb9f3a"
             ],
             [
              0.8888888888888888,
              "#fdca26"
             ],
             [
              1,
              "#f0f921"
             ]
            ],
            "type": "heatmap"
           }
          ],
          "heatmapgl": [
           {
            "colorbar": {
             "outlinewidth": 0,
             "ticks": ""
            },
            "colorscale": [
             [
              0,
              "#0d0887"
             ],
             [
              0.1111111111111111,
              "#46039f"
             ],
             [
              0.2222222222222222,
              "#7201a8"
             ],
             [
              0.3333333333333333,
              "#9c179e"
             ],
             [
              0.4444444444444444,
              "#bd3786"
             ],
             [
              0.5555555555555556,
              "#d8576b"
             ],
             [
              0.6666666666666666,
              "#ed7953"
             ],
             [
              0.7777777777777778,
              "#fb9f3a"
             ],
             [
              0.8888888888888888,
              "#fdca26"
             ],
             [
              1,
              "#f0f921"
             ]
            ],
            "type": "heatmapgl"
           }
          ],
          "histogram": [
           {
            "marker": {
             "pattern": {
              "fillmode": "overlay",
              "size": 10,
              "solidity": 0.2
             }
            },
            "type": "histogram"
           }
          ],
          "histogram2d": [
           {
            "colorbar": {
             "outlinewidth": 0,
             "ticks": ""
            },
            "colorscale": [
             [
              0,
              "#0d0887"
             ],
             [
              0.1111111111111111,
              "#46039f"
             ],
             [
              0.2222222222222222,
              "#7201a8"
             ],
             [
              0.3333333333333333,
              "#9c179e"
             ],
             [
              0.4444444444444444,
              "#bd3786"
             ],
             [
              0.5555555555555556,
              "#d8576b"
             ],
             [
              0.6666666666666666,
              "#ed7953"
             ],
             [
              0.7777777777777778,
              "#fb9f3a"
             ],
             [
              0.8888888888888888,
              "#fdca26"
             ],
             [
              1,
              "#f0f921"
             ]
            ],
            "type": "histogram2d"
           }
          ],
          "histogram2dcontour": [
           {
            "colorbar": {
             "outlinewidth": 0,
             "ticks": ""
            },
            "colorscale": [
             [
              0,
              "#0d0887"
             ],
             [
              0.1111111111111111,
              "#46039f"
             ],
             [
              0.2222222222222222,
              "#7201a8"
             ],
             [
              0.3333333333333333,
              "#9c179e"
             ],
             [
              0.4444444444444444,
              "#bd3786"
             ],
             [
              0.5555555555555556,
              "#d8576b"
             ],
             [
              0.6666666666666666,
              "#ed7953"
             ],
             [
              0.7777777777777778,
              "#fb9f3a"
             ],
             [
              0.8888888888888888,
              "#fdca26"
             ],
             [
              1,
              "#f0f921"
             ]
            ],
            "type": "histogram2dcontour"
           }
          ],
          "mesh3d": [
           {
            "colorbar": {
             "outlinewidth": 0,
             "ticks": ""
            },
            "type": "mesh3d"
           }
          ],
          "parcoords": [
           {
            "line": {
             "colorbar": {
              "outlinewidth": 0,
              "ticks": ""
             }
            },
            "type": "parcoords"
           }
          ],
          "pie": [
           {
            "automargin": true,
            "type": "pie"
           }
          ],
          "scatter": [
           {
            "fillpattern": {
             "fillmode": "overlay",
             "size": 10,
             "solidity": 0.2
            },
            "type": "scatter"
           }
          ],
          "scatter3d": [
           {
            "line": {
             "colorbar": {
              "outlinewidth": 0,
              "ticks": ""
             }
            },
            "marker": {
             "colorbar": {
              "outlinewidth": 0,
              "ticks": ""
             }
            },
            "type": "scatter3d"
           }
          ],
          "scattercarpet": [
           {
            "marker": {
             "colorbar": {
              "outlinewidth": 0,
              "ticks": ""
             }
            },
            "type": "scattercarpet"
           }
          ],
          "scattergeo": [
           {
            "marker": {
             "colorbar": {
              "outlinewidth": 0,
              "ticks": ""
             }
            },
            "type": "scattergeo"
           }
          ],
          "scattergl": [
           {
            "marker": {
             "colorbar": {
              "outlinewidth": 0,
              "ticks": ""
             }
            },
            "type": "scattergl"
           }
          ],
          "scattermapbox": [
           {
            "marker": {
             "colorbar": {
              "outlinewidth": 0,
              "ticks": ""
             }
            },
            "type": "scattermapbox"
           }
          ],
          "scatterpolar": [
           {
            "marker": {
             "colorbar": {
              "outlinewidth": 0,
              "ticks": ""
             }
            },
            "type": "scatterpolar"
           }
          ],
          "scatterpolargl": [
           {
            "marker": {
             "colorbar": {
              "outlinewidth": 0,
              "ticks": ""
             }
            },
            "type": "scatterpolargl"
           }
          ],
          "scatterternary": [
           {
            "marker": {
             "colorbar": {
              "outlinewidth": 0,
              "ticks": ""
             }
            },
            "type": "scatterternary"
           }
          ],
          "surface": [
           {
            "colorbar": {
             "outlinewidth": 0,
             "ticks": ""
            },
            "colorscale": [
             [
              0,
              "#0d0887"
             ],
             [
              0.1111111111111111,
              "#46039f"
             ],
             [
              0.2222222222222222,
              "#7201a8"
             ],
             [
              0.3333333333333333,
              "#9c179e"
             ],
             [
              0.4444444444444444,
              "#bd3786"
             ],
             [
              0.5555555555555556,
              "#d8576b"
             ],
             [
              0.6666666666666666,
              "#ed7953"
             ],
             [
              0.7777777777777778,
              "#fb9f3a"
             ],
             [
              0.8888888888888888,
              "#fdca26"
             ],
             [
              1,
              "#f0f921"
             ]
            ],
            "type": "surface"
           }
          ],
          "table": [
           {
            "cells": {
             "fill": {
              "color": "#EBF0F8"
             },
             "line": {
              "color": "white"
             }
            },
            "header": {
             "fill": {
              "color": "#C8D4E3"
             },
             "line": {
              "color": "white"
             }
            },
            "type": "table"
           }
          ]
         },
         "layout": {
          "annotationdefaults": {
           "arrowcolor": "#2a3f5f",
           "arrowhead": 0,
           "arrowwidth": 1
          },
          "autotypenumbers": "strict",
          "coloraxis": {
           "colorbar": {
            "outlinewidth": 0,
            "ticks": ""
           }
          },
          "colorscale": {
           "diverging": [
            [
             0,
             "#8e0152"
            ],
            [
             0.1,
             "#c51b7d"
            ],
            [
             0.2,
             "#de77ae"
            ],
            [
             0.3,
             "#f1b6da"
            ],
            [
             0.4,
             "#fde0ef"
            ],
            [
             0.5,
             "#f7f7f7"
            ],
            [
             0.6,
             "#e6f5d0"
            ],
            [
             0.7,
             "#b8e186"
            ],
            [
             0.8,
             "#7fbc41"
            ],
            [
             0.9,
             "#4d9221"
            ],
            [
             1,
             "#276419"
            ]
           ],
           "sequential": [
            [
             0,
             "#0d0887"
            ],
            [
             0.1111111111111111,
             "#46039f"
            ],
            [
             0.2222222222222222,
             "#7201a8"
            ],
            [
             0.3333333333333333,
             "#9c179e"
            ],
            [
             0.4444444444444444,
             "#bd3786"
            ],
            [
             0.5555555555555556,
             "#d8576b"
            ],
            [
             0.6666666666666666,
             "#ed7953"
            ],
            [
             0.7777777777777778,
             "#fb9f3a"
            ],
            [
             0.8888888888888888,
             "#fdca26"
            ],
            [
             1,
             "#f0f921"
            ]
           ],
           "sequentialminus": [
            [
             0,
             "#0d0887"
            ],
            [
             0.1111111111111111,
             "#46039f"
            ],
            [
             0.2222222222222222,
             "#7201a8"
            ],
            [
             0.3333333333333333,
             "#9c179e"
            ],
            [
             0.4444444444444444,
             "#bd3786"
            ],
            [
             0.5555555555555556,
             "#d8576b"
            ],
            [
             0.6666666666666666,
             "#ed7953"
            ],
            [
             0.7777777777777778,
             "#fb9f3a"
            ],
            [
             0.8888888888888888,
             "#fdca26"
            ],
            [
             1,
             "#f0f921"
            ]
           ]
          },
          "colorway": [
           "#636efa",
           "#EF553B",
           "#00cc96",
           "#ab63fa",
           "#FFA15A",
           "#19d3f3",
           "#FF6692",
           "#B6E880",
           "#FF97FF",
           "#FECB52"
          ],
          "font": {
           "color": "#2a3f5f"
          },
          "geo": {
           "bgcolor": "white",
           "lakecolor": "white",
           "landcolor": "#E5ECF6",
           "showlakes": true,
           "showland": true,
           "subunitcolor": "white"
          },
          "hoverlabel": {
           "align": "left"
          },
          "hovermode": "closest",
          "mapbox": {
           "style": "light"
          },
          "paper_bgcolor": "white",
          "plot_bgcolor": "#E5ECF6",
          "polar": {
           "angularaxis": {
            "gridcolor": "white",
            "linecolor": "white",
            "ticks": ""
           },
           "bgcolor": "#E5ECF6",
           "radialaxis": {
            "gridcolor": "white",
            "linecolor": "white",
            "ticks": ""
           }
          },
          "scene": {
           "xaxis": {
            "backgroundcolor": "#E5ECF6",
            "gridcolor": "white",
            "gridwidth": 2,
            "linecolor": "white",
            "showbackground": true,
            "ticks": "",
            "zerolinecolor": "white"
           },
           "yaxis": {
            "backgroundcolor": "#E5ECF6",
            "gridcolor": "white",
            "gridwidth": 2,
            "linecolor": "white",
            "showbackground": true,
            "ticks": "",
            "zerolinecolor": "white"
           },
           "zaxis": {
            "backgroundcolor": "#E5ECF6",
            "gridcolor": "white",
            "gridwidth": 2,
            "linecolor": "white",
            "showbackground": true,
            "ticks": "",
            "zerolinecolor": "white"
           }
          },
          "shapedefaults": {
           "line": {
            "color": "#2a3f5f"
           }
          },
          "ternary": {
           "aaxis": {
            "gridcolor": "white",
            "linecolor": "white",
            "ticks": ""
           },
           "baxis": {
            "gridcolor": "white",
            "linecolor": "white",
            "ticks": ""
           },
           "bgcolor": "#E5ECF6",
           "caxis": {
            "gridcolor": "white",
            "linecolor": "white",
            "ticks": ""
           }
          },
          "title": {
           "x": 0.05
          },
          "xaxis": {
           "automargin": true,
           "gridcolor": "white",
           "linecolor": "white",
           "ticks": "",
           "title": {
            "standoff": 15
           },
           "zerolinecolor": "white",
           "zerolinewidth": 2
          },
          "yaxis": {
           "automargin": true,
           "gridcolor": "white",
           "linecolor": "white",
           "ticks": "",
           "title": {
            "standoff": 15
           },
           "zerolinecolor": "white",
           "zerolinewidth": 2
          }
         }
        },
        "title": {
         "text": "Metrics within Confusion Matrix w.r.t. Age Differences"
        },
        "xaxis": {
         "title": {
          "text": "Age"
         }
        },
        "yaxis": {
         "title": {
          "text": "Rate"
         }
        }
       }
      }
     },
     "metadata": {},
     "output_type": "display_data"
    }
   ],
   "source": [
    "# visualize the results\n",
    "fig = go.Figure()\n",
    "fig.add_trace(go.Bar(\n",
    "    x=list(tpr_age.keys()),\n",
    "    y=list(tpr_age.values()),\n",
    "    marker_color='#F3A291',\n",
    "    opacity=0.75,\n",
    "    name='true positive rate'\n",
    "))\n",
    "fig.add_trace(go.Bar(\n",
    "    x=list(fpr_age.keys()),\n",
    "    y=list(fpr_age.values()),\n",
    "    marker_color='#F3CA91',\n",
    "    opacity=0.75,\n",
    "    name='false positive rate'\n",
    "))\n",
    "fig.add_trace(go.Bar(\n",
    "    x=list(fnr_age.keys()),\n",
    "    y=list(fnr_age.values()),\n",
    "    marker_color='#CAF391',\n",
    "    opacity=0.75,\n",
    "    name='false negative rate'\n",
    "))\n",
    "fig.add_trace(go.Bar(\n",
    "    x=list(tnr_age.keys()),\n",
    "    y=list(tnr_age.values()),\n",
    "    marker_color='#91F3D1',\n",
    "    opacity=0.75,\n",
    "    name='true negative rate'\n",
    "))\n",
    "fig.update_layout(\n",
    "    title_text='Metrics within Confusion Matrix w.r.t. Age Differences',\n",
    "    xaxis_title='Age',\n",
    "    yaxis_title='Rate'\n",
    ")\n",
    "fig.write_image('../results/separation-age.png', scale=3)\n",
    "fig.show()"
   ]
  }
 ],
 "metadata": {
  "kernelspec": {
   "display_name": "Python 3 (ipykernel)",
   "language": "python",
   "name": "python3"
  },
  "language_info": {
   "codemirror_mode": {
    "name": "ipython",
    "version": 3
   },
   "file_extension": ".py",
   "mimetype": "text/x-python",
   "name": "python",
   "nbconvert_exporter": "python",
   "pygments_lexer": "ipython3",
   "version": "3.9.10"
  }
 },
 "nbformat": 4,
 "nbformat_minor": 5
}
